{
 "cells": [
  {
   "cell_type": "markdown",
   "metadata": {},
   "source": [
    "# AirBnB Pricing Recommender for Tokyo\n",
    "\n",
    "This notebook will focus on pre-processing the data to prepare it for exploratory data analysis and modeling."
   ]
  },
  {
   "cell_type": "code",
   "execution_count": 2,
   "metadata": {},
   "outputs": [],
   "source": [
    "import pandas as pd\n",
    "import numpy as np\n",
    "import matplotlib.pyplot as plt\n",
    "import seaborn as sns\n",
    "\n",
    "import sklearn\n",
    "from sklearn.linear_model import LinearRegression, Lasso, LassoCV, Ridge, RidgeCV\n",
    "from sklearn.linear_model import RidgeCV\n",
    "from sklearn.model_selection import train_test_split\n",
    "from sklearn.pipeline import Pipeline\n",
    "from sklearn.preprocessing import StandardScaler\n",
    "from sklearn.preprocessing import PolynomialFeatures\n",
    "from sklearn.pipeline import make_pipeline\n",
    "from sklearn import metrics\n",
    "from sklearn.model_selection import KFold\n",
    "from sklearn.model_selection import cross_val_score\n",
    "from sklearn.metrics import explained_variance_score, mean_absolute_error, r2_score\n",
    "\n",
    "import xgboost as xgb\n",
    "from xgboost import plot_importance\n",
    "\n",
    "%matplotlib inline"
   ]
  },
  {
   "cell_type": "code",
   "execution_count": 3,
   "metadata": {
    "scrolled": true
   },
   "outputs": [],
   "source": [
    "df = pd.read_pickle('with_scores.pkl')"
   ]
  },
  {
   "cell_type": "code",
   "execution_count": 4,
   "metadata": {
    "scrolled": true
   },
   "outputs": [
    {
     "data": {
      "text/html": [
       "<div>\n",
       "<style scoped>\n",
       "    .dataframe tbody tr th:only-of-type {\n",
       "        vertical-align: middle;\n",
       "    }\n",
       "\n",
       "    .dataframe tbody tr th {\n",
       "        vertical-align: top;\n",
       "    }\n",
       "\n",
       "    .dataframe thead th {\n",
       "        text-align: right;\n",
       "    }\n",
       "</style>\n",
       "<table border=\"1\" class=\"dataframe\">\n",
       "  <thead>\n",
       "    <tr style=\"text-align: right;\">\n",
       "      <th></th>\n",
       "      <th>id</th>\n",
       "      <th>listing_url</th>\n",
       "      <th>scrape_id</th>\n",
       "      <th>last_scraped</th>\n",
       "      <th>name</th>\n",
       "      <th>summary</th>\n",
       "      <th>space</th>\n",
       "      <th>description</th>\n",
       "      <th>experiences_offered</th>\n",
       "      <th>neighborhood_overview</th>\n",
       "      <th>...</th>\n",
       "      <th>require_guest_profile_picture</th>\n",
       "      <th>require_guest_phone_verification</th>\n",
       "      <th>calculated_host_listings_count</th>\n",
       "      <th>calculated_host_listings_count_entire_homes</th>\n",
       "      <th>calculated_host_listings_count_private_rooms</th>\n",
       "      <th>calculated_host_listings_count_shared_rooms</th>\n",
       "      <th>reviews_per_month</th>\n",
       "      <th>neg_score</th>\n",
       "      <th>neu_score</th>\n",
       "      <th>pos_score</th>\n",
       "    </tr>\n",
       "  </thead>\n",
       "  <tbody>\n",
       "    <tr>\n",
       "      <th>0</th>\n",
       "      <td>197677</td>\n",
       "      <td>https://www.airbnb.com/rooms/197677</td>\n",
       "      <td>20190928054933</td>\n",
       "      <td>2019-09-28</td>\n",
       "      <td>Oshiage Holiday Apartment</td>\n",
       "      <td>NaN</td>\n",
       "      <td>We are happy to welcome you to our apartment, ...</td>\n",
       "      <td>We are happy to welcome you to our apartment, ...</td>\n",
       "      <td>none</td>\n",
       "      <td>NaN</td>\n",
       "      <td>...</td>\n",
       "      <td>f</td>\n",
       "      <td>f</td>\n",
       "      <td>1</td>\n",
       "      <td>1</td>\n",
       "      <td>0</td>\n",
       "      <td>0</td>\n",
       "      <td>1.63</td>\n",
       "      <td>0.000</td>\n",
       "      <td>1.000</td>\n",
       "      <td>0.000</td>\n",
       "    </tr>\n",
       "    <tr>\n",
       "      <th>1</th>\n",
       "      <td>776070</td>\n",
       "      <td>https://www.airbnb.com/rooms/776070</td>\n",
       "      <td>20190928054933</td>\n",
       "      <td>2019-09-28</td>\n",
       "      <td>Kero-kero house room 1</td>\n",
       "      <td>We have been in airbnb since 2011 and it has g...</td>\n",
       "      <td>INTRO ε(*´･･`)зﾞHey\"ε(´･･`*)з *TAKE NOTE*  Jus...</td>\n",
       "      <td>We have been in airbnb since 2011 and it has g...</td>\n",
       "      <td>none</td>\n",
       "      <td>We love Nishinippori because is nearer to Toky...</td>\n",
       "      <td>...</td>\n",
       "      <td>t</td>\n",
       "      <td>t</td>\n",
       "      <td>1</td>\n",
       "      <td>0</td>\n",
       "      <td>1</td>\n",
       "      <td>0</td>\n",
       "      <td>2.64</td>\n",
       "      <td>0.025</td>\n",
       "      <td>0.640</td>\n",
       "      <td>0.335</td>\n",
       "    </tr>\n",
       "    <tr>\n",
       "      <th>2</th>\n",
       "      <td>905944</td>\n",
       "      <td>https://www.airbnb.com/rooms/905944</td>\n",
       "      <td>20190928054933</td>\n",
       "      <td>2019-09-28</td>\n",
       "      <td>4F - Near Shinjuku &amp; Shibuya w/Free WiFi</td>\n",
       "      <td>License M (Phone number hidden by Airbnb) Enti...</td>\n",
       "      <td>Welcome and thank you for reading the details ...</td>\n",
       "      <td>License M (Phone number hidden by Airbnb) Enti...</td>\n",
       "      <td>none</td>\n",
       "      <td>Hatagaya is a great neighborhood located 4 min...</td>\n",
       "      <td>...</td>\n",
       "      <td>f</td>\n",
       "      <td>f</td>\n",
       "      <td>8</td>\n",
       "      <td>7</td>\n",
       "      <td>1</td>\n",
       "      <td>0</td>\n",
       "      <td>2.24</td>\n",
       "      <td>0.048</td>\n",
       "      <td>0.685</td>\n",
       "      <td>0.268</td>\n",
       "    </tr>\n",
       "    <tr>\n",
       "      <th>3</th>\n",
       "      <td>1016831</td>\n",
       "      <td>https://www.airbnb.com/rooms/1016831</td>\n",
       "      <td>20190928054933</td>\n",
       "      <td>2019-09-28</td>\n",
       "      <td>WOMAN ONLY LICENSED ! Cosy &amp; Cat behnd Shibuya</td>\n",
       "      <td>female travellers here only. Sorry no boys and...</td>\n",
       "      <td>We offer quite and peaceful private 6 tatami r...</td>\n",
       "      <td>female travellers here only. Sorry no boys and...</td>\n",
       "      <td>none</td>\n",
       "      <td>The location is walkable distance to famous Sh...</td>\n",
       "      <td>...</td>\n",
       "      <td>t</td>\n",
       "      <td>t</td>\n",
       "      <td>1</td>\n",
       "      <td>0</td>\n",
       "      <td>1</td>\n",
       "      <td>0</td>\n",
       "      <td>2.55</td>\n",
       "      <td>0.000</td>\n",
       "      <td>1.000</td>\n",
       "      <td>0.000</td>\n",
       "    </tr>\n",
       "    <tr>\n",
       "      <th>4</th>\n",
       "      <td>1096292</td>\n",
       "      <td>https://www.airbnb.com/rooms/1096292</td>\n",
       "      <td>20190928054933</td>\n",
       "      <td>2019-09-28</td>\n",
       "      <td>Home stay with a Japanese language teacher fam...</td>\n",
       "      <td>★*:.★*:.  Must Read .:*★.:*★ *:.This price is ...</td>\n",
       "      <td>★*:.★*:.  Must Read 2 .:*★.:*★ *:.We don't wan...</td>\n",
       "      <td>★*:.★*:.  Must Read .:*★.:*★ *:.This price is ...</td>\n",
       "      <td>none</td>\n",
       "      <td>NaN</td>\n",
       "      <td>...</td>\n",
       "      <td>f</td>\n",
       "      <td>f</td>\n",
       "      <td>2</td>\n",
       "      <td>0</td>\n",
       "      <td>2</td>\n",
       "      <td>0</td>\n",
       "      <td>3.22</td>\n",
       "      <td>0.000</td>\n",
       "      <td>0.776</td>\n",
       "      <td>0.224</td>\n",
       "    </tr>\n",
       "  </tbody>\n",
       "</table>\n",
       "<p>5 rows × 109 columns</p>\n",
       "</div>"
      ],
      "text/plain": [
       "        id                           listing_url       scrape_id last_scraped  \\\n",
       "0   197677   https://www.airbnb.com/rooms/197677  20190928054933   2019-09-28   \n",
       "1   776070   https://www.airbnb.com/rooms/776070  20190928054933   2019-09-28   \n",
       "2   905944   https://www.airbnb.com/rooms/905944  20190928054933   2019-09-28   \n",
       "3  1016831  https://www.airbnb.com/rooms/1016831  20190928054933   2019-09-28   \n",
       "4  1096292  https://www.airbnb.com/rooms/1096292  20190928054933   2019-09-28   \n",
       "\n",
       "                                                name  \\\n",
       "0                          Oshiage Holiday Apartment   \n",
       "1                             Kero-kero house room 1   \n",
       "2           4F - Near Shinjuku & Shibuya w/Free WiFi   \n",
       "3     WOMAN ONLY LICENSED ! Cosy & Cat behnd Shibuya   \n",
       "4  Home stay with a Japanese language teacher fam...   \n",
       "\n",
       "                                             summary  \\\n",
       "0                                                NaN   \n",
       "1  We have been in airbnb since 2011 and it has g...   \n",
       "2  License M (Phone number hidden by Airbnb) Enti...   \n",
       "3  female travellers here only. Sorry no boys and...   \n",
       "4  ★*:.★*:.  Must Read .:*★.:*★ *:.This price is ...   \n",
       "\n",
       "                                               space  \\\n",
       "0  We are happy to welcome you to our apartment, ...   \n",
       "1  INTRO ε(*´･･`)зﾞHey\"ε(´･･`*)з *TAKE NOTE*  Jus...   \n",
       "2  Welcome and thank you for reading the details ...   \n",
       "3  We offer quite and peaceful private 6 tatami r...   \n",
       "4  ★*:.★*:.  Must Read 2 .:*★.:*★ *:.We don't wan...   \n",
       "\n",
       "                                         description experiences_offered  \\\n",
       "0  We are happy to welcome you to our apartment, ...                none   \n",
       "1  We have been in airbnb since 2011 and it has g...                none   \n",
       "2  License M (Phone number hidden by Airbnb) Enti...                none   \n",
       "3  female travellers here only. Sorry no boys and...                none   \n",
       "4  ★*:.★*:.  Must Read .:*★.:*★ *:.This price is ...                none   \n",
       "\n",
       "                               neighborhood_overview  ...  \\\n",
       "0                                                NaN  ...   \n",
       "1  We love Nishinippori because is nearer to Toky...  ...   \n",
       "2  Hatagaya is a great neighborhood located 4 min...  ...   \n",
       "3  The location is walkable distance to famous Sh...  ...   \n",
       "4                                                NaN  ...   \n",
       "\n",
       "  require_guest_profile_picture require_guest_phone_verification  \\\n",
       "0                             f                                f   \n",
       "1                             t                                t   \n",
       "2                             f                                f   \n",
       "3                             t                                t   \n",
       "4                             f                                f   \n",
       "\n",
       "  calculated_host_listings_count calculated_host_listings_count_entire_homes  \\\n",
       "0                              1                                           1   \n",
       "1                              1                                           0   \n",
       "2                              8                                           7   \n",
       "3                              1                                           0   \n",
       "4                              2                                           0   \n",
       "\n",
       "  calculated_host_listings_count_private_rooms  \\\n",
       "0                                            0   \n",
       "1                                            1   \n",
       "2                                            1   \n",
       "3                                            1   \n",
       "4                                            2   \n",
       "\n",
       "   calculated_host_listings_count_shared_rooms  reviews_per_month neg_score  \\\n",
       "0                                            0               1.63     0.000   \n",
       "1                                            0               2.64     0.025   \n",
       "2                                            0               2.24     0.048   \n",
       "3                                            0               2.55     0.000   \n",
       "4                                            0               3.22     0.000   \n",
       "\n",
       "   neu_score  pos_score  \n",
       "0      1.000      0.000  \n",
       "1      0.640      0.335  \n",
       "2      0.685      0.268  \n",
       "3      1.000      0.000  \n",
       "4      0.776      0.224  \n",
       "\n",
       "[5 rows x 109 columns]"
      ]
     },
     "execution_count": 4,
     "metadata": {},
     "output_type": "execute_result"
    }
   ],
   "source": [
    "df.head()"
   ]
  },
  {
   "cell_type": "markdown",
   "metadata": {},
   "source": [
    "## Description of each column:\n",
    "- **experiences_offered** - slightly unclear as it does not appear to directly relate to Airbnb - Experiences, but this seems to be the main recommended category of travel type, e.g. business  \n",
    "    \n",
    "- **host_since** - date that the host first joined Airbnb\n",
    "- **host_response_time** - average amount of time the host takes to reply to messages\n",
    "- **host_response_rate** - proportion of messages that the host replies to\n",
    "- **host_is_superhost** - whether or not the host is a superhost, which is a mark of quality for the top-rated and most experienced hosts, and can increase your search ranking on Airbnb\n",
    "- **host_listings_count** - how many listings the host has in total\n",
    "- **host_identity_verified** - whether or not the host has been verified with id\n",
    "- **neighbourhood_cleansed** - the London borough the property is in\n",
    "- **property_type** - type of property, e.g. house or flat\n",
    "- **room_type** - type of listing, e.g. entire home, private room or shared room\n",
    "- **accommodates** - how many people the property accommodates\n",
    "- **bathrooms** - number of bathrooms\n",
    "- **bedrooms** - number of bedrooms\n",
    "- **beds** - number of beds\n",
    "- **bed_type** - type of bed, e.g. real bed or sofa-bed\n",
    "- **amenities** - list of amenities\n",
    "- **price** - nightly advertised price (the target variable)\n",
    "- **security_deposit** - the amount required as a security deposit\n",
    "- **cleaning_fee** - the amount of the cleaning fee (a fixed amount paid per booking)\n",
    "- **guests_included** - the number of guests included in the booking fee\n",
    "- **extra_people** - the price per additional guest above the guests_included price\n",
    "- **minimum_nights** - the minimum length of stay\n",
    "- **maximum_nights** - the maximum length of stay\n",
    "- **calendar_updated** - when the host last updated the calendar\n",
    "- **availability_30** - how many nights are available to be booked in the next 30 days\n",
    "- **availability_60** - how many nights are available to be booked in the next 60 days\n",
    "- **availability_90** - how many nights are available to be booked in the next 90 days\n",
    "- **availability_365** - how many nights are available to be booked in the next 365 days\n",
    "- **number_of_reviews** - the number of reviews left for the property\n",
    "- **number_of_reviews_ltm** - the number of reviews left for the property in the last twelve months\n",
    "- **first_review** - the date of the first review\n",
    "- **last_review** - the date of the most recent review\n",
    "- **review_scores_rating** - guests can score properties overall from 1 to 5 stars\n",
    "- **review_scores_accuracy** - guests can score the accuracy of a property's description from 1 to 5 stars\n",
    "- **review_scores_cleanliness** - guests can score a property's cleanliness from 1 to 5 stars\n",
    "- **review_scores_checkin** - guests can score their check-in from 1 to 5 stars\n",
    "- **review_scores_communication** - guests can score a host's communication from 1 to 5 stars\n",
    "- **review_scores_location** - guests can score a property's location from 1 to 5 stars\n",
    "- **review_scores_value** - guests can score a booking's value for money from 1 to 5 stars\n",
    "- **instant_bookable** - whether or not the property can be instant booked (i.e. booked straight away, without having to message the host first and wait to be accepted)\n",
    "- **cancellation_policy** - the type of cancellation policy, e.g. strict or moderate\n",
    "- **reviews_per_month** - calculated field of the average number of reviews left by guest each month"
   ]
  },
  {
   "cell_type": "markdown",
   "metadata": {},
   "source": [
    "## Column Filtering"
   ]
  },
  {
   "cell_type": "code",
   "execution_count": 5,
   "metadata": {
    "scrolled": true
   },
   "outputs": [
    {
     "data": {
      "text/plain": [
       "(5641, 109)"
      ]
     },
     "execution_count": 5,
     "metadata": {},
     "output_type": "execute_result"
    }
   ],
   "source": [
    "df.shape"
   ]
  },
  {
   "cell_type": "code",
   "execution_count": 6,
   "metadata": {},
   "outputs": [],
   "source": [
    "selected_cols = ['listing_url', 'id', 'name', 'description', 'neighborhood_overview', 'notes',\n",
    "                 'transit', 'house_rules', 'host_response_time', 'host_response_rate',\n",
    "                 'host_is_superhost', 'host_neighbourhood', 'neighbourhood_cleansed',\n",
    "                 'latitude', 'longitude', 'property_type', 'room_type', 'accommodates',\n",
    "                 'bathrooms', 'bedrooms', 'beds', 'bed_type', 'amenities', 'price', \n",
    "                 'security_deposit', 'guests_included',\n",
    "                 'extra_people', 'minimum_nights', 'maximum_nights',\n",
    "                 'availability_30', 'availability_365', 'has_availability', 'number_of_reviews',\n",
    "                 'number_of_reviews_ltm', 'last_scraped', 'last_review', 'review_scores_rating', \n",
    "                 'review_scores_accuracy', 'review_scores_cleanliness', \n",
    "                 'review_scores_checkin', 'review_scores_communication', 'review_scores_location',\n",
    "                 'review_scores_value', 'reviews_per_month', 'neg_score', 'neu_score', 'pos_score'\n",
    "                ]\n",
    "\n",
    "df = df[selected_cols]\n",
    "text_df = df.iloc[:,1:8]  #text based dataframe for NLP purposes\n",
    "df.drop(df.columns[2:8],axis=1, inplace=True) #drop text columns"
   ]
  },
  {
   "cell_type": "code",
   "execution_count": 7,
   "metadata": {},
   "outputs": [
    {
     "data": {
      "text/plain": [
       "(5641, 41)"
      ]
     },
     "execution_count": 7,
     "metadata": {},
     "output_type": "execute_result"
    }
   ],
   "source": [
    "df.shape"
   ]
  },
  {
   "cell_type": "code",
   "execution_count": 8,
   "metadata": {
    "scrolled": true
   },
   "outputs": [],
   "source": [
    "df.dropna(axis=0, subset=['host_neighbourhood'], inplace=True)"
   ]
  },
  {
   "cell_type": "markdown",
   "metadata": {},
   "source": [
    "## Price Conversion\n",
    "\n",
    "Default prices in this dataset are in Japanese yen. Converting it to USD will allow an English audience to better understand the data."
   ]
  },
  {
   "cell_type": "code",
   "execution_count": 9,
   "metadata": {},
   "outputs": [],
   "source": [
    "df['security_deposit'] = df['security_deposit'].replace('[\\$,]', '', regex=True).astype(float)\n",
    "df['extra_people'] = df['extra_people'].replace('[\\$,]', '', regex=True).astype(float)\n",
    "df['price'] = df['price'].replace('[\\$,]', '', regex=True).astype(float)"
   ]
  },
  {
   "cell_type": "code",
   "execution_count": 10,
   "metadata": {
    "scrolled": true
   },
   "outputs": [],
   "source": [
    "df['security_deposit'] = 0.0092 * df['security_deposit']\n",
    "df['price'] = 0.0092 * df['price']\n",
    "df['security_deposit'].fillna(0, inplace=True)"
   ]
  },
  {
   "cell_type": "code",
   "execution_count": 11,
   "metadata": {
    "scrolled": true
   },
   "outputs": [
    {
     "data": {
      "text/plain": [
       "(0, 41)"
      ]
     },
     "execution_count": 11,
     "metadata": {},
     "output_type": "execute_result"
    }
   ],
   "source": [
    "df[df['price'] > 300].shape"
   ]
  },
  {
   "cell_type": "code",
   "execution_count": 12,
   "metadata": {},
   "outputs": [
    {
     "data": {
      "text/plain": [
       "3106    299.7912\n",
       "409     297.8040\n",
       "410     297.8040\n",
       "412     297.8040\n",
       "833     297.8040\n",
       "892     297.8040\n",
       "1190    297.8040\n",
       "1233    297.8040\n",
       "1489    297.8040\n",
       "2550    297.8040\n",
       "3025    297.8040\n",
       "3338    297.8040\n",
       "3521    297.8040\n",
       "4152    297.8040\n",
       "4439    297.8040\n",
       "4445    297.8040\n",
       "4879    297.8040\n",
       "5016    297.8040\n",
       "5021    297.8040\n",
       "5068    297.8040\n",
       "434     296.8104\n",
       "481     296.8104\n",
       "912     296.8104\n",
       "4642    295.8168\n",
       "5       294.8232\n",
       "Name: price, dtype: float64"
      ]
     },
     "execution_count": 12,
     "metadata": {},
     "output_type": "execute_result"
    }
   ],
   "source": [
    "df['price'].nlargest(25)"
   ]
  },
  {
   "cell_type": "code",
   "execution_count": 13,
   "metadata": {},
   "outputs": [
    {
     "data": {
      "text/plain": [
       "listing_url                                https://www.airbnb.com/rooms/19368458\n",
       "id                                                                      19368458\n",
       "host_response_time                                                within an hour\n",
       "host_response_rate                                                          100%\n",
       "host_is_superhost                                                              f\n",
       "host_neighbourhood                                               Minato District\n",
       "neighbourhood_cleansed                                                 Nakano Ku\n",
       "latitude                                                                 35.6877\n",
       "longitude                                                                139.668\n",
       "property_type                                                          Apartment\n",
       "room_type                                                        Entire home/apt\n",
       "accommodates                                                                  12\n",
       "bathrooms                                                                      1\n",
       "bedrooms                                                                       3\n",
       "beds                                                                           6\n",
       "bed_type                                                                Real Bed\n",
       "amenities                      {TV,Wifi,\"Air conditioning\",Kitchen,\"Paid park...\n",
       "price                                                                    275.963\n",
       "security_deposit                                                               0\n",
       "guests_included                                                                8\n",
       "extra_people                                                                4000\n",
       "minimum_nights                                                                 1\n",
       "maximum_nights                                                              1125\n",
       "availability_30                                                               21\n",
       "availability_365                                                             231\n",
       "has_availability                                                               t\n",
       "number_of_reviews                                                             34\n",
       "number_of_reviews_ltm                                                         10\n",
       "last_scraped                                                          2019-09-28\n",
       "last_review                                                           2019-07-31\n",
       "review_scores_rating                                                          95\n",
       "review_scores_accuracy                                                        10\n",
       "review_scores_cleanliness                                                     10\n",
       "review_scores_checkin                                                         10\n",
       "review_scores_communication                                                    9\n",
       "review_scores_location                                                         9\n",
       "review_scores_value                                                            9\n",
       "reviews_per_month                                                           1.28\n",
       "neg_score                                                                      0\n",
       "neu_score                                                                      1\n",
       "pos_score                                                                      0\n",
       "Name: 1033, dtype: object"
      ]
     },
     "execution_count": 13,
     "metadata": {},
     "output_type": "execute_result"
    }
   ],
   "source": [
    "df.loc[1033]"
   ]
  },
  {
   "cell_type": "code",
   "execution_count": 14,
   "metadata": {},
   "outputs": [],
   "source": [
    "df.dropna(inplace=True)"
   ]
  },
  {
   "cell_type": "code",
   "execution_count": 15,
   "metadata": {},
   "outputs": [
    {
     "data": {
      "text/plain": [
       "listing_url                    0\n",
       "id                             0\n",
       "host_response_time             0\n",
       "host_response_rate             0\n",
       "host_is_superhost              0\n",
       "host_neighbourhood             0\n",
       "neighbourhood_cleansed         0\n",
       "latitude                       0\n",
       "longitude                      0\n",
       "property_type                  0\n",
       "room_type                      0\n",
       "accommodates                   0\n",
       "bathrooms                      0\n",
       "bedrooms                       0\n",
       "beds                           0\n",
       "bed_type                       0\n",
       "amenities                      0\n",
       "price                          0\n",
       "security_deposit               0\n",
       "guests_included                0\n",
       "extra_people                   0\n",
       "minimum_nights                 0\n",
       "maximum_nights                 0\n",
       "availability_30                0\n",
       "availability_365               0\n",
       "has_availability               0\n",
       "number_of_reviews              0\n",
       "number_of_reviews_ltm          0\n",
       "last_scraped                   0\n",
       "last_review                    0\n",
       "review_scores_rating           0\n",
       "review_scores_accuracy         0\n",
       "review_scores_cleanliness      0\n",
       "review_scores_checkin          0\n",
       "review_scores_communication    0\n",
       "review_scores_location         0\n",
       "review_scores_value            0\n",
       "reviews_per_month              0\n",
       "neg_score                      0\n",
       "neu_score                      0\n",
       "pos_score                      0\n",
       "dtype: int64"
      ]
     },
     "execution_count": 15,
     "metadata": {},
     "output_type": "execute_result"
    }
   ],
   "source": [
    "df.isna().sum()"
   ]
  },
  {
   "cell_type": "markdown",
   "metadata": {},
   "source": [
    "## Feature Engineering"
   ]
  },
  {
   "cell_type": "markdown",
   "metadata": {},
   "source": [
    "### Number of Days Since Last Review"
   ]
  },
  {
   "cell_type": "markdown",
   "metadata": {},
   "source": [
    "When recommending prices to hosts, it's important to train a model on **active** listings that tend to have a lot of traffic. This ensures that the model isn't conditioned on more mediocre listings that don't enjoy a lot of traffic, either due to poor pricing, advertising, or other factors.\n",
    "\n",
    "One of the ways I chose to filter out bad listings was to ensure that listings have been **reviewed at least once in the last 6 months.** While a smaller interval of 1 month would be more stringent, reviews are very dependent on whether a customer chooses to do so or not so I chose to relax the threshold to around 6 months. "
   ]
  },
  {
   "cell_type": "code",
   "execution_count": 16,
   "metadata": {
    "scrolled": true
   },
   "outputs": [],
   "source": [
    "df['last_scraped'] = pd.to_datetime(df['last_scraped'], format=\"%Y-%m-%d\")\n",
    "df['last_review'] = pd.to_datetime(df['last_review'], format=\"%Y-%m-%d\")\n",
    "df['since_last_review'] = df['last_scraped'] - df['last_review']  \n",
    "df['since_last_review'] = df['since_last_review'].dt.days"
   ]
  },
  {
   "cell_type": "code",
   "execution_count": 17,
   "metadata": {},
   "outputs": [],
   "source": [
    "df = df[df['since_last_review'] < 183]\n",
    "df = df[df['number_of_reviews_ltm'] > 5]"
   ]
  },
  {
   "cell_type": "code",
   "execution_count": 66,
   "metadata": {
    "scrolled": false
   },
   "outputs": [
    {
     "data": {
      "image/png": "[encoded data removed]",
      "text/plain": [
       "<Figure size 720x360 with 1 Axes>"
      ]
     },
     "metadata": {
      "needs_background": "light"
     },
     "output_type": "display_data"
    }
   ],
   "source": [
    "fig, ax = plt.subplots(figsize=(10,5)) \n",
    "ax = sns.distplot(df['since_last_review'], color='#FF585D')\n",
    "ax.set_title('Days Since Last Review', fontsize=20);\n",
    "ax.set_xlabel(\"Number of Days\",fontsize=15);\n",
    "plt.savefig('days', bbox_inches ='tight', dpi = 400)"
   ]
  },
  {
   "cell_type": "markdown",
   "metadata": {},
   "source": [
    "### Removing Outliers\n",
    "\n",
    "Handling outliers is very important when we want to fit a regression model. Something to keep in mind is how many people a listing can accomodate.For now, I am going to remove extremely large listings such as those than can accomodate more than 10 people. Listing that can accomodate >10 people are a miniority and can skew the regression line."
   ]
  },
  {
   "cell_type": "code",
   "execution_count": 19,
   "metadata": {
    "scrolled": true
   },
   "outputs": [
    {
     "data": {
      "text/plain": [
       "2     1498\n",
       "3     1041\n",
       "4      956\n",
       "6      536\n",
       "5      441\n",
       "8      285\n",
       "1      241\n",
       "7      199\n",
       "10     144\n",
       "9       90\n",
       "12      80\n",
       "16      49\n",
       "11      40\n",
       "14      20\n",
       "13      14\n",
       "15       7\n",
       "Name: accommodates, dtype: int64"
      ]
     },
     "execution_count": 19,
     "metadata": {},
     "output_type": "execute_result"
    }
   ],
   "source": [
    "df['accommodates'].value_counts()"
   ]
  },
  {
   "cell_type": "code",
   "execution_count": null,
   "metadata": {},
   "outputs": [],
   "source": []
  },
  {
   "cell_type": "markdown",
   "metadata": {},
   "source": [
    "## Price Processing\n",
    "\n",
    "Price is our target variable so it would be useful to get a sense of the distribution."
   ]
  },
  {
   "cell_type": "code",
   "execution_count": 20,
   "metadata": {
    "scrolled": true
   },
   "outputs": [
    {
     "data": {
      "text/plain": [
       "count    5641.000000\n",
       "mean      112.601573\n",
       "std        64.932464\n",
       "min         9.926800\n",
       "25%        63.535200\n",
       "50%        92.322000\n",
       "75%       146.914800\n",
       "max       299.791200\n",
       "Name: price, dtype: float64"
      ]
     },
     "execution_count": 20,
     "metadata": {},
     "output_type": "execute_result"
    }
   ],
   "source": [
    "df['price'].describe()"
   ]
  },
  {
   "cell_type": "code",
   "execution_count": 21,
   "metadata": {},
   "outputs": [],
   "source": [
    "df = df[df['price'] < 300]"
   ]
  },
  {
   "cell_type": "code",
   "execution_count": 68,
   "metadata": {},
   "outputs": [
    {
     "data": {
      "image/png": "[encoded data removed]",
      "text/plain": [
       "<Figure size 720x360 with 1 Axes>"
      ]
     },
     "metadata": {
      "needs_background": "light"
     },
     "output_type": "display_data"
    }
   ],
   "source": [
    "fig, ax = plt.subplots(figsize=(10,5)) \n",
    "ax = sns.distplot(df['price'], color='#FF585D')\n",
    "ax.set_title('Price Distribution Per Night', fontsize=20);\n",
    "ax.set_xlabel('Price', fontsize=15);\n",
    "plt.savefig('price', bbox_inches ='tight', dpi = 400)"
   ]
  },
  {
   "cell_type": "code",
   "execution_count": 23,
   "metadata": {
    "scrolled": true
   },
   "outputs": [
    {
     "data": {
      "text/plain": [
       "76.68853040241092"
      ]
     },
     "execution_count": 23,
     "metadata": {},
     "output_type": "execute_result"
    }
   ],
   "source": [
    "df[df['price'] < 150].shape[0] / df['price'].shape[0] * 100"
   ]
  },
  {
   "cell_type": "markdown",
   "metadata": {},
   "source": [
    "Something important to note is that **76.69%** of listings are priced under 150/night. As a result, I think having two seperate models, one for under and above the threshold of $150/night will lead to better performance than simply using a single model for all listings.\n",
    "Let's take a look at the listing distribution if we use this threshold."
   ]
  },
  {
   "cell_type": "code",
   "execution_count": 24,
   "metadata": {},
   "outputs": [
    {
     "data": {
      "image/png": "[encoded data removed]",
      "text/plain": [
       "<Figure size 1080x360 with 2 Axes>"
      ]
     },
     "metadata": {
      "needs_background": "light"
     },
     "output_type": "display_data"
    }
   ],
   "source": [
    "fig, axs = plt.subplots(ncols=2, figsize=(15, 5))\n",
    "\n",
    "ax0 = sns.distplot(df[df['price'] <= 150]['price'], ax=axs[0], color='#FF585D')\n",
    "ax0.set_title('Distribution of Prices Under $150')\n",
    "\n",
    "ax1 = sns.distplot(df[df['price'] > 150]['price'], ax=axs[1], color='#FF585D')\n",
    "ax1.set_title('Distribution of Prices Over $150');"
   ]
  },
  {
   "cell_type": "markdown",
   "metadata": {},
   "source": [
    "### Property Filtering"
   ]
  },
  {
   "cell_type": "code",
   "execution_count": 25,
   "metadata": {},
   "outputs": [
    {
     "data": {
      "text/plain": [
       "Apartment             3781\n",
       "House                  944\n",
       "Hostel                 275\n",
       "Condominium            202\n",
       "Serviced apartment     101\n",
       "Aparthotel              74\n",
       "Hotel                   63\n",
       "Boutique hotel          41\n",
       "Ryokan (Japan)          35\n",
       "Villa                   34\n",
       "Hut                     18\n",
       "Loft                    18\n",
       "Guesthouse              17\n",
       "Townhouse               10\n",
       "Guest suite              9\n",
       "Tiny house               5\n",
       "Bungalow                 5\n",
       "Bed and breakfast        3\n",
       "Dome house               2\n",
       "Cabin                    2\n",
       "Camper/RV                1\n",
       "Dorm                     1\n",
       "Name: property_type, dtype: int64"
      ]
     },
     "execution_count": 25,
     "metadata": {},
     "output_type": "execute_result"
    }
   ],
   "source": [
    "df['property_type'].value_counts()"
   ]
  },
  {
   "cell_type": "code",
   "execution_count": 26,
   "metadata": {},
   "outputs": [],
   "source": [
    "df['property_type'].replace({\n",
    "    'Serviced Apartment' : 'Apartment',\n",
    "    'Aparthotel' : 'Apartment',\n",
    "    'Villa' : 'House',\n",
    "    'Boutique hotel' : 'Hotel',\n",
    "    'Hut' : 'House',\n",
    "    'Guesthouse' : 'House',\n",
    "    'Townhouse' : 'House',\n",
    "    'Tiny house' : 'House',\n",
    "    'Bungalow' : 'House',\n",
    "    'Bed and breakfast' : 'Other',\n",
    "    'Loft' : 'Other',\n",
    "    'Guest suite' : 'Other',\n",
    "    'Camper/RV' : 'Other',\n",
    "    'Dorm' : 'Other',\n",
    "    'Cabin' : 'Other'  \n",
    "}, inplace=True)"
   ]
  },
  {
   "cell_type": "markdown",
   "metadata": {},
   "source": [
    "## San Francisco Model\n",
    "\n",
    "**Estimated Monthly Bookings = (# Of Reviews Per Month / Review Rate)**\n",
    "\n",
    "**# Of Booked Days Per Month = Avg Length of Stay * Estimated Monthly Bookings**\n",
    "\n",
    "**Monthly Revenue = # of Booked Days Per Month * Daily Price**"
   ]
  },
  {
   "cell_type": "code",
   "execution_count": 27,
   "metadata": {},
   "outputs": [
    {
     "data": {
      "image/png": "[encoded data removed]",
      "text/plain": [
       "<Figure size 720x360 with 1 Axes>"
      ]
     },
     "metadata": {
      "needs_background": "light"
     },
     "output_type": "display_data"
    }
   ],
   "source": [
    "fig, ax = plt.subplots(figsize=(10,5))\n",
    "ax = sns.distplot(df['reviews_per_month'], color='#FF585D')\n",
    "ax.set_title(\"Distribution of Reviews per Month\");"
   ]
  },
  {
   "cell_type": "code",
   "execution_count": 28,
   "metadata": {
    "scrolled": true
   },
   "outputs": [
    {
     "data": {
      "text/plain": [
       "(5641,)"
      ]
     },
     "execution_count": 28,
     "metadata": {},
     "output_type": "execute_result"
    }
   ],
   "source": [
    "df['reviews_per_month'].shape"
   ]
  },
  {
   "cell_type": "code",
   "execution_count": 29,
   "metadata": {
    "scrolled": true
   },
   "outputs": [
    {
     "data": {
      "text/plain": [
       "(5362, 42)"
      ]
     },
     "execution_count": 29,
     "metadata": {},
     "output_type": "execute_result"
    }
   ],
   "source": [
    "df[df['reviews_per_month'] <= 5].shape"
   ]
  },
  {
   "cell_type": "code",
   "execution_count": 30,
   "metadata": {},
   "outputs": [],
   "source": [
    "review_rate = 0.5\n",
    "avg_length_stay = 3\n",
    "\n",
    "monthly_bookings = np.array(df['reviews_per_month'] / review_rate)\n",
    "booked_days_month = np.minimum(30, avg_length_stay * monthly_bookings)\n",
    "df['booked_days'] = booked_days_month\n",
    "monthly_revenue = booked_days_month * df['price']\n",
    "df['monthly_revenue'] = monthly_revenue"
   ]
  },
  {
   "cell_type": "code",
   "execution_count": 31,
   "metadata": {
    "scrolled": true
   },
   "outputs": [
    {
     "data": {
      "image/png": "[encoded data removed]",
      "text/plain": [
       "<Figure size 720x360 with 1 Axes>"
      ]
     },
     "metadata": {
      "needs_background": "light"
     },
     "output_type": "display_data"
    }
   ],
   "source": [
    "fig, ax = plt.subplots(figsize=(10,5))\n",
    "ax = sns.distplot(df['booked_days'], color='#FF585D')\n",
    "ax.set_title(\"Number of Booked Days Per Month\");"
   ]
  },
  {
   "cell_type": "markdown",
   "metadata": {},
   "source": [
    "Something that really stands out here is that there are quite a number of listings that have 30 days booked. That's surprising and might warrant further investigation taking a look at these listings is important to ensure that this isn't false data."
   ]
  },
  {
   "cell_type": "code",
   "execution_count": 32,
   "metadata": {},
   "outputs": [
    {
     "data": {
      "text/html": [
       "<div>\n",
       "<style scoped>\n",
       "    .dataframe tbody tr th:only-of-type {\n",
       "        vertical-align: middle;\n",
       "    }\n",
       "\n",
       "    .dataframe tbody tr th {\n",
       "        vertical-align: top;\n",
       "    }\n",
       "\n",
       "    .dataframe thead th {\n",
       "        text-align: right;\n",
       "    }\n",
       "</style>\n",
       "<table border=\"1\" class=\"dataframe\">\n",
       "  <thead>\n",
       "    <tr style=\"text-align: right;\">\n",
       "      <th></th>\n",
       "      <th>listing_url</th>\n",
       "      <th>id</th>\n",
       "      <th>host_response_time</th>\n",
       "      <th>host_response_rate</th>\n",
       "      <th>host_is_superhost</th>\n",
       "      <th>host_neighbourhood</th>\n",
       "      <th>neighbourhood_cleansed</th>\n",
       "      <th>latitude</th>\n",
       "      <th>longitude</th>\n",
       "      <th>property_type</th>\n",
       "      <th>...</th>\n",
       "      <th>review_scores_communication</th>\n",
       "      <th>review_scores_location</th>\n",
       "      <th>review_scores_value</th>\n",
       "      <th>reviews_per_month</th>\n",
       "      <th>neg_score</th>\n",
       "      <th>neu_score</th>\n",
       "      <th>pos_score</th>\n",
       "      <th>since_last_review</th>\n",
       "      <th>booked_days</th>\n",
       "      <th>monthly_revenue</th>\n",
       "    </tr>\n",
       "  </thead>\n",
       "  <tbody>\n",
       "    <tr>\n",
       "      <th>90</th>\n",
       "      <td>https://www.airbnb.com/rooms/5564391</td>\n",
       "      <td>5564391</td>\n",
       "      <td>within a few hours</td>\n",
       "      <td>100%</td>\n",
       "      <td>t</td>\n",
       "      <td>Nakano District</td>\n",
       "      <td>Nakano Ku</td>\n",
       "      <td>35.73043</td>\n",
       "      <td>139.66592</td>\n",
       "      <td>House</td>\n",
       "      <td>...</td>\n",
       "      <td>10.0</td>\n",
       "      <td>9.0</td>\n",
       "      <td>10.0</td>\n",
       "      <td>5.09</td>\n",
       "      <td>0.0</td>\n",
       "      <td>0.000</td>\n",
       "      <td>1.000</td>\n",
       "      <td>7</td>\n",
       "      <td>30.0</td>\n",
       "      <td>893.412</td>\n",
       "    </tr>\n",
       "    <tr>\n",
       "      <th>103</th>\n",
       "      <td>https://www.airbnb.com/rooms/5949669</td>\n",
       "      <td>5949669</td>\n",
       "      <td>within an hour</td>\n",
       "      <td>100%</td>\n",
       "      <td>f</td>\n",
       "      <td>Koto District</td>\n",
       "      <td>Koto Ku</td>\n",
       "      <td>35.68264</td>\n",
       "      <td>139.81596</td>\n",
       "      <td>House</td>\n",
       "      <td>...</td>\n",
       "      <td>9.0</td>\n",
       "      <td>9.0</td>\n",
       "      <td>9.0</td>\n",
       "      <td>5.25</td>\n",
       "      <td>0.0</td>\n",
       "      <td>1.000</td>\n",
       "      <td>0.000</td>\n",
       "      <td>18</td>\n",
       "      <td>30.0</td>\n",
       "      <td>1369.788</td>\n",
       "    </tr>\n",
       "    <tr>\n",
       "      <th>140</th>\n",
       "      <td>https://www.airbnb.com/rooms/6939941</td>\n",
       "      <td>6939941</td>\n",
       "      <td>within an hour</td>\n",
       "      <td>100%</td>\n",
       "      <td>f</td>\n",
       "      <td>Koto District</td>\n",
       "      <td>Koto Ku</td>\n",
       "      <td>35.68207</td>\n",
       "      <td>139.81578</td>\n",
       "      <td>Hostel</td>\n",
       "      <td>...</td>\n",
       "      <td>10.0</td>\n",
       "      <td>9.0</td>\n",
       "      <td>9.0</td>\n",
       "      <td>5.14</td>\n",
       "      <td>0.0</td>\n",
       "      <td>0.853</td>\n",
       "      <td>0.147</td>\n",
       "      <td>15</td>\n",
       "      <td>30.0</td>\n",
       "      <td>1369.788</td>\n",
       "    </tr>\n",
       "    <tr>\n",
       "      <th>147</th>\n",
       "      <td>https://www.airbnb.com/rooms/7162899</td>\n",
       "      <td>7162899</td>\n",
       "      <td>within an hour</td>\n",
       "      <td>100%</td>\n",
       "      <td>t</td>\n",
       "      <td>Sumida District</td>\n",
       "      <td>Sumida Ku</td>\n",
       "      <td>35.70882</td>\n",
       "      <td>139.80080</td>\n",
       "      <td>House</td>\n",
       "      <td>...</td>\n",
       "      <td>10.0</td>\n",
       "      <td>10.0</td>\n",
       "      <td>9.0</td>\n",
       "      <td>5.08</td>\n",
       "      <td>0.0</td>\n",
       "      <td>0.213</td>\n",
       "      <td>0.787</td>\n",
       "      <td>50</td>\n",
       "      <td>30.0</td>\n",
       "      <td>1101.792</td>\n",
       "    </tr>\n",
       "    <tr>\n",
       "      <th>150</th>\n",
       "      <td>https://www.airbnb.com/rooms/7248668</td>\n",
       "      <td>7248668</td>\n",
       "      <td>within an hour</td>\n",
       "      <td>100%</td>\n",
       "      <td>f</td>\n",
       "      <td>Shibuya District</td>\n",
       "      <td>Shibuya Ku</td>\n",
       "      <td>35.68279</td>\n",
       "      <td>139.70702</td>\n",
       "      <td>Apartment</td>\n",
       "      <td>...</td>\n",
       "      <td>10.0</td>\n",
       "      <td>10.0</td>\n",
       "      <td>9.0</td>\n",
       "      <td>5.51</td>\n",
       "      <td>0.0</td>\n",
       "      <td>0.616</td>\n",
       "      <td>0.384</td>\n",
       "      <td>5</td>\n",
       "      <td>30.0</td>\n",
       "      <td>8278.896</td>\n",
       "    </tr>\n",
       "    <tr>\n",
       "      <th>...</th>\n",
       "      <td>...</td>\n",
       "      <td>...</td>\n",
       "      <td>...</td>\n",
       "      <td>...</td>\n",
       "      <td>...</td>\n",
       "      <td>...</td>\n",
       "      <td>...</td>\n",
       "      <td>...</td>\n",
       "      <td>...</td>\n",
       "      <td>...</td>\n",
       "      <td>...</td>\n",
       "      <td>...</td>\n",
       "      <td>...</td>\n",
       "      <td>...</td>\n",
       "      <td>...</td>\n",
       "      <td>...</td>\n",
       "      <td>...</td>\n",
       "      <td>...</td>\n",
       "      <td>...</td>\n",
       "      <td>...</td>\n",
       "      <td>...</td>\n",
       "    </tr>\n",
       "    <tr>\n",
       "      <th>5635</th>\n",
       "      <td>https://www.airbnb.com/rooms/37625398</td>\n",
       "      <td>37625398</td>\n",
       "      <td>within an hour</td>\n",
       "      <td>100%</td>\n",
       "      <td>f</td>\n",
       "      <td>Shinjuku</td>\n",
       "      <td>Bunkyo Ku</td>\n",
       "      <td>35.73299</td>\n",
       "      <td>139.75334</td>\n",
       "      <td>Apartment</td>\n",
       "      <td>...</td>\n",
       "      <td>10.0</td>\n",
       "      <td>10.0</td>\n",
       "      <td>10.0</td>\n",
       "      <td>6.49</td>\n",
       "      <td>0.0</td>\n",
       "      <td>1.000</td>\n",
       "      <td>0.000</td>\n",
       "      <td>3</td>\n",
       "      <td>30.0</td>\n",
       "      <td>8278.896</td>\n",
       "    </tr>\n",
       "    <tr>\n",
       "      <th>5636</th>\n",
       "      <td>https://www.airbnb.com/rooms/37685005</td>\n",
       "      <td>37685005</td>\n",
       "      <td>within an hour</td>\n",
       "      <td>100%</td>\n",
       "      <td>f</td>\n",
       "      <td>Roppongi</td>\n",
       "      <td>Minato Ku</td>\n",
       "      <td>35.65749</td>\n",
       "      <td>139.73405</td>\n",
       "      <td>Apartment</td>\n",
       "      <td>...</td>\n",
       "      <td>10.0</td>\n",
       "      <td>10.0</td>\n",
       "      <td>10.0</td>\n",
       "      <td>6.00</td>\n",
       "      <td>0.0</td>\n",
       "      <td>0.268</td>\n",
       "      <td>0.732</td>\n",
       "      <td>5</td>\n",
       "      <td>30.0</td>\n",
       "      <td>3454.416</td>\n",
       "    </tr>\n",
       "    <tr>\n",
       "      <th>5638</th>\n",
       "      <td>https://www.airbnb.com/rooms/38047990</td>\n",
       "      <td>38047990</td>\n",
       "      <td>within an hour</td>\n",
       "      <td>100%</td>\n",
       "      <td>f</td>\n",
       "      <td>Sumida District</td>\n",
       "      <td>Sumida Ku</td>\n",
       "      <td>35.69423</td>\n",
       "      <td>139.81140</td>\n",
       "      <td>Apartment</td>\n",
       "      <td>...</td>\n",
       "      <td>10.0</td>\n",
       "      <td>10.0</td>\n",
       "      <td>10.0</td>\n",
       "      <td>6.00</td>\n",
       "      <td>0.0</td>\n",
       "      <td>1.000</td>\n",
       "      <td>0.000</td>\n",
       "      <td>4</td>\n",
       "      <td>30.0</td>\n",
       "      <td>8278.896</td>\n",
       "    </tr>\n",
       "    <tr>\n",
       "      <th>5639</th>\n",
       "      <td>https://www.airbnb.com/rooms/38087959</td>\n",
       "      <td>38087959</td>\n",
       "      <td>within an hour</td>\n",
       "      <td>100%</td>\n",
       "      <td>f</td>\n",
       "      <td>Shinagawa District</td>\n",
       "      <td>Shinagawa Ku</td>\n",
       "      <td>35.61911</td>\n",
       "      <td>139.74215</td>\n",
       "      <td>Apartment</td>\n",
       "      <td>...</td>\n",
       "      <td>10.0</td>\n",
       "      <td>10.0</td>\n",
       "      <td>10.0</td>\n",
       "      <td>6.00</td>\n",
       "      <td>0.0</td>\n",
       "      <td>1.000</td>\n",
       "      <td>0.000</td>\n",
       "      <td>2</td>\n",
       "      <td>30.0</td>\n",
       "      <td>8278.896</td>\n",
       "    </tr>\n",
       "    <tr>\n",
       "      <th>5640</th>\n",
       "      <td>https://www.airbnb.com/rooms/38365018</td>\n",
       "      <td>38365018</td>\n",
       "      <td>within an hour</td>\n",
       "      <td>100%</td>\n",
       "      <td>f</td>\n",
       "      <td>Itabashi District</td>\n",
       "      <td>Itabashi Ku</td>\n",
       "      <td>35.74964</td>\n",
       "      <td>139.71927</td>\n",
       "      <td>Apartment</td>\n",
       "      <td>...</td>\n",
       "      <td>10.0</td>\n",
       "      <td>10.0</td>\n",
       "      <td>10.0</td>\n",
       "      <td>8.00</td>\n",
       "      <td>0.0</td>\n",
       "      <td>1.000</td>\n",
       "      <td>0.000</td>\n",
       "      <td>4</td>\n",
       "      <td>30.0</td>\n",
       "      <td>1667.592</td>\n",
       "    </tr>\n",
       "  </tbody>\n",
       "</table>\n",
       "<p>285 rows × 44 columns</p>\n",
       "</div>"
      ],
      "text/plain": [
       "                                listing_url        id  host_response_time  \\\n",
       "90     https://www.airbnb.com/rooms/5564391   5564391  within a few hours   \n",
       "103    https://www.airbnb.com/rooms/5949669   5949669      within an hour   \n",
       "140    https://www.airbnb.com/rooms/6939941   6939941      within an hour   \n",
       "147    https://www.airbnb.com/rooms/7162899   7162899      within an hour   \n",
       "150    https://www.airbnb.com/rooms/7248668   7248668      within an hour   \n",
       "...                                     ...       ...                 ...   \n",
       "5635  https://www.airbnb.com/rooms/37625398  37625398      within an hour   \n",
       "5636  https://www.airbnb.com/rooms/37685005  37685005      within an hour   \n",
       "5638  https://www.airbnb.com/rooms/38047990  38047990      within an hour   \n",
       "5639  https://www.airbnb.com/rooms/38087959  38087959      within an hour   \n",
       "5640  https://www.airbnb.com/rooms/38365018  38365018      within an hour   \n",
       "\n",
       "     host_response_rate host_is_superhost  host_neighbourhood  \\\n",
       "90                 100%                 t     Nakano District   \n",
       "103                100%                 f       Koto District   \n",
       "140                100%                 f       Koto District   \n",
       "147                100%                 t     Sumida District   \n",
       "150                100%                 f    Shibuya District   \n",
       "...                 ...               ...                 ...   \n",
       "5635               100%                 f            Shinjuku   \n",
       "5636               100%                 f            Roppongi   \n",
       "5638               100%                 f     Sumida District   \n",
       "5639               100%                 f  Shinagawa District   \n",
       "5640               100%                 f   Itabashi District   \n",
       "\n",
       "     neighbourhood_cleansed  latitude  longitude property_type  ...  \\\n",
       "90                Nakano Ku  35.73043  139.66592         House  ...   \n",
       "103                 Koto Ku  35.68264  139.81596         House  ...   \n",
       "140                 Koto Ku  35.68207  139.81578        Hostel  ...   \n",
       "147               Sumida Ku  35.70882  139.80080         House  ...   \n",
       "150              Shibuya Ku  35.68279  139.70702     Apartment  ...   \n",
       "...                     ...       ...        ...           ...  ...   \n",
       "5635              Bunkyo Ku  35.73299  139.75334     Apartment  ...   \n",
       "5636              Minato Ku  35.65749  139.73405     Apartment  ...   \n",
       "5638              Sumida Ku  35.69423  139.81140     Apartment  ...   \n",
       "5639           Shinagawa Ku  35.61911  139.74215     Apartment  ...   \n",
       "5640            Itabashi Ku  35.74964  139.71927     Apartment  ...   \n",
       "\n",
       "     review_scores_communication  review_scores_location  review_scores_value  \\\n",
       "90                          10.0                     9.0                 10.0   \n",
       "103                          9.0                     9.0                  9.0   \n",
       "140                         10.0                     9.0                  9.0   \n",
       "147                         10.0                    10.0                  9.0   \n",
       "150                         10.0                    10.0                  9.0   \n",
       "...                          ...                     ...                  ...   \n",
       "5635                        10.0                    10.0                 10.0   \n",
       "5636                        10.0                    10.0                 10.0   \n",
       "5638                        10.0                    10.0                 10.0   \n",
       "5639                        10.0                    10.0                 10.0   \n",
       "5640                        10.0                    10.0                 10.0   \n",
       "\n",
       "      reviews_per_month  neg_score neu_score pos_score  since_last_review  \\\n",
       "90                 5.09        0.0     0.000     1.000                  7   \n",
       "103                5.25        0.0     1.000     0.000                 18   \n",
       "140                5.14        0.0     0.853     0.147                 15   \n",
       "147                5.08        0.0     0.213     0.787                 50   \n",
       "150                5.51        0.0     0.616     0.384                  5   \n",
       "...                 ...        ...       ...       ...                ...   \n",
       "5635               6.49        0.0     1.000     0.000                  3   \n",
       "5636               6.00        0.0     0.268     0.732                  5   \n",
       "5638               6.00        0.0     1.000     0.000                  4   \n",
       "5639               6.00        0.0     1.000     0.000                  2   \n",
       "5640               8.00        0.0     1.000     0.000                  4   \n",
       "\n",
       "      booked_days  monthly_revenue  \n",
       "90           30.0          893.412  \n",
       "103          30.0         1369.788  \n",
       "140          30.0         1369.788  \n",
       "147          30.0         1101.792  \n",
       "150          30.0         8278.896  \n",
       "...           ...              ...  \n",
       "5635         30.0         8278.896  \n",
       "5636         30.0         3454.416  \n",
       "5638         30.0         8278.896  \n",
       "5639         30.0         8278.896  \n",
       "5640         30.0         1667.592  \n",
       "\n",
       "[285 rows x 44 columns]"
      ]
     },
     "execution_count": 32,
     "metadata": {},
     "output_type": "execute_result"
    }
   ],
   "source": [
    "df[df['booked_days'] == 30]"
   ]
  },
  {
   "cell_type": "markdown",
   "metadata": {},
   "source": [
    "**Lets filter out listings that aren't good (listings that have less than 1 week of booked days)**"
   ]
  },
  {
   "cell_type": "code",
   "execution_count": 33,
   "metadata": {
    "scrolled": true
   },
   "outputs": [],
   "source": [
    "df = df[df['booked_days'] > 7 ]"
   ]
  },
  {
   "cell_type": "code",
   "execution_count": 34,
   "metadata": {},
   "outputs": [
    {
     "data": {
      "image/png": "[encoded data removed]",
      "text/plain": [
       "<Figure size 720x360 with 1 Axes>"
      ]
     },
     "metadata": {
      "needs_background": "light"
     },
     "output_type": "display_data"
    }
   ],
   "source": [
    "fig, ax = plt.subplots(figsize=(10,5)) \n",
    "ax = sns.distplot(df['monthly_revenue'], color='#FF585D')\n",
    "ax.set_title('Tokyo: Monthly Revenue Distribution');"
   ]
  },
  {
   "cell_type": "code",
   "execution_count": 35,
   "metadata": {},
   "outputs": [
    {
     "data": {
      "text/plain": [
       "array(['Sumida District', 'Kita District', 'Shibuya District',\n",
       "       'Shimokitazawa', 'Shinjuku District', 'Katsushika District',\n",
       "       'Meguro District', 'Toshima District', 'Shinagawa District',\n",
       "       'Setagaya District', 'Bunkyo District', 'Asakusa/Ueno',\n",
       "       'Itabashi District', 'Shinjuku', 'Arakawa District',\n",
       "       'Suginami District', 'Nakano District', 'Koto District',\n",
       "       'Minato District', 'Edogawa District', 'Ota District',\n",
       "       'Ebisu/Daikanyama', 'Nakameguro', 'Shibuya', 'Chiyoda District',\n",
       "       'Aoyama', 'Ikebukuro', 'Chūō District', 'Nerima District',\n",
       "       'Adachi District', 'Roppongi', 'Tsukiji', 'Soho', 'Akasaka',\n",
       "       'Hibiya', 'Tsukishima', 'Nanfang Shangcheng', 'Ikuno-ku',\n",
       "       'Kamigyō-ku', 'Harajuku', 'Kita-ku', 'Naniwa-ku', 'Fushimi-ku ',\n",
       "       'Nishi-ku', 'Nakagyō-ku', \"Da'an\", 'Tennōji-ku', 'Yodogawa-ku',\n",
       "       'Miyakojima-ku', 'Konohana-ku', 'Chūō-ku', 'Sakyo-ku',\n",
       "       'Shimogyō-ku', 'Minami-ku'], dtype=object)"
      ]
     },
     "execution_count": 35,
     "metadata": {},
     "output_type": "execute_result"
    }
   ],
   "source": [
    "df['host_neighbourhood'].unique() "
   ]
  },
  {
   "cell_type": "markdown",
   "metadata": {},
   "source": [
    "### Amenities Handling"
   ]
  },
  {
   "cell_type": "code",
   "execution_count": 36,
   "metadata": {},
   "outputs": [],
   "source": [
    "def get_num_amenities(s):\n",
    "    return len(s.split(','))\n",
    "\n",
    "df['num_amenities'] = df['amenities'].apply(get_num_amenities)"
   ]
  },
  {
   "cell_type": "code",
   "execution_count": 37,
   "metadata": {},
   "outputs": [
    {
     "name": "stderr",
     "output_type": "stream",
     "text": [
      "/anaconda3/lib/python3.7/site-packages/pandas/core/strings.py:1843: UserWarning: This pattern has match groups. To actually get the groups, use str.extract.\n",
      "  return func(self, *args, **kwargs)\n",
      "/anaconda3/lib/python3.7/site-packages/pandas/core/strings.py:1843: UserWarning: This pattern has match groups. To actually get the groups, use str.extract.\n",
      "  return func(self, *args, **kwargs)\n"
     ]
    },
    {
     "name": "stdout",
     "output_type": "stream",
     "text": [
      "(5641, 183)\n"
     ]
    },
    {
     "name": "stderr",
     "output_type": "stream",
     "text": [
      "/anaconda3/lib/python3.7/site-packages/pandas/core/strings.py:1843: UserWarning: This pattern has match groups. To actually get the groups, use str.extract.\n",
      "  return func(self, *args, **kwargs)\n"
     ]
    }
   ],
   "source": [
    "amenities = \" \".join(list(df.amenities))\n",
    "amenities = amenities.replace('{', '')\n",
    "amenities = amenities.replace('}', ',')\n",
    "amenities = amenities.replace('\"', '')\n",
    "amenities_set = [x.strip() for x in amenities.split(',')]\n",
    "amenities_set = set(amenities_set)\n",
    "feat_amen = list(amenities_set)\n",
    "feat_amen\n",
    "\n",
    "for k in feat_amen:\n",
    "    df[k] = df['amenities'].str.contains(k).astype(int)\n",
    "\n",
    "\n",
    "print(df.shape)"
   ]
  },
  {
   "cell_type": "code",
   "execution_count": 38,
   "metadata": {},
   "outputs": [
    {
     "data": {
      "text/plain": [
       "['',\n",
       " 'Kitchenette',\n",
       " 'Window guards',\n",
       " 'Elevator',\n",
       " 'Lockbox',\n",
       " 'Refrigerator',\n",
       " 'Cleaning before checkout',\n",
       " 'Paid parking on premises',\n",
       " 'Heating',\n",
       " 'Coffee maker',\n",
       " 'Building staff',\n",
       " 'Buzzer/wireless intercom',\n",
       " 'Bathtub',\n",
       " 'Accessible-height toilet',\n",
       " 'Shower chair',\n",
       " 'Breakfast table',\n",
       " 'Mobile hoist',\n",
       " 'Host greets you',\n",
       " 'Bedroom comforts',\n",
       " 'Balcony',\n",
       " 'Roll-in shower with chair',\n",
       " 'Pocket wifi',\n",
       " 'Long term stays allowed',\n",
       " 'Ethernet connection',\n",
       " 'High chair',\n",
       " 'Children’s dinnerware',\n",
       " 'Netflix',\n",
       " 'Accessible-height bed',\n",
       " 'Fire extinguisher',\n",
       " 'Room-darkening shades',\n",
       " 'Private living room',\n",
       " 'Hair dryer',\n",
       " 'Essentials',\n",
       " 'Hot water',\n",
       " 'Extra space around bed',\n",
       " 'No stairs or steps to enter',\n",
       " 'Fixed grab bars for shower',\n",
       " 'Beach essentials',\n",
       " 'Dishes and silverware',\n",
       " 'Doorman',\n",
       " 'Smart TV',\n",
       " 'Game console',\n",
       " 'Wheelchair accessible',\n",
       " 'Lake access',\n",
       " 'Fixed grab bars for toilet',\n",
       " '24-hour check-in',\n",
       " 'Pack ’n Play/travel crib',\n",
       " 'Bathroom essentials',\n",
       " 'Changing table',\n",
       " 'translation missing: en.hosting_amenity_49',\n",
       " 'Hangers',\n",
       " 'Walk-in shower',\n",
       " 'Garden or backyard',\n",
       " 'Roll-in shower',\n",
       " 'Air conditioning',\n",
       " 'Cooking basics',\n",
       " 'Wide entryway',\n",
       " 'Kitchen',\n",
       " 'Free parking on premises',\n",
       " 'Extra pillows and blankets',\n",
       " 'Children’s books and toys',\n",
       " 'Beachfront',\n",
       " 'Pool',\n",
       " 'Bed linens',\n",
       " 'Memory foam mattress',\n",
       " 'Indoor fireplace',\n",
       " 'Self check-in',\n",
       " 'Keypad',\n",
       " 'Shampoo',\n",
       " 'Laptop friendly workspace',\n",
       " 'Dog(s)',\n",
       " 'Outlet covers',\n",
       " 'Fireplace guards',\n",
       " 'TV',\n",
       " 'Paid parking off premises',\n",
       " 'Soaking tub',\n",
       " 'Disabled parking spot',\n",
       " 'Stair gates',\n",
       " 'Luggage dropoff allowed',\n",
       " 'Full kitchen',\n",
       " 'Terrace',\n",
       " 'Carbon monoxide detector',\n",
       " 'Bidet',\n",
       " 'Cat(s)',\n",
       " 'Wide doorway to guest bathroom',\n",
       " 'Lock on bedroom door',\n",
       " 'Oven',\n",
       " 'Iron',\n",
       " 'Internet',\n",
       " 'Gym',\n",
       " 'Ground floor access',\n",
       " 'translation missing: en.hosting_amenity_50',\n",
       " 'Babysitter recommendations',\n",
       " 'First aid kit',\n",
       " 'Wifi',\n",
       " 'Flat path to guest entrance',\n",
       " 'EV charger',\n",
       " 'toilet',\n",
       " 'Smart lock',\n",
       " 'Private entrance',\n",
       " 'Microwave',\n",
       " 'Well-lit path to entrance',\n",
       " 'Air purifier',\n",
       " 'Pets allowed',\n",
       " 'Wide hallways',\n",
       " 'Smoke detector',\n",
       " 'Bath towel',\n",
       " 'Waterfront',\n",
       " 'Wide entrance for guests',\n",
       " 'BBQ grill',\n",
       " 'Breakfast',\n",
       " 'Washer',\n",
       " 'Baby monitor',\n",
       " 'Pets live on this property',\n",
       " 'Dryer',\n",
       " 'Toilet paper',\n",
       " 'Suitable for events',\n",
       " 'Cable TV',\n",
       " 'Dishwasher',\n",
       " 'Single level home',\n",
       " 'Wide clearance to shower',\n",
       " 'Safety card',\n",
       " 'Wide entrance',\n",
       " 'Free street parking',\n",
       " 'Body soap',\n",
       " 'Family/kid friendly',\n",
       " 'Patio or balcony',\n",
       " 'Stove',\n",
       " 'Other pet(s)',\n",
       " 'Crib',\n",
       " 'Other',\n",
       " 'Hot water kettle',\n",
       " 'Baby bath',\n",
       " 'Hot tub',\n",
       " 'Bathtub with bath chair',\n",
       " 'Handheld shower head',\n",
       " 'Table corner guards',\n",
       " 'Smoking allowed']"
      ]
     },
     "execution_count": 38,
     "metadata": {},
     "output_type": "execute_result"
    }
   ],
   "source": [
    "feat_amen"
   ]
  },
  {
   "cell_type": "code",
   "execution_count": 39,
   "metadata": {
    "scrolled": true
   },
   "outputs": [
    {
     "data": {
      "text/plain": [
       "0    5641\n",
       "Name: Cat(s), dtype: int64"
      ]
     },
     "execution_count": 39,
     "metadata": {},
     "output_type": "execute_result"
    }
   ],
   "source": [
    "df['Cat(s)'].value_counts()"
   ]
  },
  {
   "cell_type": "code",
   "execution_count": 40,
   "metadata": {},
   "outputs": [
    {
     "data": {
      "text/plain": [
       "listing_url                object\n",
       "id                          int64\n",
       "host_response_time         object\n",
       "host_response_rate         object\n",
       "host_is_superhost          object\n",
       "                            ...  \n",
       "Hot tub                     int64\n",
       "Bathtub with bath chair     int64\n",
       "Handheld shower head        int64\n",
       "Table corner guards         int64\n",
       "Smoking allowed             int64\n",
       "Length: 183, dtype: object"
      ]
     },
     "execution_count": 40,
     "metadata": {},
     "output_type": "execute_result"
    }
   ],
   "source": [
    "df.dtypes"
   ]
  },
  {
   "cell_type": "code",
   "execution_count": 41,
   "metadata": {},
   "outputs": [],
   "source": [
    "df['host_response_rate'] = df['host_response_rate'].str[:-1].astype('float64')"
   ]
  },
  {
   "cell_type": "code",
   "execution_count": 42,
   "metadata": {},
   "outputs": [],
   "source": [
    "df['host_is_superhost'] = df['host_is_superhost'].str.replace('t','1')\n",
    "df['host_is_superhost'] = df['host_is_superhost'].str.replace('f','0')\n",
    "df['host_is_superhost'] = df['host_is_superhost'].astype(int)"
   ]
  },
  {
   "cell_type": "code",
   "execution_count": 43,
   "metadata": {},
   "outputs": [
    {
     "data": {
      "image/png": "[encoded data removed]",
      "text/plain": [
       "<Figure size 720x360 with 1 Axes>"
      ]
     },
     "metadata": {
      "needs_background": "light"
     },
     "output_type": "display_data"
    }
   ],
   "source": [
    "fig, ax = plt.subplots(figsize=(10,5)) \n",
    "ax = sns.distplot(df['review_scores_rating'], color='#FF585D')\n",
    "ax.set_title('Review Score Distribution', fontsize=20)\n",
    "ax.set_xlabel(\"Review Scores Rating\", fontsize=15);"
   ]
  },
  {
   "cell_type": "code",
   "execution_count": 44,
   "metadata": {},
   "outputs": [],
   "source": [
    "amenities_df = df.iloc[:,-138:]\n",
    "amenities_df['price'] = df['price']"
   ]
  },
  {
   "cell_type": "code",
   "execution_count": 77,
   "metadata": {},
   "outputs": [
    {
     "data": {
      "text/html": [
       "<div>\n",
       "<style scoped>\n",
       "    .dataframe tbody tr th:only-of-type {\n",
       "        vertical-align: middle;\n",
       "    }\n",
       "\n",
       "    .dataframe tbody tr th {\n",
       "        vertical-align: top;\n",
       "    }\n",
       "\n",
       "    .dataframe thead th {\n",
       "        text-align: right;\n",
       "    }\n",
       "</style>\n",
       "<table border=\"1\" class=\"dataframe\">\n",
       "  <thead>\n",
       "    <tr style=\"text-align: right;\">\n",
       "      <th></th>\n",
       "      <th>Refrigerator</th>\n",
       "      <th>Internet</th>\n",
       "      <th>Shampoo</th>\n",
       "      <th>TV</th>\n",
       "      <th>Dishes and silverware</th>\n",
       "    </tr>\n",
       "  </thead>\n",
       "  <tbody>\n",
       "    <tr>\n",
       "      <th>0</th>\n",
       "      <td>0</td>\n",
       "      <td>1</td>\n",
       "      <td>1</td>\n",
       "      <td>1</td>\n",
       "      <td>0</td>\n",
       "    </tr>\n",
       "    <tr>\n",
       "      <th>1</th>\n",
       "      <td>1</td>\n",
       "      <td>0</td>\n",
       "      <td>1</td>\n",
       "      <td>1</td>\n",
       "      <td>0</td>\n",
       "    </tr>\n",
       "    <tr>\n",
       "      <th>2</th>\n",
       "      <td>1</td>\n",
       "      <td>1</td>\n",
       "      <td>1</td>\n",
       "      <td>1</td>\n",
       "      <td>1</td>\n",
       "    </tr>\n",
       "    <tr>\n",
       "      <th>3</th>\n",
       "      <td>1</td>\n",
       "      <td>1</td>\n",
       "      <td>1</td>\n",
       "      <td>1</td>\n",
       "      <td>1</td>\n",
       "    </tr>\n",
       "    <tr>\n",
       "      <th>4</th>\n",
       "      <td>1</td>\n",
       "      <td>0</td>\n",
       "      <td>1</td>\n",
       "      <td>1</td>\n",
       "      <td>1</td>\n",
       "    </tr>\n",
       "  </tbody>\n",
       "</table>\n",
       "</div>"
      ],
      "text/plain": [
       "   Refrigerator  Internet  Shampoo  TV  Dishes and silverware\n",
       "0             0         1        1   1                      0\n",
       "1             1         0        1   1                      0\n",
       "2             1         1        1   1                      1\n",
       "3             1         1        1   1                      1\n",
       "4             1         0        1   1                      1"
      ]
     },
     "execution_count": 77,
     "metadata": {},
     "output_type": "execute_result"
    }
   ],
   "source": [
    "amenities_df[['Refrigerator', 'Internet', 'Shampoo', 'TV', 'Dishes and silverware']].head()"
   ]
  },
  {
   "cell_type": "code",
   "execution_count": 46,
   "metadata": {
    "scrolled": false
   },
   "outputs": [
    {
     "data": {
      "image/png": "[encoded data removed]",
      "text/plain": [
       "<Figure size 1440x3600 with 13 Axes>"
      ]
     },
     "metadata": {
      "needs_background": "light"
     },
     "output_type": "display_data"
    }
   ],
   "source": [
    "index = 1\n",
    "fig = plt.figure(1, figsize=(20,50))\n",
    "feature_amenities = feat_amen[1:14]\n",
    "colors = ['#00A699','#FF5A5F']\n",
    "for name in feature_amenities:\n",
    "    \n",
    "    current_axis = fig.add_subplot(7,2,index)\n",
    "    temp = df[df[name] == 0]['price'].mean()\n",
    "    temp1 = df[df[name] == 1]['price'].mean()\n",
    "\n",
    "    x = ['Without', 'With']\n",
    "    y = [temp, temp1]\n",
    "\n",
    "    ax = sns.barplot(x=x,y=y, palette=colors);\n",
    "    title = 'Comparison of ' + name\n",
    "    ax.set_title(title, size=20)\n",
    "    ax.set_xticklabels(['Without', 'With'], size=20)\n",
    "    ax.set_ylabel('Price', size = 20)\n",
    "    index +=1"
   ]
  },
  {
   "cell_type": "markdown",
   "metadata": {},
   "source": [
    "## EDA"
   ]
  },
  {
   "cell_type": "code",
   "execution_count": 47,
   "metadata": {},
   "outputs": [
    {
     "data": {
      "image/png": "[encoded data removed]",
      "text/plain": [
       "<Figure size 1080x360 with 2 Axes>"
      ]
     },
     "metadata": {
      "needs_background": "light"
     },
     "output_type": "display_data"
    }
   ],
   "source": [
    "fig, axs = plt.subplots(ncols=2, figsize=(15, 5))\n",
    "\n",
    "ax = sns.distplot(df['availability_365'], color='#FF5A5F', ax=axs[0]);\n",
    "ax.set_title('Yearly Day Availability', fontsize=20)\n",
    "ax.set_xlabel('Number of Days Available', fontsize=15);\n",
    "\n",
    "ax = sns.distplot(df['availability_30'], color='#FF5A5F', ax=axs[1]);\n",
    "ax.set_title('30 Day Availability', fontsize=20)\n",
    "ax.set_xlabel('Number of Days Available', fontsize=15);"
   ]
  },
  {
   "cell_type": "code",
   "execution_count": 48,
   "metadata": {
    "scrolled": false
   },
   "outputs": [
    {
     "data": {
      "image/png": "[encoded data removed]",
      "text/plain": [
       "<Figure size 864x360 with 1 Axes>"
      ]
     },
     "metadata": {
      "needs_background": "light"
     },
     "output_type": "display_data"
    }
   ],
   "source": [
    "model1_plot = df.groupby(['accommodates', 'bedrooms']).size().reset_index().pivot(columns='bedrooms',\n",
    "                                                                                  index='accommodates', values=0)\n",
    "\n",
    "model1_plot.plot(kind='bar', stacked=True, figsize=(12,5))\n",
    "plt.title(\"Accomodates and Number of Bedrooms\", size=20)\n",
    "plt.xlabel(\"Accomodates\", size=15);"
   ]
  },
  {
   "cell_type": "markdown",
   "metadata": {},
   "source": [
    "Looking at the barplot above reveals that a good majority of the listings tend to accommodate 2-6 people, mostly with 1 or 2 bedrooms."
   ]
  },
  {
   "cell_type": "code",
   "execution_count": 49,
   "metadata": {
    "scrolled": true
   },
   "outputs": [
    {
     "data": {
      "text/plain": [
       "1.0    3176\n",
       "0.0     721\n",
       "2.0     518\n",
       "3.0      50\n",
       "4.0       5\n",
       "6.0       2\n",
       "Name: bedrooms, dtype: int64"
      ]
     },
     "execution_count": 49,
     "metadata": {},
     "output_type": "execute_result"
    }
   ],
   "source": [
    "subset = [2,3,4,5,6]\n",
    "\n",
    "temp = df[df['accommodates'].isin(subset)]\n",
    "temp['bedrooms'].value_counts()"
   ]
  },
  {
   "cell_type": "markdown",
   "metadata": {},
   "source": [
    "**Exploring bedroom distribution of listings that can accomodate between 2-6 people.**"
   ]
  },
  {
   "cell_type": "code",
   "execution_count": 50,
   "metadata": {},
   "outputs": [
    {
     "name": "stdout",
     "output_type": "stream",
     "text": [
      "Studios make up 16.12% of listings that can accommodate 2-6 people.\n",
      "One bedroom listings make up 71.02% of listings that can accommodate 2-6 people.\n",
      "Two bedroom listings make up 11.58% of listings that can accommodate 2-6 people.\n"
     ]
    }
   ],
   "source": [
    "percent_one_bed = temp['bedrooms'].value_counts().tolist()[0] / temp.shape[0] * 100\n",
    "percent_studio = temp['bedrooms'].value_counts().tolist()[1] / temp.shape[0] * 100\n",
    "percent_two_bed = temp['bedrooms'].value_counts().tolist()[2] / temp.shape[0] * 100\n",
    "\n",
    "print(f'Studios make up {percent_studio:.2f}% of listings that can accommodate 2-6 people.')\n",
    "print(f'One bedroom listings make up {percent_one_bed:.2f}% of listings that can accommodate 2-6 people.')\n",
    "print(f'Two bedroom listings make up {percent_two_bed:.2f}% of listings that can accommodate 2-6 people.')"
   ]
  },
  {
   "cell_type": "markdown",
   "metadata": {},
   "source": [
    "### Security Deposit"
   ]
  },
  {
   "cell_type": "code",
   "execution_count": 51,
   "metadata": {
    "scrolled": true
   },
   "outputs": [
    {
     "data": {
      "text/plain": [
       "count    5641.000000\n",
       "mean       99.749973\n",
       "std       232.833647\n",
       "min         0.000000\n",
       "25%         0.000000\n",
       "50%         0.000000\n",
       "75%       184.000000\n",
       "max      5060.000000\n",
       "Name: security_deposit, dtype: float64"
      ]
     },
     "execution_count": 51,
     "metadata": {},
     "output_type": "execute_result"
    }
   ],
   "source": [
    "df['security_deposit'].describe()"
   ]
  },
  {
   "cell_type": "code",
   "execution_count": 52,
   "metadata": {
    "scrolled": false
   },
   "outputs": [
    {
     "data": {
      "text/plain": [
       "1047    5060.0000\n",
       "1677    5060.0000\n",
       "439     5051.4072\n",
       "4646    5042.0600\n",
       "1750    4817.8560\n",
       "          ...    \n",
       "1649     460.0000\n",
       "1650     460.0000\n",
       "1651     460.0000\n",
       "1653     460.0000\n",
       "1654     460.0000\n",
       "Name: security_deposit, Length: 100, dtype: float64"
      ]
     },
     "execution_count": 52,
     "metadata": {},
     "output_type": "execute_result"
    }
   ],
   "source": [
    "df['security_deposit'].nlargest(100)"
   ]
  },
  {
   "cell_type": "code",
   "execution_count": 53,
   "metadata": {
    "scrolled": false
   },
   "outputs": [
    {
     "data": {
      "image/png": "[encoded data removed]",
      "text/plain": [
       "<Figure size 432x288 with 1 Axes>"
      ]
     },
     "metadata": {
      "needs_background": "light"
     },
     "output_type": "display_data"
    }
   ],
   "source": [
    "sns.distplot(df['security_deposit'], color='#FF5A5F');"
   ]
  },
  {
   "cell_type": "code",
   "execution_count": 54,
   "metadata": {},
   "outputs": [
    {
     "data": {
      "text/plain": [
       "listing_url                https://www.airbnb.com/rooms/23373523\n",
       "id                                                      23373523\n",
       "host_response_time                                within an hour\n",
       "host_response_rate                                           100\n",
       "host_is_superhost                                              1\n",
       "                                           ...                  \n",
       "Hot tub                                                        0\n",
       "Bathtub with bath chair                                        0\n",
       "Handheld shower head                                           0\n",
       "Table corner guards                                            0\n",
       "Smoking allowed                                                0\n",
       "Name: 1649, Length: 183, dtype: object"
      ]
     },
     "execution_count": 54,
     "metadata": {},
     "output_type": "execute_result"
    }
   ],
   "source": [
    "df.loc[1649]"
   ]
  },
  {
   "cell_type": "code",
   "execution_count": 55,
   "metadata": {
    "scrolled": false
   },
   "outputs": [],
   "source": [
    "df = df[df['security_deposit'] <= 500]"
   ]
  },
  {
   "cell_type": "code",
   "execution_count": 56,
   "metadata": {
    "scrolled": false
   },
   "outputs": [
    {
     "data": {
      "image/png": "[encoded data removed]",
      "text/plain": [
       "<Figure size 432x288 with 1 Axes>"
      ]
     },
     "metadata": {
      "needs_background": "light"
     },
     "output_type": "display_data"
    }
   ],
   "source": [
    "sns.countplot(y=df['property_type'])\n",
    "plt.ylabel('Property Types')\n",
    "plt.xlabel('Number of Listings')\n",
    "plt.title('Number of Listings by Propery Type');"
   ]
  },
  {
   "cell_type": "code",
   "execution_count": 57,
   "metadata": {
    "scrolled": false
   },
   "outputs": [
    {
     "data": {
      "image/png": "[encoded data removed]",
      "text/plain": [
       "<Figure size 720x720 with 1 Axes>"
      ]
     },
     "metadata": {
      "needs_background": "light"
     },
     "output_type": "display_data"
    }
   ],
   "source": [
    "fig, ax = plt.subplots(figsize=(10,10)) \n",
    "\n",
    "ax = sns.countplot(y=df['neighbourhood_cleansed'])\n",
    "plt.ylabel('neighbourhood_cleansed')\n",
    "plt.xlabel('Number of Listings')\n",
    "plt.title('Number of Listings by Propery Type');"
   ]
  },
  {
   "cell_type": "code",
   "execution_count": 58,
   "metadata": {},
   "outputs": [],
   "source": [
    "import geopy\n",
    "from geopy.distance import vincenty\n",
    "\n",
    "tokyo_palace = (35.6852, 139.7528)\n",
    "ginza_district = (35.6712, 139.7665)\n",
    "sensoji_temple = (35.7148, 139.7967)\n",
    "ueno_park = (35.7155, 139.7741)\n",
    "tokyo_skytree = (35.7101, 139.8107)\n",
    "\n",
    "\n",
    "def get_palace_distance(src):\n",
    "    tokyo_palace = (35.6852, 139.7528)\n",
    "    return geopy.distance.distance(src, tokyo_palace).meters\n",
    "\n",
    "def get_ginza_distance(src):\n",
    "    ginza_district = (35.6712, 139.7665)\n",
    "    return geopy.distance.distance(src, ginza_district).meters\n",
    "\n",
    "def get_temple_distance(src):\n",
    "    sensoji_temple = (35.7148, 139.7967)\n",
    "    return geopy.distance.distance(src, sensoji_temple).meters\n",
    "\n",
    "def get_park_distance(src):\n",
    "    ueno_park = (35.7155, 139.7741)\n",
    "    return geopy.distance.distance(src, ueno_park).meters\n",
    "\n",
    "def get_skytree_distance(src):\n",
    "    tokyo_skytree = (35.7101, 139.8107)\n",
    "    return geopy.distance.distance(src, tokyo_skytree).meters"
   ]
  },
  {
   "cell_type": "code",
   "execution_count": 59,
   "metadata": {},
   "outputs": [],
   "source": [
    "df['lat_long'] = list(zip(df['latitude'], df['longitude']))\n",
    "df['palace_dist'] = df['lat_long'].apply(get_palace_distance)\n",
    "df['ginza_dist'] = df['lat_long'].apply(get_ginza_distance)\n",
    "df['temple_dist'] = df['lat_long'].apply(get_temple_distance)\n",
    "df['park_dist'] = df['lat_long'].apply(get_park_distance)\n",
    "df['skytree_dist'] = df['lat_long'].apply(get_skytree_distance)"
   ]
  },
  {
   "cell_type": "code",
   "execution_count": 60,
   "metadata": {
    "scrolled": false
   },
   "outputs": [
    {
     "data": {
      "text/html": [
       "<div>\n",
       "<style scoped>\n",
       "    .dataframe tbody tr th:only-of-type {\n",
       "        vertical-align: middle;\n",
       "    }\n",
       "\n",
       "    .dataframe tbody tr th {\n",
       "        vertical-align: top;\n",
       "    }\n",
       "\n",
       "    .dataframe thead th {\n",
       "        text-align: right;\n",
       "    }\n",
       "</style>\n",
       "<table border=\"1\" class=\"dataframe\">\n",
       "  <thead>\n",
       "    <tr style=\"text-align: right;\">\n",
       "      <th></th>\n",
       "      <th>latitude</th>\n",
       "      <th>longitude</th>\n",
       "      <th>lat_long</th>\n",
       "      <th>palace_dist</th>\n",
       "    </tr>\n",
       "  </thead>\n",
       "  <tbody>\n",
       "    <tr>\n",
       "      <th>0</th>\n",
       "      <td>35.71721</td>\n",
       "      <td>139.82596</td>\n",
       "      <td>(35.717209999999994, 139.82596)</td>\n",
       "      <td>7513.579496</td>\n",
       "    </tr>\n",
       "    <tr>\n",
       "      <th>1</th>\n",
       "      <td>35.73818</td>\n",
       "      <td>139.77009</td>\n",
       "      <td>(35.73818, 139.77008999999998)</td>\n",
       "      <td>6082.978847</td>\n",
       "    </tr>\n",
       "    <tr>\n",
       "      <th>2</th>\n",
       "      <td>35.67968</td>\n",
       "      <td>139.67949</td>\n",
       "      <td>(35.67968, 139.67949)</td>\n",
       "      <td>6664.499962</td>\n",
       "    </tr>\n",
       "    <tr>\n",
       "      <th>3</th>\n",
       "      <td>35.65833</td>\n",
       "      <td>139.67153</td>\n",
       "      <td>(35.65833, 139.67153000000002)</td>\n",
       "      <td>7938.897330</td>\n",
       "    </tr>\n",
       "    <tr>\n",
       "      <th>4</th>\n",
       "      <td>35.69098</td>\n",
       "      <td>139.70618</td>\n",
       "      <td>(35.690979999999996, 139.70618000000002)</td>\n",
       "      <td>4268.373312</td>\n",
       "    </tr>\n",
       "  </tbody>\n",
       "</table>\n",
       "</div>"
      ],
      "text/plain": [
       "   latitude  longitude                                  lat_long  palace_dist\n",
       "0  35.71721  139.82596           (35.717209999999994, 139.82596)  7513.579496\n",
       "1  35.73818  139.77009            (35.73818, 139.77008999999998)  6082.978847\n",
       "2  35.67968  139.67949                     (35.67968, 139.67949)  6664.499962\n",
       "3  35.65833  139.67153            (35.65833, 139.67153000000002)  7938.897330\n",
       "4  35.69098  139.70618  (35.690979999999996, 139.70618000000002)  4268.373312"
      ]
     },
     "execution_count": 60,
     "metadata": {},
     "output_type": "execute_result"
    }
   ],
   "source": [
    "df[['latitude', 'longitude', 'lat_long', 'palace_dist']].head()"
   ]
  },
  {
   "cell_type": "code",
   "execution_count": 61,
   "metadata": {},
   "outputs": [
    {
     "data": {
      "text/html": [
       "<div>\n",
       "<style scoped>\n",
       "    .dataframe tbody tr th:only-of-type {\n",
       "        vertical-align: middle;\n",
       "    }\n",
       "\n",
       "    .dataframe tbody tr th {\n",
       "        vertical-align: top;\n",
       "    }\n",
       "\n",
       "    .dataframe thead th {\n",
       "        text-align: right;\n",
       "    }\n",
       "</style>\n",
       "<table border=\"1\" class=\"dataframe\">\n",
       "  <thead>\n",
       "    <tr style=\"text-align: right;\">\n",
       "      <th></th>\n",
       "      <th>bedrooms</th>\n",
       "      <th>accommodates</th>\n",
       "      <th>price</th>\n",
       "    </tr>\n",
       "  </thead>\n",
       "  <tbody>\n",
       "    <tr>\n",
       "      <th>30</th>\n",
       "      <td>1.0</td>\n",
       "      <td>11</td>\n",
       "      <td>199.201467</td>\n",
       "    </tr>\n",
       "    <tr>\n",
       "      <th>43</th>\n",
       "      <td>1.0</td>\n",
       "      <td>12</td>\n",
       "      <td>174.379867</td>\n",
       "    </tr>\n",
       "    <tr>\n",
       "      <th>54</th>\n",
       "      <td>1.0</td>\n",
       "      <td>8</td>\n",
       "      <td>148.393756</td>\n",
       "    </tr>\n",
       "    <tr>\n",
       "      <th>57</th>\n",
       "      <td>1.0</td>\n",
       "      <td>6</td>\n",
       "      <td>139.826939</td>\n",
       "    </tr>\n",
       "    <tr>\n",
       "      <th>58</th>\n",
       "      <td>1.0</td>\n",
       "      <td>9</td>\n",
       "      <td>138.898769</td>\n",
       "    </tr>\n",
       "    <tr>\n",
       "      <th>62</th>\n",
       "      <td>1.0</td>\n",
       "      <td>7</td>\n",
       "      <td>129.497667</td>\n",
       "    </tr>\n",
       "    <tr>\n",
       "      <th>63</th>\n",
       "      <td>1.0</td>\n",
       "      <td>10</td>\n",
       "      <td>128.651880</td>\n",
       "    </tr>\n",
       "    <tr>\n",
       "      <th>66</th>\n",
       "      <td>1.0</td>\n",
       "      <td>5</td>\n",
       "      <td>125.359825</td>\n",
       "    </tr>\n",
       "    <tr>\n",
       "      <th>68</th>\n",
       "      <td>1.0</td>\n",
       "      <td>4</td>\n",
       "      <td>105.227815</td>\n",
       "    </tr>\n",
       "    <tr>\n",
       "      <th>70</th>\n",
       "      <td>1.0</td>\n",
       "      <td>3</td>\n",
       "      <td>90.687304</td>\n",
       "    </tr>\n",
       "    <tr>\n",
       "      <th>74</th>\n",
       "      <td>1.0</td>\n",
       "      <td>2</td>\n",
       "      <td>77.061210</td>\n",
       "    </tr>\n",
       "    <tr>\n",
       "      <th>78</th>\n",
       "      <td>1.0</td>\n",
       "      <td>16</td>\n",
       "      <td>43.681600</td>\n",
       "    </tr>\n",
       "    <tr>\n",
       "      <th>79</th>\n",
       "      <td>1.0</td>\n",
       "      <td>1</td>\n",
       "      <td>38.313459</td>\n",
       "    </tr>\n",
       "    <tr>\n",
       "      <th>80</th>\n",
       "      <td>1.0</td>\n",
       "      <td>14</td>\n",
       "      <td>18.860000</td>\n",
       "    </tr>\n",
       "  </tbody>\n",
       "</table>\n",
       "</div>"
      ],
      "text/plain": [
       "    bedrooms  accommodates       price\n",
       "30       1.0            11  199.201467\n",
       "43       1.0            12  174.379867\n",
       "54       1.0             8  148.393756\n",
       "57       1.0             6  139.826939\n",
       "58       1.0             9  138.898769\n",
       "62       1.0             7  129.497667\n",
       "63       1.0            10  128.651880\n",
       "66       1.0             5  125.359825\n",
       "68       1.0             4  105.227815\n",
       "70       1.0             3   90.687304\n",
       "74       1.0             2   77.061210\n",
       "78       1.0            16   43.681600\n",
       "79       1.0             1   38.313459\n",
       "80       1.0            14   18.860000"
      ]
     },
     "execution_count": 61,
     "metadata": {},
     "output_type": "execute_result"
    }
   ],
   "source": [
    "h = df.groupby(['bedrooms', 'accommodates']).agg({'price' : 'mean'})\n",
    "\n",
    "h.sort_values(by=['price'], ascending=False, inplace=True)\n",
    "\n",
    "h.reset_index(inplace=True)\n",
    "\n",
    "h[h['bedrooms'] == 1]"
   ]
  },
  {
   "cell_type": "code",
   "execution_count": 62,
   "metadata": {
    "scrolled": true
   },
   "outputs": [
    {
     "data": {
      "text/html": [
       "<div>\n",
       "<style scoped>\n",
       "    .dataframe tbody tr th:only-of-type {\n",
       "        vertical-align: middle;\n",
       "    }\n",
       "\n",
       "    .dataframe tbody tr th {\n",
       "        vertical-align: top;\n",
       "    }\n",
       "\n",
       "    .dataframe thead th {\n",
       "        text-align: right;\n",
       "    }\n",
       "</style>\n",
       "<table border=\"1\" class=\"dataframe\">\n",
       "  <thead>\n",
       "    <tr style=\"text-align: right;\">\n",
       "      <th></th>\n",
       "      <th>listing_url</th>\n",
       "      <th>id</th>\n",
       "      <th>host_response_time</th>\n",
       "      <th>host_response_rate</th>\n",
       "      <th>host_is_superhost</th>\n",
       "      <th>host_neighbourhood</th>\n",
       "      <th>neighbourhood_cleansed</th>\n",
       "      <th>latitude</th>\n",
       "      <th>longitude</th>\n",
       "      <th>property_type</th>\n",
       "      <th>...</th>\n",
       "      <th>Bathtub with bath chair</th>\n",
       "      <th>Handheld shower head</th>\n",
       "      <th>Table corner guards</th>\n",
       "      <th>Smoking allowed</th>\n",
       "      <th>lat_long</th>\n",
       "      <th>palace_dist</th>\n",
       "      <th>ginza_dist</th>\n",
       "      <th>temple_dist</th>\n",
       "      <th>park_dist</th>\n",
       "      <th>skytree_dist</th>\n",
       "    </tr>\n",
       "  </thead>\n",
       "  <tbody>\n",
       "    <tr>\n",
       "      <th>0</th>\n",
       "      <td>https://www.airbnb.com/rooms/197677</td>\n",
       "      <td>197677</td>\n",
       "      <td>within a day</td>\n",
       "      <td>100.0</td>\n",
       "      <td>1</td>\n",
       "      <td>Sumida District</td>\n",
       "      <td>Sumida Ku</td>\n",
       "      <td>35.71721</td>\n",
       "      <td>139.82596</td>\n",
       "      <td>Apartment</td>\n",
       "      <td>...</td>\n",
       "      <td>0</td>\n",
       "      <td>0</td>\n",
       "      <td>0</td>\n",
       "      <td>0</td>\n",
       "      <td>(35.717209999999994, 139.82596)</td>\n",
       "      <td>7513.579496</td>\n",
       "      <td>7417.810752</td>\n",
       "      <td>2661.084760</td>\n",
       "      <td>4696.409605</td>\n",
       "      <td>1590.312028</td>\n",
       "    </tr>\n",
       "    <tr>\n",
       "      <th>1</th>\n",
       "      <td>https://www.airbnb.com/rooms/776070</td>\n",
       "      <td>776070</td>\n",
       "      <td>within an hour</td>\n",
       "      <td>100.0</td>\n",
       "      <td>1</td>\n",
       "      <td>Kita District</td>\n",
       "      <td>Arakawa Ku</td>\n",
       "      <td>35.73818</td>\n",
       "      <td>139.77009</td>\n",
       "      <td>House</td>\n",
       "      <td>...</td>\n",
       "      <td>0</td>\n",
       "      <td>0</td>\n",
       "      <td>0</td>\n",
       "      <td>0</td>\n",
       "      <td>(35.73818, 139.77008999999998)</td>\n",
       "      <td>6082.978847</td>\n",
       "      <td>7438.766049</td>\n",
       "      <td>3539.136814</td>\n",
       "      <td>2542.453677</td>\n",
       "      <td>4817.368015</td>\n",
       "    </tr>\n",
       "    <tr>\n",
       "      <th>2</th>\n",
       "      <td>https://www.airbnb.com/rooms/905944</td>\n",
       "      <td>905944</td>\n",
       "      <td>within an hour</td>\n",
       "      <td>95.0</td>\n",
       "      <td>1</td>\n",
       "      <td>Shibuya District</td>\n",
       "      <td>Shibuya Ku</td>\n",
       "      <td>35.67968</td>\n",
       "      <td>139.67949</td>\n",
       "      <td>Apartment</td>\n",
       "      <td>...</td>\n",
       "      <td>0</td>\n",
       "      <td>0</td>\n",
       "      <td>0</td>\n",
       "      <td>0</td>\n",
       "      <td>(35.67968, 139.67949)</td>\n",
       "      <td>6664.499962</td>\n",
       "      <td>7933.153958</td>\n",
       "      <td>11301.364119</td>\n",
       "      <td>9440.211966</td>\n",
       "      <td>12346.096121</td>\n",
       "    </tr>\n",
       "    <tr>\n",
       "      <th>3</th>\n",
       "      <td>https://www.airbnb.com/rooms/1016831</td>\n",
       "      <td>1016831</td>\n",
       "      <td>within a few hours</td>\n",
       "      <td>100.0</td>\n",
       "      <td>1</td>\n",
       "      <td>Shimokitazawa</td>\n",
       "      <td>Setagaya Ku</td>\n",
       "      <td>35.65833</td>\n",
       "      <td>139.67153</td>\n",
       "      <td>House</td>\n",
       "      <td>...</td>\n",
       "      <td>0</td>\n",
       "      <td>0</td>\n",
       "      <td>0</td>\n",
       "      <td>0</td>\n",
       "      <td>(35.65833, 139.67153000000002)</td>\n",
       "      <td>7938.897330</td>\n",
       "      <td>8716.697715</td>\n",
       "      <td>12947.277243</td>\n",
       "      <td>11244.471333</td>\n",
       "      <td>13845.629774</td>\n",
       "    </tr>\n",
       "    <tr>\n",
       "      <th>4</th>\n",
       "      <td>https://www.airbnb.com/rooms/1096292</td>\n",
       "      <td>1096292</td>\n",
       "      <td>within a day</td>\n",
       "      <td>100.0</td>\n",
       "      <td>1</td>\n",
       "      <td>Shinjuku District</td>\n",
       "      <td>Shinjuku Ku</td>\n",
       "      <td>35.69098</td>\n",
       "      <td>139.70618</td>\n",
       "      <td>House</td>\n",
       "      <td>...</td>\n",
       "      <td>0</td>\n",
       "      <td>0</td>\n",
       "      <td>0</td>\n",
       "      <td>0</td>\n",
       "      <td>(35.690979999999996, 139.70618000000002)</td>\n",
       "      <td>4268.373312</td>\n",
       "      <td>5885.015482</td>\n",
       "      <td>8607.893109</td>\n",
       "      <td>6721.937428</td>\n",
       "      <td>9694.372231</td>\n",
       "    </tr>\n",
       "    <tr>\n",
       "      <th>...</th>\n",
       "      <td>...</td>\n",
       "      <td>...</td>\n",
       "      <td>...</td>\n",
       "      <td>...</td>\n",
       "      <td>...</td>\n",
       "      <td>...</td>\n",
       "      <td>...</td>\n",
       "      <td>...</td>\n",
       "      <td>...</td>\n",
       "      <td>...</td>\n",
       "      <td>...</td>\n",
       "      <td>...</td>\n",
       "      <td>...</td>\n",
       "      <td>...</td>\n",
       "      <td>...</td>\n",
       "      <td>...</td>\n",
       "      <td>...</td>\n",
       "      <td>...</td>\n",
       "      <td>...</td>\n",
       "      <td>...</td>\n",
       "      <td>...</td>\n",
       "    </tr>\n",
       "    <tr>\n",
       "      <th>5636</th>\n",
       "      <td>https://www.airbnb.com/rooms/37685005</td>\n",
       "      <td>37685005</td>\n",
       "      <td>within an hour</td>\n",
       "      <td>100.0</td>\n",
       "      <td>0</td>\n",
       "      <td>Roppongi</td>\n",
       "      <td>Minato Ku</td>\n",
       "      <td>35.65749</td>\n",
       "      <td>139.73405</td>\n",
       "      <td>Apartment</td>\n",
       "      <td>...</td>\n",
       "      <td>0</td>\n",
       "      <td>0</td>\n",
       "      <td>0</td>\n",
       "      <td>0</td>\n",
       "      <td>(35.65749, 139.73405)</td>\n",
       "      <td>3512.019221</td>\n",
       "      <td>3308.582525</td>\n",
       "      <td>8520.225572</td>\n",
       "      <td>7387.146579</td>\n",
       "      <td>9067.338234</td>\n",
       "    </tr>\n",
       "    <tr>\n",
       "      <th>5637</th>\n",
       "      <td>https://www.airbnb.com/rooms/37796987</td>\n",
       "      <td>37796987</td>\n",
       "      <td>within an hour</td>\n",
       "      <td>100.0</td>\n",
       "      <td>0</td>\n",
       "      <td>Shinjuku District</td>\n",
       "      <td>Shinjuku Ku</td>\n",
       "      <td>35.70137</td>\n",
       "      <td>139.71304</td>\n",
       "      <td>Apartment</td>\n",
       "      <td>...</td>\n",
       "      <td>0</td>\n",
       "      <td>1</td>\n",
       "      <td>0</td>\n",
       "      <td>0</td>\n",
       "      <td>(35.701370000000004, 139.71303999999998)</td>\n",
       "      <td>4021.164809</td>\n",
       "      <td>5884.133653</td>\n",
       "      <td>7716.045139</td>\n",
       "      <td>5743.695914</td>\n",
       "      <td>8890.902498</td>\n",
       "    </tr>\n",
       "    <tr>\n",
       "      <th>5638</th>\n",
       "      <td>https://www.airbnb.com/rooms/38047990</td>\n",
       "      <td>38047990</td>\n",
       "      <td>within an hour</td>\n",
       "      <td>100.0</td>\n",
       "      <td>0</td>\n",
       "      <td>Sumida District</td>\n",
       "      <td>Sumida Ku</td>\n",
       "      <td>35.69423</td>\n",
       "      <td>139.81140</td>\n",
       "      <td>Apartment</td>\n",
       "      <td>...</td>\n",
       "      <td>0</td>\n",
       "      <td>0</td>\n",
       "      <td>0</td>\n",
       "      <td>0</td>\n",
       "      <td>(35.69423, 139.8114)</td>\n",
       "      <td>5398.007156</td>\n",
       "      <td>4800.988940</td>\n",
       "      <td>2641.731157</td>\n",
       "      <td>4118.753912</td>\n",
       "      <td>1761.971124</td>\n",
       "    </tr>\n",
       "    <tr>\n",
       "      <th>5639</th>\n",
       "      <td>https://www.airbnb.com/rooms/38087959</td>\n",
       "      <td>38087959</td>\n",
       "      <td>within an hour</td>\n",
       "      <td>100.0</td>\n",
       "      <td>0</td>\n",
       "      <td>Shinagawa District</td>\n",
       "      <td>Shinagawa Ku</td>\n",
       "      <td>35.61911</td>\n",
       "      <td>139.74215</td>\n",
       "      <td>Apartment</td>\n",
       "      <td>...</td>\n",
       "      <td>0</td>\n",
       "      <td>1</td>\n",
       "      <td>0</td>\n",
       "      <td>0</td>\n",
       "      <td>(35.61911, 139.74215)</td>\n",
       "      <td>7396.006513</td>\n",
       "      <td>6185.953317</td>\n",
       "      <td>11709.666542</td>\n",
       "      <td>11079.067715</td>\n",
       "      <td>11850.957830</td>\n",
       "    </tr>\n",
       "    <tr>\n",
       "      <th>5640</th>\n",
       "      <td>https://www.airbnb.com/rooms/38365018</td>\n",
       "      <td>38365018</td>\n",
       "      <td>within an hour</td>\n",
       "      <td>100.0</td>\n",
       "      <td>0</td>\n",
       "      <td>Itabashi District</td>\n",
       "      <td>Itabashi Ku</td>\n",
       "      <td>35.74964</td>\n",
       "      <td>139.71927</td>\n",
       "      <td>Apartment</td>\n",
       "      <td>...</td>\n",
       "      <td>0</td>\n",
       "      <td>1</td>\n",
       "      <td>0</td>\n",
       "      <td>1</td>\n",
       "      <td>(35.74964, 139.71927)</td>\n",
       "      <td>7766.935228</td>\n",
       "      <td>9695.996630</td>\n",
       "      <td>8000.736040</td>\n",
       "      <td>6241.267542</td>\n",
       "      <td>9363.099948</td>\n",
       "    </tr>\n",
       "  </tbody>\n",
       "</table>\n",
       "<p>5587 rows × 189 columns</p>\n",
       "</div>"
      ],
      "text/plain": [
       "                                listing_url        id  host_response_time  \\\n",
       "0       https://www.airbnb.com/rooms/197677    197677        within a day   \n",
       "1       https://www.airbnb.com/rooms/776070    776070      within an hour   \n",
       "2       https://www.airbnb.com/rooms/905944    905944      within an hour   \n",
       "3      https://www.airbnb.com/rooms/1016831   1016831  within a few hours   \n",
       "4      https://www.airbnb.com/rooms/1096292   1096292        within a day   \n",
       "...                                     ...       ...                 ...   \n",
       "5636  https://www.airbnb.com/rooms/37685005  37685005      within an hour   \n",
       "5637  https://www.airbnb.com/rooms/37796987  37796987      within an hour   \n",
       "5638  https://www.airbnb.com/rooms/38047990  38047990      within an hour   \n",
       "5639  https://www.airbnb.com/rooms/38087959  38087959      within an hour   \n",
       "5640  https://www.airbnb.com/rooms/38365018  38365018      within an hour   \n",
       "\n",
       "      host_response_rate  host_is_superhost  host_neighbourhood  \\\n",
       "0                  100.0                  1     Sumida District   \n",
       "1                  100.0                  1       Kita District   \n",
       "2                   95.0                  1    Shibuya District   \n",
       "3                  100.0                  1       Shimokitazawa   \n",
       "4                  100.0                  1   Shinjuku District   \n",
       "...                  ...                ...                 ...   \n",
       "5636               100.0                  0            Roppongi   \n",
       "5637               100.0                  0   Shinjuku District   \n",
       "5638               100.0                  0     Sumida District   \n",
       "5639               100.0                  0  Shinagawa District   \n",
       "5640               100.0                  0   Itabashi District   \n",
       "\n",
       "     neighbourhood_cleansed  latitude  longitude property_type  ...  \\\n",
       "0                 Sumida Ku  35.71721  139.82596     Apartment  ...   \n",
       "1                Arakawa Ku  35.73818  139.77009         House  ...   \n",
       "2                Shibuya Ku  35.67968  139.67949     Apartment  ...   \n",
       "3               Setagaya Ku  35.65833  139.67153         House  ...   \n",
       "4               Shinjuku Ku  35.69098  139.70618         House  ...   \n",
       "...                     ...       ...        ...           ...  ...   \n",
       "5636              Minato Ku  35.65749  139.73405     Apartment  ...   \n",
       "5637            Shinjuku Ku  35.70137  139.71304     Apartment  ...   \n",
       "5638              Sumida Ku  35.69423  139.81140     Apartment  ...   \n",
       "5639           Shinagawa Ku  35.61911  139.74215     Apartment  ...   \n",
       "5640            Itabashi Ku  35.74964  139.71927     Apartment  ...   \n",
       "\n",
       "     Bathtub with bath chair  Handheld shower head  Table corner guards  \\\n",
       "0                          0                     0                    0   \n",
       "1                          0                     0                    0   \n",
       "2                          0                     0                    0   \n",
       "3                          0                     0                    0   \n",
       "4                          0                     0                    0   \n",
       "...                      ...                   ...                  ...   \n",
       "5636                       0                     0                    0   \n",
       "5637                       0                     1                    0   \n",
       "5638                       0                     0                    0   \n",
       "5639                       0                     1                    0   \n",
       "5640                       0                     1                    0   \n",
       "\n",
       "      Smoking allowed                                  lat_long  palace_dist  \\\n",
       "0                   0           (35.717209999999994, 139.82596)  7513.579496   \n",
       "1                   0            (35.73818, 139.77008999999998)  6082.978847   \n",
       "2                   0                     (35.67968, 139.67949)  6664.499962   \n",
       "3                   0            (35.65833, 139.67153000000002)  7938.897330   \n",
       "4                   0  (35.690979999999996, 139.70618000000002)  4268.373312   \n",
       "...               ...                                       ...          ...   \n",
       "5636                0                     (35.65749, 139.73405)  3512.019221   \n",
       "5637                0  (35.701370000000004, 139.71303999999998)  4021.164809   \n",
       "5638                0                      (35.69423, 139.8114)  5398.007156   \n",
       "5639                0                     (35.61911, 139.74215)  7396.006513   \n",
       "5640                1                     (35.74964, 139.71927)  7766.935228   \n",
       "\n",
       "       ginza_dist   temple_dist     park_dist  skytree_dist  \n",
       "0     7417.810752   2661.084760   4696.409605   1590.312028  \n",
       "1     7438.766049   3539.136814   2542.453677   4817.368015  \n",
       "2     7933.153958  11301.364119   9440.211966  12346.096121  \n",
       "3     8716.697715  12947.277243  11244.471333  13845.629774  \n",
       "4     5885.015482   8607.893109   6721.937428   9694.372231  \n",
       "...           ...           ...           ...           ...  \n",
       "5636  3308.582525   8520.225572   7387.146579   9067.338234  \n",
       "5637  5884.133653   7716.045139   5743.695914   8890.902498  \n",
       "5638  4800.988940   2641.731157   4118.753912   1761.971124  \n",
       "5639  6185.953317  11709.666542  11079.067715  11850.957830  \n",
       "5640  9695.996630   8000.736040   6241.267542   9363.099948  \n",
       "\n",
       "[5587 rows x 189 columns]"
      ]
     },
     "execution_count": 62,
     "metadata": {},
     "output_type": "execute_result"
    }
   ],
   "source": [
    "df"
   ]
  },
  {
   "cell_type": "code",
   "execution_count": 63,
   "metadata": {
    "scrolled": true
   },
   "outputs": [
    {
     "data": {
      "text/html": [
       "<div>\n",
       "<style scoped>\n",
       "    .dataframe tbody tr th:only-of-type {\n",
       "        vertical-align: middle;\n",
       "    }\n",
       "\n",
       "    .dataframe tbody tr th {\n",
       "        vertical-align: top;\n",
       "    }\n",
       "\n",
       "    .dataframe thead th {\n",
       "        text-align: right;\n",
       "    }\n",
       "</style>\n",
       "<table border=\"1\" class=\"dataframe\">\n",
       "  <thead>\n",
       "    <tr style=\"text-align: right;\">\n",
       "      <th></th>\n",
       "      <th>id</th>\n",
       "      <th>host_response_rate</th>\n",
       "      <th>host_is_superhost</th>\n",
       "      <th>latitude</th>\n",
       "      <th>longitude</th>\n",
       "      <th>accommodates</th>\n",
       "      <th>bathrooms</th>\n",
       "      <th>bedrooms</th>\n",
       "      <th>beds</th>\n",
       "      <th>price</th>\n",
       "      <th>...</th>\n",
       "      <th>Hot tub</th>\n",
       "      <th>Bathtub with bath chair</th>\n",
       "      <th>Handheld shower head</th>\n",
       "      <th>Table corner guards</th>\n",
       "      <th>Smoking allowed</th>\n",
       "      <th>palace_dist</th>\n",
       "      <th>ginza_dist</th>\n",
       "      <th>temple_dist</th>\n",
       "      <th>park_dist</th>\n",
       "      <th>skytree_dist</th>\n",
       "    </tr>\n",
       "  </thead>\n",
       "  <tbody>\n",
       "    <tr>\n",
       "      <th>count</th>\n",
       "      <td>5.587000e+03</td>\n",
       "      <td>5587.000000</td>\n",
       "      <td>5587.000000</td>\n",
       "      <td>5587.000000</td>\n",
       "      <td>5587.000000</td>\n",
       "      <td>5587.000000</td>\n",
       "      <td>5587.000000</td>\n",
       "      <td>5587.000000</td>\n",
       "      <td>5587.000000</td>\n",
       "      <td>5587.000000</td>\n",
       "      <td>...</td>\n",
       "      <td>5587.000000</td>\n",
       "      <td>5587.000000</td>\n",
       "      <td>5587.000000</td>\n",
       "      <td>5587.000000</td>\n",
       "      <td>5587.000000</td>\n",
       "      <td>5587.000000</td>\n",
       "      <td>5587.000000</td>\n",
       "      <td>5587.000000</td>\n",
       "      <td>5587.000000</td>\n",
       "      <td>5587.000000</td>\n",
       "    </tr>\n",
       "    <tr>\n",
       "      <th>mean</th>\n",
       "      <td>2.618842e+07</td>\n",
       "      <td>99.079470</td>\n",
       "      <td>0.362270</td>\n",
       "      <td>35.695206</td>\n",
       "      <td>139.735517</td>\n",
       "      <td>4.297476</td>\n",
       "      <td>1.219348</td>\n",
       "      <td>1.232683</td>\n",
       "      <td>2.766601</td>\n",
       "      <td>112.594158</td>\n",
       "      <td>...</td>\n",
       "      <td>0.131018</td>\n",
       "      <td>0.009665</td>\n",
       "      <td>0.074101</td>\n",
       "      <td>0.012350</td>\n",
       "      <td>0.044926</td>\n",
       "      <td>6499.475875</td>\n",
       "      <td>7318.291246</td>\n",
       "      <td>7728.824901</td>\n",
       "      <td>6871.213517</td>\n",
       "      <td>8478.071911</td>\n",
       "    </tr>\n",
       "    <tr>\n",
       "      <th>std</th>\n",
       "      <td>7.686291e+06</td>\n",
       "      <td>3.331239</td>\n",
       "      <td>0.480699</td>\n",
       "      <td>0.043454</td>\n",
       "      <td>0.054753</td>\n",
       "      <td>2.768280</td>\n",
       "      <td>0.667106</td>\n",
       "      <td>0.895898</td>\n",
       "      <td>2.057952</td>\n",
       "      <td>64.892375</td>\n",
       "      <td>...</td>\n",
       "      <td>0.337451</td>\n",
       "      <td>0.097845</td>\n",
       "      <td>0.261958</td>\n",
       "      <td>0.110453</td>\n",
       "      <td>0.207160</td>\n",
       "      <td>3038.912523</td>\n",
       "      <td>3034.373347</td>\n",
       "      <td>4842.042861</td>\n",
       "      <td>4223.832523</td>\n",
       "      <td>4994.836608</td>\n",
       "    </tr>\n",
       "    <tr>\n",
       "      <th>min</th>\n",
       "      <td>1.976770e+05</td>\n",
       "      <td>0.000000</td>\n",
       "      <td>0.000000</td>\n",
       "      <td>35.540730</td>\n",
       "      <td>139.285650</td>\n",
       "      <td>1.000000</td>\n",
       "      <td>0.000000</td>\n",
       "      <td>0.000000</td>\n",
       "      <td>0.000000</td>\n",
       "      <td>9.926800</td>\n",
       "      <td>...</td>\n",
       "      <td>0.000000</td>\n",
       "      <td>0.000000</td>\n",
       "      <td>0.000000</td>\n",
       "      <td>0.000000</td>\n",
       "      <td>0.000000</td>\n",
       "      <td>1287.628190</td>\n",
       "      <td>229.476180</td>\n",
       "      <td>94.270049</td>\n",
       "      <td>414.709908</td>\n",
       "      <td>30.741674</td>\n",
       "    </tr>\n",
       "    <tr>\n",
       "      <th>25%</th>\n",
       "      <td>2.182085e+07</td>\n",
       "      <td>100.000000</td>\n",
       "      <td>0.000000</td>\n",
       "      <td>35.681685</td>\n",
       "      <td>139.697005</td>\n",
       "      <td>2.000000</td>\n",
       "      <td>1.000000</td>\n",
       "      <td>1.000000</td>\n",
       "      <td>1.000000</td>\n",
       "      <td>64.528800</td>\n",
       "      <td>...</td>\n",
       "      <td>0.000000</td>\n",
       "      <td>0.000000</td>\n",
       "      <td>0.000000</td>\n",
       "      <td>0.000000</td>\n",
       "      <td>0.000000</td>\n",
       "      <td>4626.491151</td>\n",
       "      <td>5578.573368</td>\n",
       "      <td>3197.112169</td>\n",
       "      <td>3733.103124</td>\n",
       "      <td>3562.160990</td>\n",
       "    </tr>\n",
       "    <tr>\n",
       "      <th>50%</th>\n",
       "      <td>2.849692e+07</td>\n",
       "      <td>100.000000</td>\n",
       "      <td>0.000000</td>\n",
       "      <td>35.702250</td>\n",
       "      <td>139.722510</td>\n",
       "      <td>4.000000</td>\n",
       "      <td>1.000000</td>\n",
       "      <td>1.000000</td>\n",
       "      <td>2.000000</td>\n",
       "      <td>92.322000</td>\n",
       "      <td>...</td>\n",
       "      <td>0.000000</td>\n",
       "      <td>0.000000</td>\n",
       "      <td>0.000000</td>\n",
       "      <td>0.000000</td>\n",
       "      <td>0.000000</td>\n",
       "      <td>5818.317478</td>\n",
       "      <td>6988.562082</td>\n",
       "      <td>8172.273566</td>\n",
       "      <td>6421.320748</td>\n",
       "      <td>9290.786021</td>\n",
       "    </tr>\n",
       "    <tr>\n",
       "      <th>75%</th>\n",
       "      <td>3.180934e+07</td>\n",
       "      <td>100.000000</td>\n",
       "      <td>1.000000</td>\n",
       "      <td>35.723760</td>\n",
       "      <td>139.783775</td>\n",
       "      <td>6.000000</td>\n",
       "      <td>1.000000</td>\n",
       "      <td>1.000000</td>\n",
       "      <td>4.000000</td>\n",
       "      <td>146.914800</td>\n",
       "      <td>...</td>\n",
       "      <td>0.000000</td>\n",
       "      <td>0.000000</td>\n",
       "      <td>0.000000</td>\n",
       "      <td>0.000000</td>\n",
       "      <td>0.000000</td>\n",
       "      <td>7441.571124</td>\n",
       "      <td>8766.750649</td>\n",
       "      <td>10618.045168</td>\n",
       "      <td>9079.838320</td>\n",
       "      <td>11657.187755</td>\n",
       "    </tr>\n",
       "    <tr>\n",
       "      <th>max</th>\n",
       "      <td>3.836502e+07</td>\n",
       "      <td>100.000000</td>\n",
       "      <td>1.000000</td>\n",
       "      <td>35.797070</td>\n",
       "      <td>139.900370</td>\n",
       "      <td>16.000000</td>\n",
       "      <td>9.500000</td>\n",
       "      <td>9.000000</td>\n",
       "      <td>36.000000</td>\n",
       "      <td>299.791200</td>\n",
       "      <td>...</td>\n",
       "      <td>1.000000</td>\n",
       "      <td>1.000000</td>\n",
       "      <td>1.000000</td>\n",
       "      <td>1.000000</td>\n",
       "      <td>1.000000</td>\n",
       "      <td>42634.144185</td>\n",
       "      <td>43707.342103</td>\n",
       "      <td>47061.394452</td>\n",
       "      <td>45066.272409</td>\n",
       "      <td>48219.046350</td>\n",
       "    </tr>\n",
       "  </tbody>\n",
       "</table>\n",
       "<p>8 rows × 177 columns</p>\n",
       "</div>"
      ],
      "text/plain": [
       "                 id  host_response_rate  host_is_superhost     latitude  \\\n",
       "count  5.587000e+03         5587.000000        5587.000000  5587.000000   \n",
       "mean   2.618842e+07           99.079470           0.362270    35.695206   \n",
       "std    7.686291e+06            3.331239           0.480699     0.043454   \n",
       "min    1.976770e+05            0.000000           0.000000    35.540730   \n",
       "25%    2.182085e+07          100.000000           0.000000    35.681685   \n",
       "50%    2.849692e+07          100.000000           0.000000    35.702250   \n",
       "75%    3.180934e+07          100.000000           1.000000    35.723760   \n",
       "max    3.836502e+07          100.000000           1.000000    35.797070   \n",
       "\n",
       "         longitude  accommodates    bathrooms     bedrooms         beds  \\\n",
       "count  5587.000000   5587.000000  5587.000000  5587.000000  5587.000000   \n",
       "mean    139.735517      4.297476     1.219348     1.232683     2.766601   \n",
       "std       0.054753      2.768280     0.667106     0.895898     2.057952   \n",
       "min     139.285650      1.000000     0.000000     0.000000     0.000000   \n",
       "25%     139.697005      2.000000     1.000000     1.000000     1.000000   \n",
       "50%     139.722510      4.000000     1.000000     1.000000     2.000000   \n",
       "75%     139.783775      6.000000     1.000000     1.000000     4.000000   \n",
       "max     139.900370     16.000000     9.500000     9.000000    36.000000   \n",
       "\n",
       "             price  ...      Hot tub  Bathtub with bath chair  \\\n",
       "count  5587.000000  ...  5587.000000              5587.000000   \n",
       "mean    112.594158  ...     0.131018                 0.009665   \n",
       "std      64.892375  ...     0.337451                 0.097845   \n",
       "min       9.926800  ...     0.000000                 0.000000   \n",
       "25%      64.528800  ...     0.000000                 0.000000   \n",
       "50%      92.322000  ...     0.000000                 0.000000   \n",
       "75%     146.914800  ...     0.000000                 0.000000   \n",
       "max     299.791200  ...     1.000000                 1.000000   \n",
       "\n",
       "       Handheld shower head  Table corner guards  Smoking allowed  \\\n",
       "count           5587.000000          5587.000000      5587.000000   \n",
       "mean               0.074101             0.012350         0.044926   \n",
       "std                0.261958             0.110453         0.207160   \n",
       "min                0.000000             0.000000         0.000000   \n",
       "25%                0.000000             0.000000         0.000000   \n",
       "50%                0.000000             0.000000         0.000000   \n",
       "75%                0.000000             0.000000         0.000000   \n",
       "max                1.000000             1.000000         1.000000   \n",
       "\n",
       "        palace_dist    ginza_dist   temple_dist     park_dist  skytree_dist  \n",
       "count   5587.000000   5587.000000   5587.000000   5587.000000   5587.000000  \n",
       "mean    6499.475875   7318.291246   7728.824901   6871.213517   8478.071911  \n",
       "std     3038.912523   3034.373347   4842.042861   4223.832523   4994.836608  \n",
       "min     1287.628190    229.476180     94.270049    414.709908     30.741674  \n",
       "25%     4626.491151   5578.573368   3197.112169   3733.103124   3562.160990  \n",
       "50%     5818.317478   6988.562082   8172.273566   6421.320748   9290.786021  \n",
       "75%     7441.571124   8766.750649  10618.045168   9079.838320  11657.187755  \n",
       "max    42634.144185  43707.342103  47061.394452  45066.272409  48219.046350  \n",
       "\n",
       "[8 rows x 177 columns]"
      ]
     },
     "execution_count": 63,
     "metadata": {},
     "output_type": "execute_result"
    }
   ],
   "source": [
    "df.describe()"
   ]
  },
  {
   "cell_type": "code",
   "execution_count": 64,
   "metadata": {},
   "outputs": [
    {
     "data": {
      "text/plain": [
       "listing_url           0\n",
       "id                    0\n",
       "host_response_time    0\n",
       "host_response_rate    0\n",
       "host_is_superhost     0\n",
       "                     ..\n",
       "palace_dist           0\n",
       "ginza_dist            0\n",
       "temple_dist           0\n",
       "park_dist             0\n",
       "skytree_dist          0\n",
       "Length: 189, dtype: int64"
      ]
     },
     "execution_count": 64,
     "metadata": {},
     "output_type": "execute_result"
    }
   ],
   "source": [
    "df.isna().sum()"
   ]
  },
  {
   "cell_type": "code",
   "execution_count": 65,
   "metadata": {},
   "outputs": [],
   "source": [
    "df.to_pickle('processed_data.pkl')"
   ]
  }
 ],
 "metadata": {
  "kernelspec": {
   "display_name": "Python 3",
   "language": "python",
   "name": "python3"
  },
  "language_info": {
   "codemirror_mode": {
    "name": "ipython",
    "version": 3
   },
   "file_extension": ".py",
   "mimetype": "text/x-python",
   "name": "python",
   "nbconvert_exporter": "python",
   "pygments_lexer": "ipython3",
   "version": "3.7.1"
  }
 },
 "nbformat": 4,
 "nbformat_minor": 2
}
