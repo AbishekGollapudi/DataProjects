{
  "nbformat": 4,
  "nbformat_minor": 0,
  "metadata": {
    "colab": {
      "name": "Chatbot_Cleaning.ipynb",
      "provenance": []
    },
    "kernelspec": {
      "name": "python3",
      "display_name": "Python 3"
    },
    "accelerator": "GPU"
  },
  "cells": [
    {
      "cell_type": "code",
      "metadata": {
        "id": "P709GOxXP89S",
        "colab_type": "code",
        "colab": {}
      },
      "source": [
        "import pandas as pd\n",
        "import numpy as np\n",
        "import os"
      ],
      "execution_count": 0,
      "outputs": []
    },
    {
      "cell_type": "code",
      "metadata": {
        "id": "_G4kvxO8QE-p",
        "colab_type": "code",
        "colab": {}
      },
      "source": [
        "os.chdir('/content/gdrive/My Drive/Colab Notebooks')"
      ],
      "execution_count": 0,
      "outputs": []
    },
    {
      "cell_type": "code",
      "metadata": {
        "id": "H3LJqxjEQLr5",
        "colab_type": "code",
        "outputId": "9311358f-7bc5-46cb-ce63-83df909ee4b4",
        "colab": {
          "base_uri": "https://localhost:8080/",
          "height": 34
        }
      },
      "source": [
        "df.shape"
      ],
      "execution_count": 0,
      "outputs": [
        {
          "output_type": "execute_result",
          "data": {
            "text/plain": [
              "(2811774, 7)"
            ]
          },
          "metadata": {
            "tags": []
          },
          "execution_count": 5
        }
      ]
    },
    {
      "cell_type": "code",
      "metadata": {
        "id": "BWOEbVb4Qjlz",
        "colab_type": "code",
        "outputId": "1887134e-b814-429a-8539-acc0a638c3f2",
        "colab": {
          "base_uri": "https://localhost:8080/",
          "height": 696
        }
      },
      "source": [
        "df.head(10)"
      ],
      "execution_count": 0,
      "outputs": [
        {
          "output_type": "execute_result",
          "data": {
            "text/html": [
              "<div>\n",
              "<style scoped>\n",
              "    .dataframe tbody tr th:only-of-type {\n",
              "        vertical-align: middle;\n",
              "    }\n",
              "\n",
              "    .dataframe tbody tr th {\n",
              "        vertical-align: top;\n",
              "    }\n",
              "\n",
              "    .dataframe thead th {\n",
              "        text-align: right;\n",
              "    }\n",
              "</style>\n",
              "<table border=\"1\" class=\"dataframe\">\n",
              "  <thead>\n",
              "    <tr style=\"text-align: right;\">\n",
              "      <th></th>\n",
              "      <th>tweet_id</th>\n",
              "      <th>author_id</th>\n",
              "      <th>inbound</th>\n",
              "      <th>created_at</th>\n",
              "      <th>text</th>\n",
              "      <th>response_tweet_id</th>\n",
              "      <th>in_response_to_tweet_id</th>\n",
              "    </tr>\n",
              "  </thead>\n",
              "  <tbody>\n",
              "    <tr>\n",
              "      <th>0</th>\n",
              "      <td>1</td>\n",
              "      <td>sprintcare</td>\n",
              "      <td>False</td>\n",
              "      <td>Tue Oct 31 22:10:47 +0000 2017</td>\n",
              "      <td>@115712 I understand. I would like to assist y...</td>\n",
              "      <td>2</td>\n",
              "      <td>3.0</td>\n",
              "    </tr>\n",
              "    <tr>\n",
              "      <th>1</th>\n",
              "      <td>2</td>\n",
              "      <td>115712</td>\n",
              "      <td>True</td>\n",
              "      <td>Tue Oct 31 22:11:45 +0000 2017</td>\n",
              "      <td>@sprintcare and how do you propose we do that</td>\n",
              "      <td>NaN</td>\n",
              "      <td>1.0</td>\n",
              "    </tr>\n",
              "    <tr>\n",
              "      <th>2</th>\n",
              "      <td>3</td>\n",
              "      <td>115712</td>\n",
              "      <td>True</td>\n",
              "      <td>Tue Oct 31 22:08:27 +0000 2017</td>\n",
              "      <td>@sprintcare I have sent several private messag...</td>\n",
              "      <td>1</td>\n",
              "      <td>4.0</td>\n",
              "    </tr>\n",
              "    <tr>\n",
              "      <th>3</th>\n",
              "      <td>4</td>\n",
              "      <td>sprintcare</td>\n",
              "      <td>False</td>\n",
              "      <td>Tue Oct 31 21:54:49 +0000 2017</td>\n",
              "      <td>@115712 Please send us a Private Message so th...</td>\n",
              "      <td>3</td>\n",
              "      <td>5.0</td>\n",
              "    </tr>\n",
              "    <tr>\n",
              "      <th>4</th>\n",
              "      <td>5</td>\n",
              "      <td>115712</td>\n",
              "      <td>True</td>\n",
              "      <td>Tue Oct 31 21:49:35 +0000 2017</td>\n",
              "      <td>@sprintcare I did.</td>\n",
              "      <td>4</td>\n",
              "      <td>6.0</td>\n",
              "    </tr>\n",
              "    <tr>\n",
              "      <th>5</th>\n",
              "      <td>6</td>\n",
              "      <td>sprintcare</td>\n",
              "      <td>False</td>\n",
              "      <td>Tue Oct 31 21:46:24 +0000 2017</td>\n",
              "      <td>@115712 Can you please send us a private messa...</td>\n",
              "      <td>5,7</td>\n",
              "      <td>8.0</td>\n",
              "    </tr>\n",
              "    <tr>\n",
              "      <th>6</th>\n",
              "      <td>8</td>\n",
              "      <td>115712</td>\n",
              "      <td>True</td>\n",
              "      <td>Tue Oct 31 21:45:10 +0000 2017</td>\n",
              "      <td>@sprintcare is the worst customer service</td>\n",
              "      <td>9,6,10</td>\n",
              "      <td>NaN</td>\n",
              "    </tr>\n",
              "    <tr>\n",
              "      <th>7</th>\n",
              "      <td>11</td>\n",
              "      <td>sprintcare</td>\n",
              "      <td>False</td>\n",
              "      <td>Tue Oct 31 22:10:35 +0000 2017</td>\n",
              "      <td>@115713 This is saddening to hear. Please shoo...</td>\n",
              "      <td>NaN</td>\n",
              "      <td>12.0</td>\n",
              "    </tr>\n",
              "    <tr>\n",
              "      <th>8</th>\n",
              "      <td>12</td>\n",
              "      <td>115713</td>\n",
              "      <td>True</td>\n",
              "      <td>Tue Oct 31 22:04:47 +0000 2017</td>\n",
              "      <td>@sprintcare You gonna magically change your co...</td>\n",
              "      <td>11,13,14</td>\n",
              "      <td>15.0</td>\n",
              "    </tr>\n",
              "    <tr>\n",
              "      <th>9</th>\n",
              "      <td>15</td>\n",
              "      <td>sprintcare</td>\n",
              "      <td>False</td>\n",
              "      <td>Tue Oct 31 20:03:31 +0000 2017</td>\n",
              "      <td>@115713 We understand your concerns and we'd l...</td>\n",
              "      <td>12</td>\n",
              "      <td>16.0</td>\n",
              "    </tr>\n",
              "  </tbody>\n",
              "</table>\n",
              "</div>"
            ],
            "text/plain": [
              "   tweet_id   author_id  ...  response_tweet_id in_response_to_tweet_id\n",
              "0         1  sprintcare  ...                  2                     3.0\n",
              "1         2      115712  ...                NaN                     1.0\n",
              "2         3      115712  ...                  1                     4.0\n",
              "3         4  sprintcare  ...                  3                     5.0\n",
              "4         5      115712  ...                  4                     6.0\n",
              "5         6  sprintcare  ...                5,7                     8.0\n",
              "6         8      115712  ...             9,6,10                     NaN\n",
              "7        11  sprintcare  ...                NaN                    12.0\n",
              "8        12      115713  ...           11,13,14                    15.0\n",
              "9        15  sprintcare  ...                 12                    16.0\n",
              "\n",
              "[10 rows x 7 columns]"
            ]
          },
          "metadata": {
            "tags": []
          },
          "execution_count": 6
        }
      ]
    },
    {
      "cell_type": "code",
      "metadata": {
        "id": "lAb1zS-M__QK",
        "colab_type": "code",
        "colab": {}
      },
      "source": [
        "df2 = df.copy()\n",
        "df2 = df2[df2['inbound'] == True]\n",
        "\n",
        "df3 = df2.copy()\n",
        "\n",
        "merged2 = pd.merge(df2, df, left_on='tweet_id', right_on='in_response_to_tweet_id') "
      ],
      "execution_count": 0,
      "outputs": []
    },
    {
      "cell_type": "code",
      "metadata": {
        "id": "EpT07s1KAYWI",
        "colab_type": "code",
        "outputId": "34394e96-9419-4ae5-ea97-6a325b236d37",
        "colab": {
          "base_uri": "https://localhost:8080/",
          "height": 34
        }
      },
      "source": [
        "merged2.shape"
      ],
      "execution_count": 0,
      "outputs": [
        {
          "output_type": "execute_result",
          "data": {
            "text/plain": [
              "(1450335, 14)"
            ]
          },
          "metadata": {
            "tags": []
          },
          "execution_count": 8
        }
      ]
    },
    {
      "cell_type": "markdown",
      "metadata": {
        "id": "RWQxGvCmSNkX",
        "colab_type": "text"
      },
      "source": [
        "## Features\n",
        "\n",
        "**inbound:** Whether or not the tweet was sent (inbound) to a company  \n",
        "\n",
        "**created_at:** When the tweet was created  \n",
        "\n",
        "**text:** The text content of the tweet  \n",
        "\n",
        "**response_tweet_id:** The tweet that responded to this one, if any  \n",
        "\n",
        "**in_response_to_tweet_id:** The tweet this tweet was in response to, if any"
      ]
    },
    {
      "cell_type": "markdown",
      "metadata": {
        "id": "wTP0xxshlQe9",
        "colab_type": "text"
      },
      "source": [
        "###Note on Pre-processing\n",
        "\n",
        "If **in_response_to_tweet_id** is null, this tweet is essentially the first tweet in a conversation. "
      ]
    },
    {
      "cell_type": "code",
      "metadata": {
        "id": "0SZ_hKteQnyf",
        "colab_type": "code",
        "outputId": "35a68b1c-8741-4013-ed63-cfcefdaa3f5c",
        "colab": {
          "base_uri": "https://localhost:8080/",
          "height": 875
        }
      },
      "source": [
        "df[df['in_response_to_tweet_id'].isnull()]"
      ],
      "execution_count": 0,
      "outputs": [
        {
          "output_type": "execute_result",
          "data": {
            "text/html": [
              "<div>\n",
              "<style scoped>\n",
              "    .dataframe tbody tr th:only-of-type {\n",
              "        vertical-align: middle;\n",
              "    }\n",
              "\n",
              "    .dataframe tbody tr th {\n",
              "        vertical-align: top;\n",
              "    }\n",
              "\n",
              "    .dataframe thead th {\n",
              "        text-align: right;\n",
              "    }\n",
              "</style>\n",
              "<table border=\"1\" class=\"dataframe\">\n",
              "  <thead>\n",
              "    <tr style=\"text-align: right;\">\n",
              "      <th></th>\n",
              "      <th>tweet_id</th>\n",
              "      <th>author_id</th>\n",
              "      <th>inbound</th>\n",
              "      <th>created_at</th>\n",
              "      <th>text</th>\n",
              "      <th>response_tweet_id</th>\n",
              "      <th>in_response_to_tweet_id</th>\n",
              "    </tr>\n",
              "  </thead>\n",
              "  <tbody>\n",
              "    <tr>\n",
              "      <th>6</th>\n",
              "      <td>8</td>\n",
              "      <td>115712</td>\n",
              "      <td>True</td>\n",
              "      <td>Tue Oct 31 21:45:10 +0000 2017</td>\n",
              "      <td>@sprintcare is the worst customer service</td>\n",
              "      <td>9,6,10</td>\n",
              "      <td>NaN</td>\n",
              "    </tr>\n",
              "    <tr>\n",
              "      <th>12</th>\n",
              "      <td>18</td>\n",
              "      <td>115713</td>\n",
              "      <td>True</td>\n",
              "      <td>Tue Oct 31 19:56:01 +0000 2017</td>\n",
              "      <td>@115714 y’all lie about your “great” connectio...</td>\n",
              "      <td>17</td>\n",
              "      <td>NaN</td>\n",
              "    </tr>\n",
              "    <tr>\n",
              "      <th>14</th>\n",
              "      <td>20</td>\n",
              "      <td>115715</td>\n",
              "      <td>True</td>\n",
              "      <td>Tue Oct 31 22:03:34 +0000 2017</td>\n",
              "      <td>@115714 whenever I contact customer support, t...</td>\n",
              "      <td>19</td>\n",
              "      <td>NaN</td>\n",
              "    </tr>\n",
              "    <tr>\n",
              "      <th>23</th>\n",
              "      <td>29</td>\n",
              "      <td>115716</td>\n",
              "      <td>True</td>\n",
              "      <td>Tue Oct 31 22:01:35 +0000 2017</td>\n",
              "      <td>actually that's a broken link you sent me and ...</td>\n",
              "      <td>28</td>\n",
              "      <td>NaN</td>\n",
              "    </tr>\n",
              "    <tr>\n",
              "      <th>25</th>\n",
              "      <td>31</td>\n",
              "      <td>115717</td>\n",
              "      <td>True</td>\n",
              "      <td>Tue Oct 31 22:06:54 +0000 2017</td>\n",
              "      <td>Yo @Ask_Spectrum, your customer service reps a...</td>\n",
              "      <td>30</td>\n",
              "      <td>NaN</td>\n",
              "    </tr>\n",
              "    <tr>\n",
              "      <th>...</th>\n",
              "      <td>...</td>\n",
              "      <td>...</td>\n",
              "      <td>...</td>\n",
              "      <td>...</td>\n",
              "      <td>...</td>\n",
              "      <td>...</td>\n",
              "      <td>...</td>\n",
              "    </tr>\n",
              "    <tr>\n",
              "      <th>2811763</th>\n",
              "      <td>2987942</td>\n",
              "      <td>823867</td>\n",
              "      <td>True</td>\n",
              "      <td>Wed Nov 22 07:30:39 +0000 2017</td>\n",
              "      <td>Hai @AirAsiaSupport #asking how many days need...</td>\n",
              "      <td>2987941</td>\n",
              "      <td>NaN</td>\n",
              "    </tr>\n",
              "    <tr>\n",
              "      <th>2811765</th>\n",
              "      <td>2987944</td>\n",
              "      <td>823868</td>\n",
              "      <td>True</td>\n",
              "      <td>Wed Nov 22 07:43:36 +0000 2017</td>\n",
              "      <td>@AirAsiaSupport \\n\\nI am unable to do web chec...</td>\n",
              "      <td>2987943</td>\n",
              "      <td>NaN</td>\n",
              "    </tr>\n",
              "    <tr>\n",
              "      <th>2811768</th>\n",
              "      <td>2987946</td>\n",
              "      <td>524544</td>\n",
              "      <td>True</td>\n",
              "      <td>Wed Nov 22 08:25:48 +0000 2017</td>\n",
              "      <td>@VirginTrains Hope you are well? Does the 9.30...</td>\n",
              "      <td>2987945</td>\n",
              "      <td>NaN</td>\n",
              "    </tr>\n",
              "    <tr>\n",
              "      <th>2811770</th>\n",
              "      <td>2987948</td>\n",
              "      <td>823869</td>\n",
              "      <td>True</td>\n",
              "      <td>Wed Nov 22 08:35:16 +0000 2017</td>\n",
              "      <td>@115714 wtf!? I’ve been having really shitty s...</td>\n",
              "      <td>2987947</td>\n",
              "      <td>NaN</td>\n",
              "    </tr>\n",
              "    <tr>\n",
              "      <th>2811773</th>\n",
              "      <td>2987950</td>\n",
              "      <td>823870</td>\n",
              "      <td>True</td>\n",
              "      <td>Tue Nov 21 22:01:04 +0000 2017</td>\n",
              "      <td>@AldiUK  warm sloe gin mince pies with ice cre...</td>\n",
              "      <td>2987951,2987949</td>\n",
              "      <td>NaN</td>\n",
              "    </tr>\n",
              "  </tbody>\n",
              "</table>\n",
              "<p>794335 rows × 7 columns</p>\n",
              "</div>"
            ],
            "text/plain": [
              "         tweet_id author_id  ...  response_tweet_id in_response_to_tweet_id\n",
              "6               8    115712  ...             9,6,10                     NaN\n",
              "12             18    115713  ...                 17                     NaN\n",
              "14             20    115715  ...                 19                     NaN\n",
              "23             29    115716  ...                 28                     NaN\n",
              "25             31    115717  ...                 30                     NaN\n",
              "...           ...       ...  ...                ...                     ...\n",
              "2811763   2987942    823867  ...            2987941                     NaN\n",
              "2811765   2987944    823868  ...            2987943                     NaN\n",
              "2811768   2987946    524544  ...            2987945                     NaN\n",
              "2811770   2987948    823869  ...            2987947                     NaN\n",
              "2811773   2987950    823870  ...    2987951,2987949                     NaN\n",
              "\n",
              "[794335 rows x 7 columns]"
            ]
          },
          "metadata": {
            "tags": []
          },
          "execution_count": 9
        }
      ]
    },
    {
      "cell_type": "code",
      "metadata": {
        "id": "abcA5c7hkHs9",
        "colab_type": "code",
        "colab": {}
      },
      "source": [
        "temp = df[df['in_response_to_tweet_id'].isnull()]\n"
      ],
      "execution_count": 0,
      "outputs": []
    },
    {
      "cell_type": "code",
      "metadata": {
        "id": "5u_1siEfk7VM",
        "colab_type": "code",
        "outputId": "232e99e8-68cc-496c-f398-34f68e6babd5",
        "colab": {
          "base_uri": "https://localhost:8080/",
          "height": 1000
        }
      },
      "source": [
        "df.head(20)"
      ],
      "execution_count": 0,
      "outputs": [
        {
          "output_type": "execute_result",
          "data": {
            "text/html": [
              "<div>\n",
              "<style scoped>\n",
              "    .dataframe tbody tr th:only-of-type {\n",
              "        vertical-align: middle;\n",
              "    }\n",
              "\n",
              "    .dataframe tbody tr th {\n",
              "        vertical-align: top;\n",
              "    }\n",
              "\n",
              "    .dataframe thead th {\n",
              "        text-align: right;\n",
              "    }\n",
              "</style>\n",
              "<table border=\"1\" class=\"dataframe\">\n",
              "  <thead>\n",
              "    <tr style=\"text-align: right;\">\n",
              "      <th></th>\n",
              "      <th>tweet_id</th>\n",
              "      <th>author_id</th>\n",
              "      <th>inbound</th>\n",
              "      <th>created_at</th>\n",
              "      <th>text</th>\n",
              "      <th>response_tweet_id</th>\n",
              "      <th>in_response_to_tweet_id</th>\n",
              "    </tr>\n",
              "  </thead>\n",
              "  <tbody>\n",
              "    <tr>\n",
              "      <th>0</th>\n",
              "      <td>1</td>\n",
              "      <td>sprintcare</td>\n",
              "      <td>False</td>\n",
              "      <td>Tue Oct 31 22:10:47 +0000 2017</td>\n",
              "      <td>@115712 I understand. I would like to assist y...</td>\n",
              "      <td>2</td>\n",
              "      <td>3.0</td>\n",
              "    </tr>\n",
              "    <tr>\n",
              "      <th>1</th>\n",
              "      <td>2</td>\n",
              "      <td>115712</td>\n",
              "      <td>True</td>\n",
              "      <td>Tue Oct 31 22:11:45 +0000 2017</td>\n",
              "      <td>@sprintcare and how do you propose we do that</td>\n",
              "      <td>NaN</td>\n",
              "      <td>1.0</td>\n",
              "    </tr>\n",
              "    <tr>\n",
              "      <th>2</th>\n",
              "      <td>3</td>\n",
              "      <td>115712</td>\n",
              "      <td>True</td>\n",
              "      <td>Tue Oct 31 22:08:27 +0000 2017</td>\n",
              "      <td>@sprintcare I have sent several private messag...</td>\n",
              "      <td>1</td>\n",
              "      <td>4.0</td>\n",
              "    </tr>\n",
              "    <tr>\n",
              "      <th>3</th>\n",
              "      <td>4</td>\n",
              "      <td>sprintcare</td>\n",
              "      <td>False</td>\n",
              "      <td>Tue Oct 31 21:54:49 +0000 2017</td>\n",
              "      <td>@115712 Please send us a Private Message so th...</td>\n",
              "      <td>3</td>\n",
              "      <td>5.0</td>\n",
              "    </tr>\n",
              "    <tr>\n",
              "      <th>4</th>\n",
              "      <td>5</td>\n",
              "      <td>115712</td>\n",
              "      <td>True</td>\n",
              "      <td>Tue Oct 31 21:49:35 +0000 2017</td>\n",
              "      <td>@sprintcare I did.</td>\n",
              "      <td>4</td>\n",
              "      <td>6.0</td>\n",
              "    </tr>\n",
              "    <tr>\n",
              "      <th>5</th>\n",
              "      <td>6</td>\n",
              "      <td>sprintcare</td>\n",
              "      <td>False</td>\n",
              "      <td>Tue Oct 31 21:46:24 +0000 2017</td>\n",
              "      <td>@115712 Can you please send us a private messa...</td>\n",
              "      <td>5,7</td>\n",
              "      <td>8.0</td>\n",
              "    </tr>\n",
              "    <tr>\n",
              "      <th>6</th>\n",
              "      <td>8</td>\n",
              "      <td>115712</td>\n",
              "      <td>True</td>\n",
              "      <td>Tue Oct 31 21:45:10 +0000 2017</td>\n",
              "      <td>@sprintcare is the worst customer service</td>\n",
              "      <td>9,6,10</td>\n",
              "      <td>NaN</td>\n",
              "    </tr>\n",
              "    <tr>\n",
              "      <th>7</th>\n",
              "      <td>11</td>\n",
              "      <td>sprintcare</td>\n",
              "      <td>False</td>\n",
              "      <td>Tue Oct 31 22:10:35 +0000 2017</td>\n",
              "      <td>@115713 This is saddening to hear. Please shoo...</td>\n",
              "      <td>NaN</td>\n",
              "      <td>12.0</td>\n",
              "    </tr>\n",
              "    <tr>\n",
              "      <th>8</th>\n",
              "      <td>12</td>\n",
              "      <td>115713</td>\n",
              "      <td>True</td>\n",
              "      <td>Tue Oct 31 22:04:47 +0000 2017</td>\n",
              "      <td>@sprintcare You gonna magically change your co...</td>\n",
              "      <td>11,13,14</td>\n",
              "      <td>15.0</td>\n",
              "    </tr>\n",
              "    <tr>\n",
              "      <th>9</th>\n",
              "      <td>15</td>\n",
              "      <td>sprintcare</td>\n",
              "      <td>False</td>\n",
              "      <td>Tue Oct 31 20:03:31 +0000 2017</td>\n",
              "      <td>@115713 We understand your concerns and we'd l...</td>\n",
              "      <td>12</td>\n",
              "      <td>16.0</td>\n",
              "    </tr>\n",
              "    <tr>\n",
              "      <th>10</th>\n",
              "      <td>16</td>\n",
              "      <td>115713</td>\n",
              "      <td>True</td>\n",
              "      <td>Tue Oct 31 20:00:43 +0000 2017</td>\n",
              "      <td>@sprintcare Since I signed up with you....Sinc...</td>\n",
              "      <td>15</td>\n",
              "      <td>17.0</td>\n",
              "    </tr>\n",
              "    <tr>\n",
              "      <th>11</th>\n",
              "      <td>17</td>\n",
              "      <td>sprintcare</td>\n",
              "      <td>False</td>\n",
              "      <td>Tue Oct 31 19:59:13 +0000 2017</td>\n",
              "      <td>@115713 H there! We'd definitely like to work ...</td>\n",
              "      <td>16</td>\n",
              "      <td>18.0</td>\n",
              "    </tr>\n",
              "    <tr>\n",
              "      <th>12</th>\n",
              "      <td>18</td>\n",
              "      <td>115713</td>\n",
              "      <td>True</td>\n",
              "      <td>Tue Oct 31 19:56:01 +0000 2017</td>\n",
              "      <td>@115714 y’all lie about your “great” connectio...</td>\n",
              "      <td>17</td>\n",
              "      <td>NaN</td>\n",
              "    </tr>\n",
              "    <tr>\n",
              "      <th>13</th>\n",
              "      <td>19</td>\n",
              "      <td>sprintcare</td>\n",
              "      <td>False</td>\n",
              "      <td>Tue Oct 31 22:10:10 +0000 2017</td>\n",
              "      <td>@115715 Please send me a private message so th...</td>\n",
              "      <td>NaN</td>\n",
              "      <td>20.0</td>\n",
              "    </tr>\n",
              "    <tr>\n",
              "      <th>14</th>\n",
              "      <td>20</td>\n",
              "      <td>115715</td>\n",
              "      <td>True</td>\n",
              "      <td>Tue Oct 31 22:03:34 +0000 2017</td>\n",
              "      <td>@115714 whenever I contact customer support, t...</td>\n",
              "      <td>19</td>\n",
              "      <td>NaN</td>\n",
              "    </tr>\n",
              "    <tr>\n",
              "      <th>15</th>\n",
              "      <td>21</td>\n",
              "      <td>Ask_Spectrum</td>\n",
              "      <td>False</td>\n",
              "      <td>Tue Oct 31 22:14:37 +0000 2017</td>\n",
              "      <td>@115716 What information is incorrect? ^JK</td>\n",
              "      <td>22,23</td>\n",
              "      <td>24.0</td>\n",
              "    </tr>\n",
              "    <tr>\n",
              "      <th>16</th>\n",
              "      <td>22</td>\n",
              "      <td>115716</td>\n",
              "      <td>True</td>\n",
              "      <td>Tue Oct 31 22:16:48 +0000 2017</td>\n",
              "      <td>@Ask_Spectrum Would you like me to email you a...</td>\n",
              "      <td>25</td>\n",
              "      <td>21.0</td>\n",
              "    </tr>\n",
              "    <tr>\n",
              "      <th>17</th>\n",
              "      <td>25</td>\n",
              "      <td>Ask_Spectrum</td>\n",
              "      <td>False</td>\n",
              "      <td>Tue Oct 31 22:18:28 +0000 2017</td>\n",
              "      <td>@115716 Our department is part of the corporat...</td>\n",
              "      <td>26</td>\n",
              "      <td>22.0</td>\n",
              "    </tr>\n",
              "    <tr>\n",
              "      <th>18</th>\n",
              "      <td>26</td>\n",
              "      <td>115716</td>\n",
              "      <td>True</td>\n",
              "      <td>Tue Oct 31 22:19:56 +0000 2017</td>\n",
              "      <td>@Ask_Spectrum I received this from your corpor...</td>\n",
              "      <td>27</td>\n",
              "      <td>25.0</td>\n",
              "    </tr>\n",
              "    <tr>\n",
              "      <th>19</th>\n",
              "      <td>27</td>\n",
              "      <td>Ask_Spectrum</td>\n",
              "      <td>False</td>\n",
              "      <td>Tue Oct 31 22:21:26 +0000 2017</td>\n",
              "      <td>@115716 No thank you. ^JK</td>\n",
              "      <td>NaN</td>\n",
              "      <td>26.0</td>\n",
              "    </tr>\n",
              "  </tbody>\n",
              "</table>\n",
              "</div>"
            ],
            "text/plain": [
              "    tweet_id     author_id  ...  response_tweet_id in_response_to_tweet_id\n",
              "0          1    sprintcare  ...                  2                     3.0\n",
              "1          2        115712  ...                NaN                     1.0\n",
              "2          3        115712  ...                  1                     4.0\n",
              "3          4    sprintcare  ...                  3                     5.0\n",
              "4          5        115712  ...                  4                     6.0\n",
              "5          6    sprintcare  ...                5,7                     8.0\n",
              "6          8        115712  ...             9,6,10                     NaN\n",
              "7         11    sprintcare  ...                NaN                    12.0\n",
              "8         12        115713  ...           11,13,14                    15.0\n",
              "9         15    sprintcare  ...                 12                    16.0\n",
              "10        16        115713  ...                 15                    17.0\n",
              "11        17    sprintcare  ...                 16                    18.0\n",
              "12        18        115713  ...                 17                     NaN\n",
              "13        19    sprintcare  ...                NaN                    20.0\n",
              "14        20        115715  ...                 19                     NaN\n",
              "15        21  Ask_Spectrum  ...              22,23                    24.0\n",
              "16        22        115716  ...                 25                    21.0\n",
              "17        25  Ask_Spectrum  ...                 26                    22.0\n",
              "18        26        115716  ...                 27                    25.0\n",
              "19        27  Ask_Spectrum  ...                NaN                    26.0\n",
              "\n",
              "[20 rows x 7 columns]"
            ]
          },
          "metadata": {
            "tags": []
          },
          "execution_count": 11
        }
      ]
    },
    {
      "cell_type": "code",
      "metadata": {
        "id": "9Pv7AKC_mObO",
        "colab_type": "code",
        "colab": {}
      },
      "source": [
        "df1 = df.copy()"
      ],
      "execution_count": 0,
      "outputs": []
    },
    {
      "cell_type": "code",
      "metadata": {
        "id": "kwrSU468wzCn",
        "colab_type": "code",
        "colab": {}
      },
      "source": [
        "tweets = df\n",
        "\n",
        "first_inbound = tweets[pd.isnull(tweets.in_response_to_tweet_id) & tweets.inbound]\n",
        "##check to make sure this is a first time query and make sure that it is to a company\n",
        "\n",
        "QnR = pd.merge(first_inbound, tweets, left_on='tweet_id', \n",
        "                                  right_on='in_response_to_tweet_id')"
      ],
      "execution_count": 0,
      "outputs": []
    },
    {
      "cell_type": "code",
      "metadata": {
        "id": "gloPVND_ymlz",
        "colab_type": "code",
        "colab": {}
      },
      "source": [
        ""
      ],
      "execution_count": 0,
      "outputs": []
    },
    {
      "cell_type": "code",
      "metadata": {
        "id": "bxEVN_60yowF",
        "colab_type": "code",
        "colab": {}
      },
      "source": [
        ""
      ],
      "execution_count": 0,
      "outputs": []
    },
    {
      "cell_type": "code",
      "metadata": {
        "id": "m0XQc652mLBW",
        "colab_type": "code",
        "colab": {}
      },
      "source": [
        "merged = pd.merge(df, df1, left_on='tweet_id', right_on='in_response_to_tweet_id') "
      ],
      "execution_count": 0,
      "outputs": []
    },
    {
      "cell_type": "code",
      "metadata": {
        "id": "D0Xz-B2awWd8",
        "colab_type": "code",
        "colab": {}
      },
      "source": [
        ""
      ],
      "execution_count": 0,
      "outputs": []
    },
    {
      "cell_type": "code",
      "metadata": {
        "id": "_eiTUe9dmg5Q",
        "colab_type": "code",
        "outputId": "501832c4-5293-41dc-80af-1de9e648084a",
        "colab": {
          "base_uri": "https://localhost:8080/",
          "height": 585
        }
      },
      "source": [
        "subset = ['tweet_id_x', 'text_x', ]\n",
        "merged.head()"
      ],
      "execution_count": 0,
      "outputs": [
        {
          "output_type": "execute_result",
          "data": {
            "text/html": [
              "<div>\n",
              "<style scoped>\n",
              "    .dataframe tbody tr th:only-of-type {\n",
              "        vertical-align: middle;\n",
              "    }\n",
              "\n",
              "    .dataframe tbody tr th {\n",
              "        vertical-align: top;\n",
              "    }\n",
              "\n",
              "    .dataframe thead th {\n",
              "        text-align: right;\n",
              "    }\n",
              "</style>\n",
              "<table border=\"1\" class=\"dataframe\">\n",
              "  <thead>\n",
              "    <tr style=\"text-align: right;\">\n",
              "      <th></th>\n",
              "      <th>tweet_id_x</th>\n",
              "      <th>author_id_x</th>\n",
              "      <th>inbound_x</th>\n",
              "      <th>created_at_x</th>\n",
              "      <th>text_x</th>\n",
              "      <th>response_tweet_id_x</th>\n",
              "      <th>in_response_to_tweet_id_x</th>\n",
              "      <th>tweet_id_y</th>\n",
              "      <th>author_id_y</th>\n",
              "      <th>inbound_y</th>\n",
              "      <th>created_at_y</th>\n",
              "      <th>text_y</th>\n",
              "      <th>response_tweet_id_y</th>\n",
              "      <th>in_response_to_tweet_id_y</th>\n",
              "    </tr>\n",
              "  </thead>\n",
              "  <tbody>\n",
              "    <tr>\n",
              "      <th>0</th>\n",
              "      <td>1</td>\n",
              "      <td>sprintcare</td>\n",
              "      <td>False</td>\n",
              "      <td>Tue Oct 31 22:10:47 +0000 2017</td>\n",
              "      <td>@115712 I understand. I would like to assist y...</td>\n",
              "      <td>2</td>\n",
              "      <td>3.0</td>\n",
              "      <td>2</td>\n",
              "      <td>115712</td>\n",
              "      <td>True</td>\n",
              "      <td>Tue Oct 31 22:11:45 +0000 2017</td>\n",
              "      <td>@sprintcare and how do you propose we do that</td>\n",
              "      <td>NaN</td>\n",
              "      <td>1.0</td>\n",
              "    </tr>\n",
              "    <tr>\n",
              "      <th>1</th>\n",
              "      <td>3</td>\n",
              "      <td>115712</td>\n",
              "      <td>True</td>\n",
              "      <td>Tue Oct 31 22:08:27 +0000 2017</td>\n",
              "      <td>@sprintcare I have sent several private messag...</td>\n",
              "      <td>1</td>\n",
              "      <td>4.0</td>\n",
              "      <td>1</td>\n",
              "      <td>sprintcare</td>\n",
              "      <td>False</td>\n",
              "      <td>Tue Oct 31 22:10:47 +0000 2017</td>\n",
              "      <td>@115712 I understand. I would like to assist y...</td>\n",
              "      <td>2</td>\n",
              "      <td>3.0</td>\n",
              "    </tr>\n",
              "    <tr>\n",
              "      <th>2</th>\n",
              "      <td>4</td>\n",
              "      <td>sprintcare</td>\n",
              "      <td>False</td>\n",
              "      <td>Tue Oct 31 21:54:49 +0000 2017</td>\n",
              "      <td>@115712 Please send us a Private Message so th...</td>\n",
              "      <td>3</td>\n",
              "      <td>5.0</td>\n",
              "      <td>3</td>\n",
              "      <td>115712</td>\n",
              "      <td>True</td>\n",
              "      <td>Tue Oct 31 22:08:27 +0000 2017</td>\n",
              "      <td>@sprintcare I have sent several private messag...</td>\n",
              "      <td>1</td>\n",
              "      <td>4.0</td>\n",
              "    </tr>\n",
              "    <tr>\n",
              "      <th>3</th>\n",
              "      <td>5</td>\n",
              "      <td>115712</td>\n",
              "      <td>True</td>\n",
              "      <td>Tue Oct 31 21:49:35 +0000 2017</td>\n",
              "      <td>@sprintcare I did.</td>\n",
              "      <td>4</td>\n",
              "      <td>6.0</td>\n",
              "      <td>4</td>\n",
              "      <td>sprintcare</td>\n",
              "      <td>False</td>\n",
              "      <td>Tue Oct 31 21:54:49 +0000 2017</td>\n",
              "      <td>@115712 Please send us a Private Message so th...</td>\n",
              "      <td>3</td>\n",
              "      <td>5.0</td>\n",
              "    </tr>\n",
              "    <tr>\n",
              "      <th>4</th>\n",
              "      <td>6</td>\n",
              "      <td>sprintcare</td>\n",
              "      <td>False</td>\n",
              "      <td>Tue Oct 31 21:46:24 +0000 2017</td>\n",
              "      <td>@115712 Can you please send us a private messa...</td>\n",
              "      <td>5,7</td>\n",
              "      <td>8.0</td>\n",
              "      <td>5</td>\n",
              "      <td>115712</td>\n",
              "      <td>True</td>\n",
              "      <td>Tue Oct 31 21:49:35 +0000 2017</td>\n",
              "      <td>@sprintcare I did.</td>\n",
              "      <td>4</td>\n",
              "      <td>6.0</td>\n",
              "    </tr>\n",
              "  </tbody>\n",
              "</table>\n",
              "</div>"
            ],
            "text/plain": [
              "   tweet_id_x author_id_x  ...  response_tweet_id_y in_response_to_tweet_id_y\n",
              "0           1  sprintcare  ...                  NaN                       1.0\n",
              "1           3      115712  ...                    2                       3.0\n",
              "2           4  sprintcare  ...                    1                       4.0\n",
              "3           5      115712  ...                    3                       5.0\n",
              "4           6  sprintcare  ...                    4                       6.0\n",
              "\n",
              "[5 rows x 14 columns]"
            ]
          },
          "metadata": {
            "tags": []
          },
          "execution_count": 15
        }
      ]
    },
    {
      "cell_type": "code",
      "metadata": {
        "id": "ReZKGgK42whY",
        "colab_type": "code",
        "outputId": "b9f50774-d0a4-4b03-eca0-18e31837e1d8",
        "colab": {
          "base_uri": "https://localhost:8080/",
          "height": 87
        }
      },
      "source": [
        "y = merged[merged['tweet_id_x'] == 12]\n",
        "print(y.iloc[0]['text_y'])\n",
        "print(y.iloc[1]['text_y'])\n",
        "print(y.iloc[1]['text_x'])"
      ],
      "execution_count": 0,
      "outputs": [
        {
          "output_type": "stream",
          "text": [
            "@115713 This is saddening to hear. Please shoot us a DM, so that we can look into this for you. -KC\n",
            "@115713 I would really like to work with you to have this resolved. Kindly send us a DM. I'm here for you! -ResolutionSup SR\n",
            "@sprintcare You gonna magically change your connectivity for me and my whole family ? 🤥 💯\n"
          ],
          "name": "stdout"
        }
      ]
    },
    {
      "cell_type": "code",
      "metadata": {
        "id": "GapATvfsmi6O",
        "colab_type": "code",
        "colab": {}
      },
      "source": [
        "test = merged[['tweet_id_x','text_x', 'text_y', 'in_response_to_tweet_id_y']].sample(10, random_state=21)"
      ],
      "execution_count": 0,
      "outputs": []
    },
    {
      "cell_type": "code",
      "metadata": {
        "id": "7-cc872Pm7rf",
        "colab_type": "code",
        "outputId": "31645af6-771f-4f62-cecb-896e92d4b5ab",
        "colab": {
          "base_uri": "https://localhost:8080/",
          "height": 511
        }
      },
      "source": [
        "merged[['tweet_id_x','text_x', 'text_y', 'in_response_to_tweet_id_y']].sample(10, random_state=21)"
      ],
      "execution_count": 0,
      "outputs": [
        {
          "output_type": "execute_result",
          "data": {
            "text/html": [
              "<div>\n",
              "<style scoped>\n",
              "    .dataframe tbody tr th:only-of-type {\n",
              "        vertical-align: middle;\n",
              "    }\n",
              "\n",
              "    .dataframe tbody tr th {\n",
              "        vertical-align: top;\n",
              "    }\n",
              "\n",
              "    .dataframe thead th {\n",
              "        text-align: right;\n",
              "    }\n",
              "</style>\n",
              "<table border=\"1\" class=\"dataframe\">\n",
              "  <thead>\n",
              "    <tr style=\"text-align: right;\">\n",
              "      <th></th>\n",
              "      <th>tweet_id_x</th>\n",
              "      <th>text_x</th>\n",
              "      <th>text_y</th>\n",
              "      <th>in_response_to_tweet_id_y</th>\n",
              "    </tr>\n",
              "  </thead>\n",
              "  <tbody>\n",
              "    <tr>\n",
              "      <th>1717926</th>\n",
              "      <td>2544251</td>\n",
              "      <td>Wtf @Tesco 😂 https://t.co/1D80HsVd5s</td>\n",
              "      <td>@723246 Hi there. I'm sorry to see this and un...</td>\n",
              "      <td>2544251.0</td>\n",
              "    </tr>\n",
              "    <tr>\n",
              "      <th>1581555</th>\n",
              "      <td>2341576</td>\n",
              "      <td>@115850 Order # 405-4147402-7867522 i am wilin...</td>\n",
              "      <td>@677316 I request you to place a new order. I ...</td>\n",
              "      <td>2341576.0</td>\n",
              "    </tr>\n",
              "    <tr>\n",
              "      <th>699339</th>\n",
              "      <td>1016907</td>\n",
              "      <td>@AppleSupport In text message bar disappear, p...</td>\n",
              "      <td>@360606 Thank you for letting us know. Could y...</td>\n",
              "      <td>1016907.0</td>\n",
              "    </tr>\n",
              "    <tr>\n",
              "      <th>1105732</th>\n",
              "      <td>1610411</td>\n",
              "      <td>@115873 @Uber_Support  driver regretted to com...</td>\n",
              "      <td>@494361 Sorry for the trouble! Please send us ...</td>\n",
              "      <td>1610411.0</td>\n",
              "    </tr>\n",
              "    <tr>\n",
              "      <th>1591479</th>\n",
              "      <td>2356109</td>\n",
              "      <td>@ATVIAssist can't. Redeem my contacts or take ...</td>\n",
              "      <td>@680645 Were u able to play the last 24 hours?...</td>\n",
              "      <td>2356109.0</td>\n",
              "    </tr>\n",
              "    <tr>\n",
              "      <th>282775</th>\n",
              "      <td>408237</td>\n",
              "      <td>@115911 KeithM are you offering to split the b...</td>\n",
              "      <td>@212304 @115911 jeeeeeeeeezzzzz</td>\n",
              "      <td>408237.0</td>\n",
              "    </tr>\n",
              "    <tr>\n",
              "      <th>982738</th>\n",
              "      <td>1429375</td>\n",
              "      <td>@SW_Help 😂 let’s wait and see my money is on a...</td>\n",
              "      <td>@451993 @SW_Help The Ashford station tote is o...</td>\n",
              "      <td>1429375.0</td>\n",
              "    </tr>\n",
              "    <tr>\n",
              "      <th>1994344</th>\n",
              "      <td>2958251</td>\n",
              "      <td>@TMobileHelp DM ! What is this ?!</td>\n",
              "      <td>@816499 A DM is a direct message. You can send...</td>\n",
              "      <td>2958251.0</td>\n",
              "    </tr>\n",
              "    <tr>\n",
              "      <th>582776</th>\n",
              "      <td>850238</td>\n",
              "      <td>Hi @Tesco I really really wanted to buy my lit...</td>\n",
              "      <td>@322002 Thank you for your concerns - Brooke 3/3</td>\n",
              "      <td>850238.0</td>\n",
              "    </tr>\n",
              "    <tr>\n",
              "      <th>349511</th>\n",
              "      <td>505106</td>\n",
              "      <td>@115858 please fix this auto brightness. Drain...</td>\n",
              "      <td>@235802 You can disable that if you'd like. Ju...</td>\n",
              "      <td>505106.0</td>\n",
              "    </tr>\n",
              "  </tbody>\n",
              "</table>\n",
              "</div>"
            ],
            "text/plain": [
              "         tweet_id_x  ... in_response_to_tweet_id_y\n",
              "1717926     2544251  ...                 2544251.0\n",
              "1581555     2341576  ...                 2341576.0\n",
              "699339      1016907  ...                 1016907.0\n",
              "1105732     1610411  ...                 1610411.0\n",
              "1591479     2356109  ...                 2356109.0\n",
              "282775       408237  ...                  408237.0\n",
              "982738      1429375  ...                 1429375.0\n",
              "1994344     2958251  ...                 2958251.0\n",
              "582776       850238  ...                  850238.0\n",
              "349511       505106  ...                  505106.0\n",
              "\n",
              "[10 rows x 4 columns]"
            ]
          },
          "metadata": {
            "tags": []
          },
          "execution_count": 18
        }
      ]
    },
    {
      "cell_type": "code",
      "metadata": {
        "id": "l2v6Dky6pMy9",
        "colab_type": "code",
        "outputId": "3f259dd2-c9c2-436b-b284-cd4afea9a2a2",
        "colab": {
          "base_uri": "https://localhost:8080/",
          "height": 70
        }
      },
      "source": [
        "n = 1\n",
        "\n",
        "print(test.iloc[n]['text_x'])\n",
        "print(test.iloc[n]['text_y'])"
      ],
      "execution_count": 0,
      "outputs": [
        {
          "output_type": "stream",
          "text": [
            "@115850 Order # 405-4147402-7867522 i am wiling to accept delivery, and i did not return it. Wrongly updated by yr delivery agents.\n",
            "@677316 I request you to place a new order. I have noted and forward your feedback internally. 2/3 ^VH\n"
          ],
          "name": "stdout"
        }
      ]
    },
    {
      "cell_type": "code",
      "metadata": {
        "id": "px4JFbSCprXf",
        "colab_type": "code",
        "outputId": "fa4f418a-5623-4722-f217-521caa996545",
        "colab": {
          "base_uri": "https://localhost:8080/",
          "height": 34
        }
      },
      "source": [
        "test.iloc[1]['text_y'] "
      ],
      "execution_count": 0,
      "outputs": [
        {
          "output_type": "execute_result",
          "data": {
            "text/plain": [
              "'@677316 I request you to place a new order. I have noted and forward your feedback internally. 2/3 ^VH'"
            ]
          },
          "metadata": {
            "tags": []
          },
          "execution_count": 20
        }
      ]
    },
    {
      "cell_type": "code",
      "metadata": {
        "id": "UUGlk9eIpw8p",
        "colab_type": "code",
        "outputId": "57a1d8d5-4466-4efb-ed97-e10ae6d61163",
        "colab": {
          "base_uri": "https://localhost:8080/",
          "height": 202
        }
      },
      "source": [
        "merged2['author_id_y'].value_counts()[0:10]"
      ],
      "execution_count": 0,
      "outputs": [
        {
          "output_type": "execute_result",
          "data": {
            "text/plain": [
              "AmazonHelp         168814\n",
              "AppleSupport       106646\n",
              "Uber_Support        56160\n",
              "SpotifyCares        43092\n",
              "Delta               42114\n",
              "Tesco               38468\n",
              "AmericanAir         36531\n",
              "TMobileHelp         34215\n",
              "comcastcares        32921\n",
              "British_Airways     29290\n",
              "Name: author_id_y, dtype: int64"
            ]
          },
          "metadata": {
            "tags": []
          },
          "execution_count": 21
        }
      ]
    },
    {
      "cell_type": "code",
      "metadata": {
        "id": "0mZGBTa1vuu6",
        "colab_type": "code",
        "outputId": "4ace4521-3e06-498c-b472-d853a4e9b47a",
        "colab": {
          "base_uri": "https://localhost:8080/",
          "height": 1000
        }
      },
      "source": [
        "amz = merged2[merged2['author_id_y'] == 'AmazonHelp']\n",
        "\n",
        "amz.head(10)"
      ],
      "execution_count": 0,
      "outputs": [
        {
          "output_type": "execute_result",
          "data": {
            "text/html": [
              "<div>\n",
              "<style scoped>\n",
              "    .dataframe tbody tr th:only-of-type {\n",
              "        vertical-align: middle;\n",
              "    }\n",
              "\n",
              "    .dataframe tbody tr th {\n",
              "        vertical-align: top;\n",
              "    }\n",
              "\n",
              "    .dataframe thead th {\n",
              "        text-align: right;\n",
              "    }\n",
              "</style>\n",
              "<table border=\"1\" class=\"dataframe\">\n",
              "  <thead>\n",
              "    <tr style=\"text-align: right;\">\n",
              "      <th></th>\n",
              "      <th>tweet_id_x</th>\n",
              "      <th>author_id_x</th>\n",
              "      <th>inbound_x</th>\n",
              "      <th>created_at_x</th>\n",
              "      <th>text_x</th>\n",
              "      <th>response_tweet_id_x</th>\n",
              "      <th>in_response_to_tweet_id_x</th>\n",
              "      <th>tweet_id_y</th>\n",
              "      <th>author_id_y</th>\n",
              "      <th>inbound_y</th>\n",
              "      <th>created_at_y</th>\n",
              "      <th>text_y</th>\n",
              "      <th>response_tweet_id_y</th>\n",
              "      <th>in_response_to_tweet_id_y</th>\n",
              "    </tr>\n",
              "  </thead>\n",
              "  <tbody>\n",
              "    <tr>\n",
              "      <th>96</th>\n",
              "      <td>271</td>\n",
              "      <td>115770</td>\n",
              "      <td>True</td>\n",
              "      <td>Wed Nov 22 09:30:36 +0000 2017</td>\n",
              "      <td>@AmazonHelp 電話で対応してもらいましたが改良されませんでした。\\n保証期間も過ぎ...</td>\n",
              "      <td>273</td>\n",
              "      <td>269.0</td>\n",
              "      <td>273</td>\n",
              "      <td>AmazonHelp</td>\n",
              "      <td>False</td>\n",
              "      <td>Wed Nov 22 09:40:27 +0000 2017</td>\n",
              "      <td>@115770 カスタマーサービスにてお問い合わせ済みとのことで、お手数をおかけいたしました...</td>\n",
              "      <td>274</td>\n",
              "      <td>271.0</td>\n",
              "    </tr>\n",
              "    <tr>\n",
              "      <th>97</th>\n",
              "      <td>274</td>\n",
              "      <td>115770</td>\n",
              "      <td>True</td>\n",
              "      <td>Wed Nov 22 09:44:04 +0000 2017</td>\n",
              "      <td>@AmazonHelp こちらこそありがとうございました。</td>\n",
              "      <td>275</td>\n",
              "      <td>273.0</td>\n",
              "      <td>275</td>\n",
              "      <td>AmazonHelp</td>\n",
              "      <td>False</td>\n",
              "      <td>Wed Nov 22 10:06:26 +0000 2017</td>\n",
              "      <td>@115770 恐れ入ります。至らない点も多々あるかとは存じますが、今後ともどうぞよろしくお...</td>\n",
              "      <td>NaN</td>\n",
              "      <td>274.0</td>\n",
              "    </tr>\n",
              "    <tr>\n",
              "      <th>98</th>\n",
              "      <td>272</td>\n",
              "      <td>115770</td>\n",
              "      <td>True</td>\n",
              "      <td>Wed Nov 22 09:14:39 +0000 2017</td>\n",
              "      <td>amazonのfireTVstickが見れない😢</td>\n",
              "      <td>269</td>\n",
              "      <td>NaN</td>\n",
              "      <td>269</td>\n",
              "      <td>AmazonHelp</td>\n",
              "      <td>False</td>\n",
              "      <td>Wed Nov 22 09:23:01 +0000 2017</td>\n",
              "      <td>@115770 こんにちは、アマゾン公式です。Fire TV Stickが見れないというのは...</td>\n",
              "      <td>270,271</td>\n",
              "      <td>272.0</td>\n",
              "    </tr>\n",
              "    <tr>\n",
              "      <th>124</th>\n",
              "      <td>325</td>\n",
              "      <td>115792</td>\n",
              "      <td>True</td>\n",
              "      <td>Wed Nov 22 08:55:35 +0000 2017</td>\n",
              "      <td>amazonプライムビデオ、再生エラーが多いです</td>\n",
              "      <td>324</td>\n",
              "      <td>NaN</td>\n",
              "      <td>324</td>\n",
              "      <td>AmazonHelp</td>\n",
              "      <td>False</td>\n",
              "      <td>Wed Nov 22 09:06:00 +0000 2017</td>\n",
              "      <td>@115792 ご不便をおかけしております。アプリをご利用でしょうか。強制停止&amp;gt;端末の...</td>\n",
              "      <td>NaN</td>\n",
              "      <td>325.0</td>\n",
              "    </tr>\n",
              "    <tr>\n",
              "      <th>180</th>\n",
              "      <td>616</td>\n",
              "      <td>115820</td>\n",
              "      <td>True</td>\n",
              "      <td>Tue Oct 31 23:22:08 +0000 2017</td>\n",
              "      <td>@AmazonHelp 3 different people have given 3 di...</td>\n",
              "      <td>618</td>\n",
              "      <td>615.0</td>\n",
              "      <td>618</td>\n",
              "      <td>AmazonHelp</td>\n",
              "      <td>False</td>\n",
              "      <td>Tue Oct 31 23:28:00 +0000 2017</td>\n",
              "      <td>@115820 We'd like to take a further look into ...</td>\n",
              "      <td>619</td>\n",
              "      <td>616.0</td>\n",
              "    </tr>\n",
              "    <tr>\n",
              "      <th>181</th>\n",
              "      <td>617</td>\n",
              "      <td>115820</td>\n",
              "      <td>True</td>\n",
              "      <td>Tue Oct 31 22:16:32 +0000 2017</td>\n",
              "      <td>Way to drop the ball on customer service @1158...</td>\n",
              "      <td>615</td>\n",
              "      <td>NaN</td>\n",
              "      <td>615</td>\n",
              "      <td>AmazonHelp</td>\n",
              "      <td>False</td>\n",
              "      <td>Tue Oct 31 22:29:00 +0000 2017</td>\n",
              "      <td>@115820 I'm sorry we've let you down! Without ...</td>\n",
              "      <td>616</td>\n",
              "      <td>617.0</td>\n",
              "    </tr>\n",
              "    <tr>\n",
              "      <th>182</th>\n",
              "      <td>621</td>\n",
              "      <td>115822</td>\n",
              "      <td>True</td>\n",
              "      <td>Tue Oct 31 22:19:34 +0000 2017</td>\n",
              "      <td>@115823 I want my amazon payments account CLOS...</td>\n",
              "      <td>620</td>\n",
              "      <td>NaN</td>\n",
              "      <td>620</td>\n",
              "      <td>AmazonHelp</td>\n",
              "      <td>False</td>\n",
              "      <td>Tue Oct 31 22:28:34 +0000 2017</td>\n",
              "      <td>@115822 I am unable to affect your account via...</td>\n",
              "      <td>NaN</td>\n",
              "      <td>621.0</td>\n",
              "    </tr>\n",
              "    <tr>\n",
              "      <th>183</th>\n",
              "      <td>623</td>\n",
              "      <td>115824</td>\n",
              "      <td>True</td>\n",
              "      <td>Tue Oct 31 22:32:07 +0000 2017</td>\n",
              "      <td>@AmazonHelp Okay, danke für die Info</td>\n",
              "      <td>625</td>\n",
              "      <td>622.0</td>\n",
              "      <td>625</td>\n",
              "      <td>AmazonHelp</td>\n",
              "      <td>False</td>\n",
              "      <td>Tue Oct 31 22:34:32 +0000 2017</td>\n",
              "      <td>@115824 Wir haben zu danken. Schönen Abend noc...</td>\n",
              "      <td>NaN</td>\n",
              "      <td>623.0</td>\n",
              "    </tr>\n",
              "    <tr>\n",
              "      <th>184</th>\n",
              "      <td>624</td>\n",
              "      <td>115824</td>\n",
              "      <td>True</td>\n",
              "      <td>Tue Oct 31 22:12:37 +0000 2017</td>\n",
              "      <td>@115825 also, beim Addams Family-Film in Prime...</td>\n",
              "      <td>622</td>\n",
              "      <td>NaN</td>\n",
              "      <td>622</td>\n",
              "      <td>AmazonHelp</td>\n",
              "      <td>False</td>\n",
              "      <td>Tue Oct 31 22:28:00 +0000 2017</td>\n",
              "      <td>@115824 Hi, wir erhalten die Filme/Serien so v...</td>\n",
              "      <td>623</td>\n",
              "      <td>624.0</td>\n",
              "    </tr>\n",
              "    <tr>\n",
              "      <th>185</th>\n",
              "      <td>627</td>\n",
              "      <td>115827</td>\n",
              "      <td>True</td>\n",
              "      <td>Wed Nov 01 12:50:18 +0000 2017</td>\n",
              "      <td>@AmazonHelp @115826 Yeah this is crazy we’re l...</td>\n",
              "      <td>629</td>\n",
              "      <td>626.0</td>\n",
              "      <td>629</td>\n",
              "      <td>AmazonHelp</td>\n",
              "      <td>False</td>\n",
              "      <td>Wed Nov 01 12:53:34 +0000 2017</td>\n",
              "      <td>@115827 Thanks for your patience. ^KM</td>\n",
              "      <td>NaN</td>\n",
              "      <td>627.0</td>\n",
              "    </tr>\n",
              "  </tbody>\n",
              "</table>\n",
              "</div>"
            ],
            "text/plain": [
              "     tweet_id_x author_id_x  ...  response_tweet_id_y in_response_to_tweet_id_y\n",
              "96          271      115770  ...                  274                     271.0\n",
              "97          274      115770  ...                  NaN                     274.0\n",
              "98          272      115770  ...              270,271                     272.0\n",
              "124         325      115792  ...                  NaN                     325.0\n",
              "180         616      115820  ...                  619                     616.0\n",
              "181         617      115820  ...                  616                     617.0\n",
              "182         621      115822  ...                  NaN                     621.0\n",
              "183         623      115824  ...                  NaN                     623.0\n",
              "184         624      115824  ...                  623                     624.0\n",
              "185         627      115827  ...                  NaN                     627.0\n",
              "\n",
              "[10 rows x 14 columns]"
            ]
          },
          "metadata": {
            "tags": []
          },
          "execution_count": 24
        }
      ]
    },
    {
      "cell_type": "code",
      "metadata": {
        "id": "Jxlc2-PqrdzV",
        "colab_type": "code",
        "outputId": "8ba478f7-f3fd-4f61-9e50-591979af199b",
        "colab": {
          "base_uri": "https://localhost:8080/",
          "height": 34
        }
      },
      "source": [
        "check = amz.iloc[0]['text_x']\n",
        "check"
      ],
      "execution_count": 0,
      "outputs": [
        {
          "output_type": "execute_result",
          "data": {
            "text/plain": [
              "'@AmazonHelp 電話で対応してもらいましたが改良されませんでした。\\n保証期間も過ぎてるので買い直しになるんでしょうね。'"
            ]
          },
          "metadata": {
            "tags": []
          },
          "execution_count": 29
        }
      ]
    },
    {
      "cell_type": "code",
      "metadata": {
        "id": "pn_1_ADVru1j",
        "colab_type": "code",
        "outputId": "c6821758-502a-47da-ae5b-56bc6af00aee",
        "colab": {
          "base_uri": "https://localhost:8080/",
          "height": 54
        }
      },
      "source": [
        "import re\n",
        "\n",
        "def isEnglish(s):\n",
        "    try:\n",
        "        s.encode(encoding='utf-8').decode('ascii')\n",
        "    except UnicodeDecodeError:\n",
        "        return False\n",
        "    else:\n",
        "        return True\n",
        "\n",
        "s = \"@121649 We haven't received it'll your details yet. Kindly fill your details once again in the link provided earlier &amp; we'll get in touch. ^SY\"\n",
        "#print(s)\n",
        "\n",
        "#amz['isEnglish'] = amz['text_x'].apply(isEnglish)\n",
        "def clean_tweet(s):\n",
        "    s = re.sub(r\"[@\\^&]\\S+\", \"\", s)\n",
        "    #s = re.sub(r\"[^a-zA-Z.!?':/]+\", r\" \", s)\n",
        "    s = re.sub(r\"[^a-zA-Z0-9.!?':\\/-]+\", r\" \", s)\n",
        "    #return len(s.strip().split())\n",
        "    return s.strip()\n",
        "\n",
        "def get_length(s):\n",
        "    return len(s.strip().split())\n",
        "\n",
        "clean_tweet(s)"
      ],
      "execution_count": 0,
      "outputs": [
        {
          "output_type": "execute_result",
          "data": {
            "text/plain": [
              "\"We haven't received it'll your details yet. Kindly fill your details once again in the link provided earlier we'll get in touch.\""
            ]
          },
          "metadata": {
            "tags": []
          },
          "execution_count": 182
        }
      ]
    },
    {
      "cell_type": "code",
      "metadata": {
        "id": "DUtI2aMo2wf2",
        "colab_type": "code",
        "outputId": "16616ced-ea46-4b40-911a-bfa902e4742c",
        "colab": {
          "base_uri": "https://localhost:8080/",
          "height": 686
        }
      },
      "source": [
        "subset = amz[['text_x', 'text_y']]\n",
        "subset['clean_x'] = subset['text_x'].apply(clean_tweet)\n",
        "subset['clean_y'] = subset['text_y'].apply(clean_tweet)\n",
        "subset['len'] = subset['clean_x'].apply(get_length)\n",
        "subset.head()"
      ],
      "execution_count": 0,
      "outputs": [
        {
          "output_type": "stream",
          "text": [
            "/usr/local/lib/python3.6/dist-packages/ipykernel_launcher.py:2: SettingWithCopyWarning: \n",
            "A value is trying to be set on a copy of a slice from a DataFrame.\n",
            "Try using .loc[row_indexer,col_indexer] = value instead\n",
            "\n",
            "See the caveats in the documentation: http://pandas.pydata.org/pandas-docs/stable/user_guide/indexing.html#returning-a-view-versus-a-copy\n",
            "  \n",
            "/usr/local/lib/python3.6/dist-packages/ipykernel_launcher.py:3: SettingWithCopyWarning: \n",
            "A value is trying to be set on a copy of a slice from a DataFrame.\n",
            "Try using .loc[row_indexer,col_indexer] = value instead\n",
            "\n",
            "See the caveats in the documentation: http://pandas.pydata.org/pandas-docs/stable/user_guide/indexing.html#returning-a-view-versus-a-copy\n",
            "  This is separate from the ipykernel package so we can avoid doing imports until\n",
            "/usr/local/lib/python3.6/dist-packages/ipykernel_launcher.py:4: SettingWithCopyWarning: \n",
            "A value is trying to be set on a copy of a slice from a DataFrame.\n",
            "Try using .loc[row_indexer,col_indexer] = value instead\n",
            "\n",
            "See the caveats in the documentation: http://pandas.pydata.org/pandas-docs/stable/user_guide/indexing.html#returning-a-view-versus-a-copy\n",
            "  after removing the cwd from sys.path.\n"
          ],
          "name": "stderr"
        },
        {
          "output_type": "execute_result",
          "data": {
            "text/html": [
              "<div>\n",
              "<style scoped>\n",
              "    .dataframe tbody tr th:only-of-type {\n",
              "        vertical-align: middle;\n",
              "    }\n",
              "\n",
              "    .dataframe tbody tr th {\n",
              "        vertical-align: top;\n",
              "    }\n",
              "\n",
              "    .dataframe thead th {\n",
              "        text-align: right;\n",
              "    }\n",
              "</style>\n",
              "<table border=\"1\" class=\"dataframe\">\n",
              "  <thead>\n",
              "    <tr style=\"text-align: right;\">\n",
              "      <th></th>\n",
              "      <th>text_x</th>\n",
              "      <th>text_y</th>\n",
              "      <th>clean_x</th>\n",
              "      <th>clean_y</th>\n",
              "      <th>len</th>\n",
              "    </tr>\n",
              "  </thead>\n",
              "  <tbody>\n",
              "    <tr>\n",
              "      <th>96</th>\n",
              "      <td>@AmazonHelp 電話で対応してもらいましたが改良されませんでした。\\n保証期間も過ぎ...</td>\n",
              "      <td>@115770 カスタマーサービスにてお問い合わせ済みとのことで、お手数をおかけいたしました...</td>\n",
              "      <td></td>\n",
              "      <td>ET</td>\n",
              "      <td>0</td>\n",
              "    </tr>\n",
              "    <tr>\n",
              "      <th>97</th>\n",
              "      <td>@AmazonHelp こちらこそありがとうございました。</td>\n",
              "      <td>@115770 恐れ入ります。至らない点も多々あるかとは存じますが、今後ともどうぞよろしくお...</td>\n",
              "      <td></td>\n",
              "      <td>ET</td>\n",
              "      <td>0</td>\n",
              "    </tr>\n",
              "    <tr>\n",
              "      <th>98</th>\n",
              "      <td>amazonのfireTVstickが見れない😢</td>\n",
              "      <td>@115770 こんにちは、アマゾン公式です。Fire TV Stickが見れないというのは...</td>\n",
              "      <td>amazon fireTVstick</td>\n",
              "      <td>Fire TV Stick https://t.co/2pbG55qJ7h ET</td>\n",
              "      <td>2</td>\n",
              "    </tr>\n",
              "    <tr>\n",
              "      <th>124</th>\n",
              "      <td>amazonプライムビデオ、再生エラーが多いです</td>\n",
              "      <td>@115792 ご不便をおかけしております。アプリをご利用でしょうか。強制停止&amp;gt;端末の...</td>\n",
              "      <td>amazon</td>\n",
              "      <td>ET</td>\n",
              "      <td>1</td>\n",
              "    </tr>\n",
              "    <tr>\n",
              "      <th>180</th>\n",
              "      <td>@AmazonHelp 3 different people have given 3 di...</td>\n",
              "      <td>@115820 We'd like to take a further look into ...</td>\n",
              "      <td>3 different people have given 3 different answ...</td>\n",
              "      <td>We'd like to take a further look into this wit...</td>\n",
              "      <td>25</td>\n",
              "    </tr>\n",
              "  </tbody>\n",
              "</table>\n",
              "</div>"
            ],
            "text/plain": [
              "                                                text_x  ... len\n",
              "96   @AmazonHelp 電話で対応してもらいましたが改良されませんでした。\\n保証期間も過ぎ...  ...   0\n",
              "97                       @AmazonHelp こちらこそありがとうございました。  ...   0\n",
              "98                            amazonのfireTVstickが見れない😢  ...   2\n",
              "124                           amazonプライムビデオ、再生エラーが多いです  ...   1\n",
              "180  @AmazonHelp 3 different people have given 3 di...  ...  25\n",
              "\n",
              "[5 rows x 5 columns]"
            ]
          },
          "metadata": {
            "tags": []
          },
          "execution_count": 135
        }
      ]
    },
    {
      "cell_type": "code",
      "metadata": {
        "id": "0U4CI8gG7Lp7",
        "colab_type": "code",
        "colab": {}
      },
      "source": [
        "sub = subset[subset['len'] > 3]\n",
        "sub.shape\n",
        "\n",
        "final2 = subset[subset['len'] >= 2]\n"
      ],
      "execution_count": 0,
      "outputs": []
    },
    {
      "cell_type": "code",
      "metadata": {
        "id": "YwUj60nI7FFP",
        "colab_type": "code",
        "colab": {}
      },
      "source": [
        "final = subset[subset['len'] > 3].sample(10, random_state=75)"
      ],
      "execution_count": 0,
      "outputs": []
    },
    {
      "cell_type": "code",
      "metadata": {
        "id": "JTlnqeUlDcoF",
        "colab_type": "code",
        "outputId": "3be837ce-27bd-4ec4-9c59-fd32818db3a3",
        "colab": {
          "base_uri": "https://localhost:8080/",
          "height": 34
        }
      },
      "source": [
        " subset[subset['len'] > 3].shape"
      ],
      "execution_count": 0,
      "outputs": [
        {
          "output_type": "execute_result",
          "data": {
            "text/plain": [
              "(151383, 5)"
            ]
          },
          "metadata": {
            "tags": []
          },
          "execution_count": 104
        }
      ]
    },
    {
      "cell_type": "code",
      "metadata": {
        "id": "NBTYpb3ssLbD",
        "colab_type": "code",
        "outputId": "9bce6fb2-6493-4868-bf50-efa815f0cbe0",
        "colab": {
          "base_uri": "https://localhost:8080/",
          "height": 121
        }
      },
      "source": [
        "n = 3\n",
        "\n",
        "print(final.iloc[n]['text_x'])\n",
        "print(final.iloc[n]['text_y'])\n",
        "print('')\n",
        "print(final.iloc[n]['clean_x'])\n",
        "print(final.iloc[n]['clean_y'])"
      ],
      "execution_count": 0,
      "outputs": [
        {
          "output_type": "stream",
          "text": [
            "@115850 i bought memory card&amp;adapter.I received package in 👌 condi. I received memory card in 👌Condi but adapter is not working properly.\n",
            "@403409 Apologies for the inconvenience. Have you tried reporting this to our support team here: https://t.co/2t6DQoUmNZ ? ^AB\n",
            "\n",
            "i bought memory card received package in condi. I received memory card in Condi but adapter is not working properly.\n",
            "Apologies for the inconvenience. Have you tried reporting this to our support team here: https://t.co/2t6DQoUmNZ ?\n"
          ],
          "name": "stdout"
        }
      ]
    },
    {
      "cell_type": "code",
      "metadata": {
        "id": "jfGbOv83DljT",
        "colab_type": "code",
        "outputId": "aa6c7fde-3bcc-46d7-be18-b8cf6bfb265a",
        "colab": {
          "base_uri": "https://localhost:8080/",
          "height": 34
        }
      },
      "source": [
        "s = \"Apologies Eugenie. Please reach out - https://t.co/JzP7hlA23B we'll be happy to look into this further.^TP\"\n",
        "\n",
        "clean_tweet(s)"
      ],
      "execution_count": 0,
      "outputs": [
        {
          "output_type": "execute_result",
          "data": {
            "text/plain": [
              "\"Apologies Eugenie. Please reach out - https://t.co/JzP7hlA23B we'll be happy to look into this further.\""
            ]
          },
          "metadata": {
            "tags": []
          },
          "execution_count": 113
        }
      ]
    },
    {
      "cell_type": "code",
      "metadata": {
        "id": "Yt9rtaw0s0B2",
        "colab_type": "code",
        "outputId": "7a26c25d-3e79-4a99-fad5-1c139774abe1",
        "colab": {
          "base_uri": "https://localhost:8080/",
          "height": 1000
        }
      },
      "source": [
        "amz[amz['isEnglish'] == False].sample(10)"
      ],
      "execution_count": 0,
      "outputs": [
        {
          "output_type": "execute_result",
          "data": {
            "text/html": [
              "<div>\n",
              "<style scoped>\n",
              "    .dataframe tbody tr th:only-of-type {\n",
              "        vertical-align: middle;\n",
              "    }\n",
              "\n",
              "    .dataframe tbody tr th {\n",
              "        vertical-align: top;\n",
              "    }\n",
              "\n",
              "    .dataframe thead th {\n",
              "        text-align: right;\n",
              "    }\n",
              "</style>\n",
              "<table border=\"1\" class=\"dataframe\">\n",
              "  <thead>\n",
              "    <tr style=\"text-align: right;\">\n",
              "      <th></th>\n",
              "      <th>tweet_id_x</th>\n",
              "      <th>author_id_x</th>\n",
              "      <th>inbound_x</th>\n",
              "      <th>created_at_x</th>\n",
              "      <th>text_x</th>\n",
              "      <th>response_tweet_id_x</th>\n",
              "      <th>in_response_to_tweet_id_x</th>\n",
              "      <th>tweet_id_y</th>\n",
              "      <th>author_id_y</th>\n",
              "      <th>inbound_y</th>\n",
              "      <th>created_at_y</th>\n",
              "      <th>text_y</th>\n",
              "      <th>response_tweet_id_y</th>\n",
              "      <th>in_response_to_tweet_id_y</th>\n",
              "      <th>isEnglish</th>\n",
              "    </tr>\n",
              "  </thead>\n",
              "  <tbody>\n",
              "    <tr>\n",
              "      <th>224961</th>\n",
              "      <td>472357</td>\n",
              "      <td>227492</td>\n",
              "      <td>True</td>\n",
              "      <td>Fri Dec 01 09:37:57 +0000 2017</td>\n",
              "      <td>@AmazonHelp “Lost in transit” It was out for d...</td>\n",
              "      <td>472359</td>\n",
              "      <td>472356.0</td>\n",
              "      <td>472359</td>\n",
              "      <td>AmazonHelp</td>\n",
              "      <td>False</td>\n",
              "      <td>Fri Dec 01 09:44:27 +0000 2017</td>\n",
              "      <td>@227492 Hi! Did you send us an email? You can ...</td>\n",
              "      <td>472360</td>\n",
              "      <td>472357.0</td>\n",
              "      <td>False</td>\n",
              "    </tr>\n",
              "    <tr>\n",
              "      <th>334643</th>\n",
              "      <td>706428</td>\n",
              "      <td>288889</td>\n",
              "      <td>True</td>\n",
              "      <td>Thu Oct 26 11:17:53 +0000 2017</td>\n",
              "      <td>@AmazonHelp ¡¡¡Eso espero!!! Ya os contaré 😍</td>\n",
              "      <td>706429</td>\n",
              "      <td>706427.0</td>\n",
              "      <td>706429</td>\n",
              "      <td>AmazonHelp</td>\n",
              "      <td>False</td>\n",
              "      <td>Thu Oct 26 11:30:28 +0000 2017</td>\n",
              "      <td>@288889 ¡Vale entonces! Te esperamos 💕. ^MB</td>\n",
              "      <td>NaN</td>\n",
              "      <td>706428.0</td>\n",
              "      <td>False</td>\n",
              "    </tr>\n",
              "    <tr>\n",
              "      <th>829957</th>\n",
              "      <td>1719188</td>\n",
              "      <td>520458</td>\n",
              "      <td>True</td>\n",
              "      <td>Sun Nov 26 05:43:03 +0000 2017</td>\n",
              "      <td>@AmazonHelp It’s ok , you people how fool the ...</td>\n",
              "      <td>1719190</td>\n",
              "      <td>1719187.0</td>\n",
              "      <td>1719190</td>\n",
              "      <td>AmazonHelp</td>\n",
              "      <td>False</td>\n",
              "      <td>Sun Nov 26 06:06:27 +0000 2017</td>\n",
              "      <td>@520458 We understand you are yet to receive y...</td>\n",
              "      <td>1719191</td>\n",
              "      <td>1719188.0</td>\n",
              "      <td>False</td>\n",
              "    </tr>\n",
              "    <tr>\n",
              "      <th>582678</th>\n",
              "      <td>1213524</td>\n",
              "      <td>404822</td>\n",
              "      <td>True</td>\n",
              "      <td>Sun Oct 15 23:29:06 +0000 2017</td>\n",
              "      <td>@115821 why has £79 been removed from my accou...</td>\n",
              "      <td>1213522</td>\n",
              "      <td>NaN</td>\n",
              "      <td>1213522</td>\n",
              "      <td>AmazonHelp</td>\n",
              "      <td>False</td>\n",
              "      <td>Sun Oct 15 23:35:00 +0000 2017</td>\n",
              "      <td>@404822 Paid members who haven't used their be...</td>\n",
              "      <td>1213523</td>\n",
              "      <td>1213524.0</td>\n",
              "      <td>False</td>\n",
              "    </tr>\n",
              "    <tr>\n",
              "      <th>135996</th>\n",
              "      <td>286323</td>\n",
              "      <td>184209</td>\n",
              "      <td>True</td>\n",
              "      <td>Fri Oct 06 14:01:21 +0000 2017</td>\n",
              "      <td>Just got this in a promotional email from @115...</td>\n",
              "      <td>286321</td>\n",
              "      <td>NaN</td>\n",
              "      <td>286321</td>\n",
              "      <td>AmazonHelp</td>\n",
              "      <td>False</td>\n",
              "      <td>Fri Oct 06 14:36:00 +0000 2017</td>\n",
              "      <td>@184209 Thank you for flagging this issue. We ...</td>\n",
              "      <td>286322</td>\n",
              "      <td>286323.0</td>\n",
              "      <td>False</td>\n",
              "    </tr>\n",
              "    <tr>\n",
              "      <th>804759</th>\n",
              "      <td>1668372</td>\n",
              "      <td>508084</td>\n",
              "      <td>True</td>\n",
              "      <td>Mon Nov 06 11:52:57 +0000 2017</td>\n",
              "      <td>えっAmazon経由でクッキー詰め合わせが送られてきたのだが。。。\\nえっなんで？なにこれ。...</td>\n",
              "      <td>1668371</td>\n",
              "      <td>NaN</td>\n",
              "      <td>1668371</td>\n",
              "      <td>AmazonHelp</td>\n",
              "      <td>False</td>\n",
              "      <td>Mon Nov 06 12:01:26 +0000 2017</td>\n",
              "      <td>@508084 失礼いたします。第三者からの贈り物の可能性がございますが、もしお心当たりがな...</td>\n",
              "      <td>NaN</td>\n",
              "      <td>1668372.0</td>\n",
              "      <td>False</td>\n",
              "    </tr>\n",
              "    <tr>\n",
              "      <th>1373408</th>\n",
              "      <td>2828721</td>\n",
              "      <td>124468</td>\n",
              "      <td>True</td>\n",
              "      <td>Mon Nov 27 12:05:18 +0000 2017</td>\n",
              "      <td>@AmazonHelp I ordered a package to be delivere...</td>\n",
              "      <td>2828719</td>\n",
              "      <td>NaN</td>\n",
              "      <td>2828719</td>\n",
              "      <td>AmazonHelp</td>\n",
              "      <td>False</td>\n",
              "      <td>Mon Nov 27 12:12:38 +0000 2017</td>\n",
              "      <td>@124468 What was the original delivery estimat...</td>\n",
              "      <td>2828720</td>\n",
              "      <td>2828721.0</td>\n",
              "      <td>False</td>\n",
              "    </tr>\n",
              "    <tr>\n",
              "      <th>472398</th>\n",
              "      <td>988095</td>\n",
              "      <td>354112</td>\n",
              "      <td>True</td>\n",
              "      <td>Sat Oct 14 10:48:11 +0000 2017</td>\n",
              "      <td>@116928 ámame y traerme lo que pedí :(</td>\n",
              "      <td>988094</td>\n",
              "      <td>NaN</td>\n",
              "      <td>988094</td>\n",
              "      <td>AmazonHelp</td>\n",
              "      <td>False</td>\n",
              "      <td>Sat Oct 14 10:53:33 +0000 2017</td>\n",
              "      <td>@354112 Hola Cactus, ¿cómo te podemos ayudar? ^MB</td>\n",
              "      <td>NaN</td>\n",
              "      <td>988095.0</td>\n",
              "      <td>False</td>\n",
              "    </tr>\n",
              "    <tr>\n",
              "      <th>879459</th>\n",
              "      <td>1820599</td>\n",
              "      <td>546564</td>\n",
              "      <td>True</td>\n",
              "      <td>Wed Oct 18 02:56:06 +0000 2017</td>\n",
              "      <td>Amazon\\n登録してないのに\\n登録してますって(￣▽￣)\\n郵便番号とか入力しても\\n...</td>\n",
              "      <td>1820597</td>\n",
              "      <td>NaN</td>\n",
              "      <td>1820597</td>\n",
              "      <td>AmazonHelp</td>\n",
              "      <td>False</td>\n",
              "      <td>Wed Oct 18 03:32:00 +0000 2017</td>\n",
              "      <td>@546564 突然失礼いたします、公式サポートです。以前利用出来ていたご自身のアカウントに...</td>\n",
              "      <td>1820598</td>\n",
              "      <td>1820599.0</td>\n",
              "      <td>False</td>\n",
              "    </tr>\n",
              "    <tr>\n",
              "      <th>231852</th>\n",
              "      <td>487684</td>\n",
              "      <td>231084</td>\n",
              "      <td>True</td>\n",
              "      <td>Fri Dec 01 15:56:03 +0000 2017</td>\n",
              "      <td>@AmazonHelp my delivery was late so I emailed ...</td>\n",
              "      <td>487683</td>\n",
              "      <td>NaN</td>\n",
              "      <td>487683</td>\n",
              "      <td>AmazonHelp</td>\n",
              "      <td>False</td>\n",
              "      <td>Fri Dec 01 16:00:29 +0000 2017</td>\n",
              "      <td>@231084 I'm sorry to hear about the experience...</td>\n",
              "      <td>487681</td>\n",
              "      <td>487684.0</td>\n",
              "      <td>False</td>\n",
              "    </tr>\n",
              "  </tbody>\n",
              "</table>\n",
              "</div>"
            ],
            "text/plain": [
              "         tweet_id_x author_id_x  ...  in_response_to_tweet_id_y isEnglish\n",
              "224961       472357      227492  ...                   472357.0     False\n",
              "334643       706428      288889  ...                   706428.0     False\n",
              "829957      1719188      520458  ...                  1719188.0     False\n",
              "582678      1213524      404822  ...                  1213524.0     False\n",
              "135996       286323      184209  ...                   286323.0     False\n",
              "804759      1668372      508084  ...                  1668372.0     False\n",
              "1373408     2828721      124468  ...                  2828721.0     False\n",
              "472398       988095      354112  ...                   988095.0     False\n",
              "879459      1820599      546564  ...                  1820599.0     False\n",
              "231852       487684      231084  ...                   487684.0     False\n",
              "\n",
              "[10 rows x 15 columns]"
            ]
          },
          "metadata": {
            "tags": []
          },
          "execution_count": 38
        }
      ]
    },
    {
      "cell_type": "code",
      "metadata": {
        "id": "Ofo1j6EJtEHN",
        "colab_type": "code",
        "outputId": "f20d667a-5272-4a2d-ee44-850b3424566e",
        "colab": {
          "base_uri": "https://localhost:8080/",
          "height": 54
        }
      },
      "source": [
        "amz.loc[829957]['text_x']"
      ],
      "execution_count": 0,
      "outputs": [
        {
          "output_type": "execute_result",
          "data": {
            "text/plain": [
              "'@AmazonHelp It’s ok , you people how fool the customer and play with customer money every one should know about it'"
            ]
          },
          "metadata": {
            "tags": []
          },
          "execution_count": 40
        }
      ]
    },
    {
      "cell_type": "code",
      "metadata": {
        "id": "nbspmLb1tPE_",
        "colab_type": "code",
        "colab": {}
      },
      "source": [
        ""
      ],
      "execution_count": 0,
      "outputs": []
    },
    {
      "cell_type": "code",
      "metadata": {
        "id": "Mg3W7TuDLURv",
        "colab_type": "code",
        "outputId": "ba8d9a5b-096b-4cd5-a2e6-4f77b96805cd",
        "colab": {
          "base_uri": "https://localhost:8080/",
          "height": 34
        }
      },
      "source": [
        "df.shape"
      ],
      "execution_count": 0,
      "outputs": [
        {
          "output_type": "execute_result",
          "data": {
            "text/plain": [
              "(158934, 2)"
            ]
          },
          "metadata": {
            "tags": []
          },
          "execution_count": 171
        }
      ]
    },
    {
      "cell_type": "code",
      "metadata": {
        "id": "2A-n1jKkLUDt",
        "colab_type": "code",
        "outputId": "0d31e60c-6f4f-4c00-d43a-cdc4d5c90381",
        "colab": {
          "base_uri": "https://localhost:8080/",
          "height": 70
        }
      },
      "source": [
        "df = final2[['clean_x', 'clean_y']]\n",
        "df.columns = ['Questions', 'Answers']\n",
        "print(df.sample(10, random_state=38).iloc[5]['Questions'])\n",
        "print(df.sample(10, random_state=38).iloc[5]['Answers'])"
      ],
      "execution_count": 0,
      "outputs": [
        {
          "output_type": "stream",
          "text": [
            "Seems to be refund only if I wait and there is a restock within 30 days would I be able to see a replacement option?\n",
            "Those seem to be the only options at this time. Feel free to check back to see if it updates with more availability.\n"
          ],
          "name": "stdout"
        }
      ]
    },
    {
      "cell_type": "code",
      "metadata": {
        "id": "wwm1pndfLVjQ",
        "colab_type": "code",
        "colab": {}
      },
      "source": [
        "df.to_csv('chatbot_data.csv', index=False)"
      ],
      "execution_count": 0,
      "outputs": []
    },
    {
      "cell_type": "code",
      "metadata": {
        "id": "Z-zCjeInNJq0",
        "colab_type": "code",
        "outputId": "9e8570b1-5b50-43da-a46c-7909feaf9fd7",
        "colab": {
          "base_uri": "https://localhost:8080/",
          "height": 402
        }
      },
      "source": [
        "cc = pd.read_csv('chatbot_data.csv')\n",
        "cc"
      ],
      "execution_count": 0,
      "outputs": [
        {
          "output_type": "execute_result",
          "data": {
            "text/html": [
              "<div>\n",
              "<style scoped>\n",
              "    .dataframe tbody tr th:only-of-type {\n",
              "        vertical-align: middle;\n",
              "    }\n",
              "\n",
              "    .dataframe tbody tr th {\n",
              "        vertical-align: top;\n",
              "    }\n",
              "\n",
              "    .dataframe thead th {\n",
              "        text-align: right;\n",
              "    }\n",
              "</style>\n",
              "<table border=\"1\" class=\"dataframe\">\n",
              "  <thead>\n",
              "    <tr style=\"text-align: right;\">\n",
              "      <th></th>\n",
              "      <th>Questions</th>\n",
              "      <th>Answers</th>\n",
              "    </tr>\n",
              "  </thead>\n",
              "  <tbody>\n",
              "    <tr>\n",
              "      <th>0</th>\n",
              "      <td>amazon fireTVstick</td>\n",
              "      <td>Fire TV Stick https://t.co/2pbG55qJ7h ET</td>\n",
              "    </tr>\n",
              "    <tr>\n",
              "      <th>1</th>\n",
              "      <td>3 different people have given 3 different answ...</td>\n",
              "      <td>We'd like to take a further look into this wit...</td>\n",
              "    </tr>\n",
              "    <tr>\n",
              "      <th>2</th>\n",
              "      <td>Way to drop the ball on customer service so pi...</td>\n",
              "      <td>I'm sorry we've let you down! Without providin...</td>\n",
              "    </tr>\n",
              "    <tr>\n",
              "      <th>3</th>\n",
              "      <td>I want my amazon payments account CLOSED. dm m...</td>\n",
              "      <td>I am unable to affect your account via Twitter...</td>\n",
              "    </tr>\n",
              "    <tr>\n",
              "      <th>4</th>\n",
              "      <td>Okay danke f r die Info</td>\n",
              "      <td>Wir haben zu danken. Sch nen Abend noch.</td>\n",
              "    </tr>\n",
              "    <tr>\n",
              "      <th>...</th>\n",
              "      <td>...</td>\n",
              "      <td>...</td>\n",
              "    </tr>\n",
              "    <tr>\n",
              "      <th>158929</th>\n",
              "      <td>there should be bonus and gifts for regular cu...</td>\n",
              "      <td>We do not have any such offer at this point in...</td>\n",
              "    </tr>\n",
              "    <tr>\n",
              "      <th>158930</th>\n",
              "      <td>Amazon DVD</td>\n",
              "      <td>https://t.co/J6YEizFHia SM</td>\n",
              "    </tr>\n",
              "    <tr>\n",
              "      <th>158931</th>\n",
              "      <td>Amazon Amazon https://t.co/SLol5IqIiO</td>\n",
              "      <td>https://t.co/st4oU5QbhP YM</td>\n",
              "    </tr>\n",
              "    <tr>\n",
              "      <th>158932</th>\n",
              "      <td>ww Amazon https://t.co/Frn8ZegIuB</td>\n",
              "      <td>https://t.co/st4oU5QbhP https://t.co/hY0XTcbk1...</td>\n",
              "    </tr>\n",
              "    <tr>\n",
              "      <th>158933</th>\n",
              "      <td>Se ores de estoy confuso sobre el p blico dest...</td>\n",
              "      <td>Hola Crisp n! Lamento mucho la confusi n causa...</td>\n",
              "    </tr>\n",
              "  </tbody>\n",
              "</table>\n",
              "<p>158934 rows × 2 columns</p>\n",
              "</div>"
            ],
            "text/plain": [
              "                                                Questions                                            Answers\n",
              "0                                      amazon fireTVstick           Fire TV Stick https://t.co/2pbG55qJ7h ET\n",
              "1       3 different people have given 3 different answ...  We'd like to take a further look into this wit...\n",
              "2       Way to drop the ball on customer service so pi...  I'm sorry we've let you down! Without providin...\n",
              "3       I want my amazon payments account CLOSED. dm m...  I am unable to affect your account via Twitter...\n",
              "4                                 Okay danke f r die Info           Wir haben zu danken. Sch nen Abend noch.\n",
              "...                                                   ...                                                ...\n",
              "158929  there should be bonus and gifts for regular cu...  We do not have any such offer at this point in...\n",
              "158930                                         Amazon DVD                         https://t.co/J6YEizFHia SM\n",
              "158931              Amazon Amazon https://t.co/SLol5IqIiO                         https://t.co/st4oU5QbhP YM\n",
              "158932                  ww Amazon https://t.co/Frn8ZegIuB  https://t.co/st4oU5QbhP https://t.co/hY0XTcbk1...\n",
              "158933  Se ores de estoy confuso sobre el p blico dest...  Hola Crisp n! Lamento mucho la confusi n causa...\n",
              "\n",
              "[158934 rows x 2 columns]"
            ]
          },
          "metadata": {
            "tags": []
          },
          "execution_count": 173
        }
      ]
    },
    {
      "cell_type": "code",
      "metadata": {
        "id": "wJj2LVB-NSN3",
        "colab_type": "code",
        "outputId": "a914f740-23df-439f-b5ad-d02f1ae04c1c",
        "colab": {
          "base_uri": "https://localhost:8080/",
          "height": 70
        }
      },
      "source": [
        "print(df.sample(10, random_state=21).iloc[8]['Questions'])\n",
        "print(df.sample(10, random_state=21).iloc[8]['Answers'])"
      ],
      "execution_count": 0,
      "outputs": [
        {
          "output_type": "stream",
          "text": [
            "yet I haven t received it today any reason why you can t guarantee delivery on the day of release? As I m told it ll probably be tomorrow\n",
            "I'm sorry for the trouble. Did we miss the scheduled delivery date for the order?\n"
          ],
          "name": "stdout"
        }
      ]
    },
    {
      "cell_type": "code",
      "metadata": {
        "id": "CwADZkq3Nera",
        "colab_type": "code",
        "outputId": "382bcb44-024a-43b1-fc73-cb1992de99e6",
        "colab": {
          "base_uri": "https://localhost:8080/",
          "height": 343
        }
      },
      "source": [
        "df.sample(10, random_state=21)"
      ],
      "execution_count": 0,
      "outputs": [
        {
          "output_type": "execute_result",
          "data": {
            "text/html": [
              "<div>\n",
              "<style scoped>\n",
              "    .dataframe tbody tr th:only-of-type {\n",
              "        vertical-align: middle;\n",
              "    }\n",
              "\n",
              "    .dataframe tbody tr th {\n",
              "        vertical-align: top;\n",
              "    }\n",
              "\n",
              "    .dataframe thead th {\n",
              "        text-align: right;\n",
              "    }\n",
              "</style>\n",
              "<table border=\"1\" class=\"dataframe\">\n",
              "  <thead>\n",
              "    <tr style=\"text-align: right;\">\n",
              "      <th></th>\n",
              "      <th>Questions</th>\n",
              "      <th>Answers</th>\n",
              "    </tr>\n",
              "  </thead>\n",
              "  <tbody>\n",
              "    <tr>\n",
              "      <th>598608</th>\n",
              "      <td>Yes. Was suppose to be received today got a no...</td>\n",
              "      <td>Thanks for confirming! Has your order been ass...</td>\n",
              "    </tr>\n",
              "    <tr>\n",
              "      <th>464425</th>\n",
              "      <td>Very bad feeling with amazon alway send used a...</td>\n",
              "      <td>We're sorry to hear this. Please report this t...</td>\n",
              "    </tr>\n",
              "    <tr>\n",
              "      <th>862800</th>\n",
              "      <td>To wait a day. I understand it's busy however ...</td>\n",
              "      <td>I fully understand your frustration. This is d...</td>\n",
              "    </tr>\n",
              "    <tr>\n",
              "      <th>710261</th>\n",
              "      <td>and your representative just gave us the phone...</td>\n",
              "      <td>I'm so sorry! We'd like to look into this for ...</td>\n",
              "    </tr>\n",
              "    <tr>\n",
              "      <th>1124338</th>\n",
              "      <td>Now no more rushing to the theatres when amazo...</td>\n",
              "      <td>We are glad to see you happy with our content ...</td>\n",
              "    </tr>\n",
              "    <tr>\n",
              "      <th>1084310</th>\n",
              "      <td>il faut qu'on parle</td>\n",
              "      <td>Bonjour comment peut-on vous aider ?</td>\n",
              "    </tr>\n",
              "    <tr>\n",
              "      <th>1047412</th>\n",
              "      <td>Order 171-5764201-1646726 Placed paid online. ...</td>\n",
              "      <td>Once an order is placed we cannot add items to...</td>\n",
              "    </tr>\n",
              "    <tr>\n",
              "      <th>463429</th>\n",
              "      <td>while ordering getting below error please help...</td>\n",
              "      <td>Looks like the option of scheduled delivery is...</td>\n",
              "    </tr>\n",
              "    <tr>\n",
              "      <th>646892</th>\n",
              "      <td>yet I haven t received it today any reason why...</td>\n",
              "      <td>I'm sorry for the trouble. Did we miss the sch...</td>\n",
              "    </tr>\n",
              "    <tr>\n",
              "      <th>469402</th>\n",
              "      <td>They are not refunding money for damaged product</td>\n",
              "      <td>Sorry for any trouble with the order. Could yo...</td>\n",
              "    </tr>\n",
              "  </tbody>\n",
              "</table>\n",
              "</div>"
            ],
            "text/plain": [
              "                                                 Questions                                            Answers\n",
              "598608   Yes. Was suppose to be received today got a no...  Thanks for confirming! Has your order been ass...\n",
              "464425   Very bad feeling with amazon alway send used a...  We're sorry to hear this. Please report this t...\n",
              "862800   To wait a day. I understand it's busy however ...  I fully understand your frustration. This is d...\n",
              "710261   and your representative just gave us the phone...  I'm so sorry! We'd like to look into this for ...\n",
              "1124338  Now no more rushing to the theatres when amazo...  We are glad to see you happy with our content ...\n",
              "1084310                                il faut qu'on parle               Bonjour comment peut-on vous aider ?\n",
              "1047412  Order 171-5764201-1646726 Placed paid online. ...  Once an order is placed we cannot add items to...\n",
              "463429   while ordering getting below error please help...  Looks like the option of scheduled delivery is...\n",
              "646892   yet I haven t received it today any reason why...  I'm sorry for the trouble. Did we miss the sch...\n",
              "469402    They are not refunding money for damaged product  Sorry for any trouble with the order. Could yo..."
            ]
          },
          "metadata": {
            "tags": []
          },
          "execution_count": 179
        }
      ]
    },
    {
      "cell_type": "code",
      "metadata": {
        "id": "oPHg0FFNOvcd",
        "colab_type": "code",
        "colab": {}
      },
      "source": [
        ""
      ],
      "execution_count": 0,
      "outputs": []
    }
  ]
}