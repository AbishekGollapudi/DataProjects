{
 "cells": [
  {
   "cell_type": "code",
   "execution_count": 1,
   "metadata": {},
   "outputs": [
    {
     "name": "stderr",
     "output_type": "stream",
     "text": [
      "Using TensorFlow backend.\n"
     ]
    }
   ],
   "source": [
    "from __future__ import division\n",
    "import pandas as pd\n",
    "import numpy as np\n",
    "import lightgbm as lgb\n",
    "import os\n",
    "\n",
    "from hyperopt import tpe\n",
    "from hyperopt import STATUS_OK\n",
    "from hyperopt import Trials\n",
    "from hyperopt import hp\n",
    "from hyperopt import fmin\n",
    "\n",
    "from sklearn.ensemble import RandomForestClassifier\n",
    "from sklearn.datasets import make_classification\n",
    "from sklearn.model_selection import train_test_split, GridSearchCV\n",
    "from sklearn.metrics import recall_score, precision_score, f1_score, average_precision_score\n",
    "from sklearn.metrics import accuracy_score, confusion_matrix, precision_recall_curve\n",
    "from sklearn.pipeline import Pipeline\n",
    "from sklearn.impute import SimpleImputer\n",
    "from sklearn.preprocessing import StandardScaler, OneHotEncoder\n",
    "from sklearn.compose import ColumnTransformer\n",
    "from sklearn.metrics import classification_report\n",
    "from sklearn.metrics import accuracy_score, log_loss\n",
    "from sklearn.neighbors import KNeighborsClassifier\n",
    "from sklearn.model_selection import StratifiedKFold\n",
    "from sklearn.svm import SVC, LinearSVC, NuSVC\n",
    "from sklearn.tree import DecisionTreeClassifier\n",
    "from sklearn.ensemble import RandomForestClassifier, AdaBoostClassifier, GradientBoostingClassifier\n",
    "from sklearn.naive_bayes import BernoulliNB, MultinomialNB, GaussianNB\n",
    "from sklearn.discriminant_analysis import LinearDiscriminantAnalysis\n",
    "from sklearn.discriminant_analysis import QuadraticDiscriminantAnalysis\n",
    "from sklearn.linear_model import LogisticRegression\n",
    "from sklearn.preprocessing import label_binarize\n",
    "from sklearn.multiclass import OneVsRestClassifier\n",
    "\n",
    "from imblearn.over_sampling import ADASYN\n",
    "import seaborn as sns\n",
    "import matplotlib.pyplot as plt\n",
    "import plotly.figure_factory as ff\n",
    "import plotly.graph_objs as go\n",
    "\n",
    "from plotly.offline import download_plotlyjs, init_notebook_mode, plot, iplot\n",
    "\n",
    "%matplotlib inline"
   ]
  },
  {
   "cell_type": "code",
   "execution_count": 19,
   "metadata": {},
   "outputs": [],
   "source": [
    "df = pd.read_pickle('cleaned_df.pkl')"
   ]
  },
  {
   "cell_type": "code",
   "execution_count": null,
   "metadata": {},
   "outputs": [],
   "source": [
    "df.head()"
   ]
  },
  {
   "cell_type": "code",
   "execution_count": 20,
   "metadata": {},
   "outputs": [],
   "source": [
    "y = df['Target'] \n",
    "y1 = y.copy()\n",
    "df.drop(columns=['Label', 'Target'], inplace=True) "
   ]
  },
  {
   "cell_type": "code",
   "execution_count": 21,
   "metadata": {},
   "outputs": [],
   "source": [
    "X = df\n",
    "X, X_test, y, y_test = train_test_split(X, y, test_size=0.20, random_state=21, stratify = y)\n",
    "X_train, X_val, y_train, y_val = train_test_split(X, y, test_size=0.25, random_state=21, stratify = y)"
   ]
  },
  {
   "cell_type": "markdown",
   "metadata": {},
   "source": [
    "## Normal Logistic Regression"
   ]
  },
  {
   "cell_type": "code",
   "execution_count": 22,
   "metadata": {},
   "outputs": [],
   "source": [
    "class_labels = ['Benign', 'Brute Force', 'SQL Injection']\n",
    "scaler = StandardScaler() \n",
    "X_train_scaled = scaler.fit_transform(X_train.values) \n",
    "X_val_scaled = scaler.transform(X_val.values)\n",
    "X_test_scaled = scaler.transform(X_test.values)"
   ]
  },
  {
   "cell_type": "code",
   "execution_count": null,
   "metadata": {
    "scrolled": true
   },
   "outputs": [],
   "source": [
    "logistic = LogisticRegression(solver='lbfgs', multi_class='ovr', class_weight='balanced', max_iter=10000, n_jobs=-1)\n",
    "logistic.fit(X_train_scaled,y_train)\n",
    "y_pred = logistic.predict(X_val_scaled)\n",
    "print(classification_report(y_val, y_pred, target_names=class_labels))"
   ]
  },
  {
   "cell_type": "code",
   "execution_count": 23,
   "metadata": {
    "scrolled": true
   },
   "outputs": [
    {
     "name": "stdout",
     "output_type": "stream",
     "text": [
      "               precision    recall  f1-score   support\n",
      "\n",
      "       Benign       1.00      1.00      1.00    168386\n",
      "  Brute Force       0.95      0.97      0.96        76\n",
      "SQL Injection       0.86      0.50      0.63        12\n",
      "\n",
      "     accuracy                           1.00    168474\n",
      "    macro avg       0.94      0.82      0.86    168474\n",
      " weighted avg       1.00      1.00      1.00    168474\n",
      "\n"
     ]
    }
   ],
   "source": [
    "logistic = LogisticRegression(solver='lbfgs', multi_class='ovr', max_iter=1000, n_jobs=-1)\n",
    "logistic.fit(X_train_scaled,y_train)\n",
    "y_pred = logistic.predict(X_val_scaled)\n",
    "print(classification_report(y_val, y_pred, target_names=class_labels))"
   ]
  },
  {
   "cell_type": "code",
   "execution_count": 24,
   "metadata": {
    "scrolled": true
   },
   "outputs": [
    {
     "name": "stdout",
     "output_type": "stream",
     "text": [
      "               precision    recall  f1-score   support\n",
      "\n",
      "       Benign       1.00      1.00      1.00    168386\n",
      "  Brute Force       0.96      0.91      0.93        77\n",
      "SQL Injection       0.75      0.55      0.63        11\n",
      "\n",
      "     accuracy                           1.00    168474\n",
      "    macro avg       0.90      0.82      0.85    168474\n",
      " weighted avg       1.00      1.00      1.00    168474\n",
      "\n"
     ]
    }
   ],
   "source": [
    "y_test_pred = logistic.predict(X_test_scaled)\n",
    "print(classification_report(y_test, y_test_pred, target_names=class_labels))"
   ]
  },
  {
   "cell_type": "code",
   "execution_count": 27,
   "metadata": {
    "scrolled": true
   },
   "outputs": [
    {
     "name": "stderr",
     "output_type": "stream",
     "text": [
      "/home/ubuntu/anaconda3/lib/python3.7/site-packages/sklearn/linear_model/logistic.py:947: ConvergenceWarning:\n",
      "\n",
      "lbfgs failed to converge. Increase the number of iterations.\n",
      "\n",
      "/home/ubuntu/anaconda3/lib/python3.7/site-packages/sklearn/linear_model/logistic.py:947: ConvergenceWarning:\n",
      "\n",
      "lbfgs failed to converge. Increase the number of iterations.\n",
      "\n"
     ]
    }
   ],
   "source": [
    "from sklearn.linear_model import LogisticRegressionCV\n",
    "\n",
    "kfolds = StratifiedKFold(n_splits=3, shuffle=True, random_state=27)\n",
    "clf = LogisticRegressionCV(cv=kfolds.split(X_scaled, y), random_state=0,\n",
    "                           multi_class='ovr', max_iter=1000, n_jobs=-1).fit(X_scaled, y)"
   ]
  },
  {
   "cell_type": "code",
   "execution_count": 29,
   "metadata": {},
   "outputs": [
    {
     "data": {
      "text/plain": [
       "(505422, 56)"
      ]
     },
     "execution_count": 29,
     "metadata": {},
     "output_type": "execute_result"
    }
   ],
   "source": [
    "X_train_scaled.shape"
   ]
  },
  {
   "cell_type": "code",
   "execution_count": 28,
   "metadata": {},
   "outputs": [
    {
     "name": "stdout",
     "output_type": "stream",
     "text": [
      "               precision    recall  f1-score   support\n",
      "\n",
      "       Benign       1.00      1.00      1.00    168386\n",
      "  Brute Force       0.95      0.95      0.95        77\n",
      "SQL Injection       0.70      0.64      0.67        11\n",
      "\n",
      "     accuracy                           1.00    168474\n",
      "    macro avg       0.88      0.86      0.87    168474\n",
      " weighted avg       1.00      1.00      1.00    168474\n",
      "\n"
     ]
    }
   ],
   "source": [
    "y_test_pred = clf.predict(X_test_scaled)\n",
    "print(classification_report(y_test, y_test_pred, target_names=class_labels))"
   ]
  },
  {
   "cell_type": "markdown",
   "metadata": {},
   "source": [
    "## GridSearchCV for Logistic Regression Optimization"
   ]
  },
  {
   "cell_type": "code",
   "execution_count": 25,
   "metadata": {},
   "outputs": [],
   "source": [
    "std = StandardScaler() \n",
    "X_scaled = std.fit_transform(X.values)\n",
    "X_cv_test = std.transform(X_test.values)\n",
    "kfolds = StratifiedKFold(n_splits=3, shuffle=True, random_state=27)"
   ]
  },
  {
   "cell_type": "code",
   "execution_count": null,
   "metadata": {},
   "outputs": [],
   "source": [
    "param_grid = {'C': [0.01, 1, 5, 10, 20, 50],\n",
    "              'solver': ['lbfgs'],\n",
    "              'multi_class' : ['ovr', 'multinomial'],\n",
    "              'class_weight' : [None, 'balanced'],\n",
    "             }\n",
    "\n",
    "logistic = LogisticRegression(max_iter=1000, n_jobs=-1)\n",
    "clf = GridSearchCV(logistic, param_grid, cv=kfolds.split(X_scaled, y), scoring='f1_macro')\n",
    "best_model = clf.fit(X_scaled, y)\n",
    "print('Best Solver:', best_model.best_estimator_.get_params()['solver'])\n",
    "print('Best C:', best_model.best_estimator_.get_params()['C'])\n",
    "print('Best multi-option:', best_model.best_estimator_.get_params()['multi_class'])\n",
    "print('Best class weights:', best_model.best_estimator_.get_params()['class_weight'])"
   ]
  },
  {
   "cell_type": "code",
   "execution_count": null,
   "metadata": {
    "scrolled": true
   },
   "outputs": [],
   "source": [
    "param_grid = {'C': [0.01, 0.01, 1, 5, 10, 20],\n",
    "              'solver': ['lbfgs', 'saga'],\n",
    "              'multi_class' : ['ovr', 'multinomial'],\n",
    "              'class_weight' : [None, 'balanced'],\n",
    "             }\n",
    "\n",
    "logistic = LogisticRegression(max_iter=1000, n_jobs=-1)\n",
    "clf = GridSearchCV(logistic, param_grid, cv=kfolds, scoring='f1_macro')\n",
    "best_model = clf.fit(X_scaled, y)\n",
    "print('Best Solver:', best_model.best_estimator_.get_params()['solver'])\n",
    "print('Best C:', best_model.best_estimator_.get_params()['C'])\n",
    "print('Best multi-option:', best_model.best_estimator_.get_params()['multi_class'])\n",
    "print('Best class weights:', best_model.best_estimator_.get_params()['class_weight'])"
   ]
  },
  {
   "cell_type": "code",
   "execution_count": null,
   "metadata": {},
   "outputs": [],
   "source": [
    "X_train.shape"
   ]
  },
  {
   "cell_type": "code",
   "execution_count": 33,
   "metadata": {},
   "outputs": [
    {
     "data": {
      "text/plain": [
       "LinearSVC(C=1.0, class_weight=None, dual=True, fit_intercept=True,\n",
       "          intercept_scaling=1, loss='squared_hinge', max_iter=100000,\n",
       "          multi_class='ovr', penalty='l2', random_state=None, tol=0.0001,\n",
       "          verbose=0)"
      ]
     },
     "execution_count": 33,
     "metadata": {},
     "output_type": "execute_result"
    }
   ],
   "source": [
    "from sklearn.svm import LinearSVC\n",
    "svm_model = LinearSVC(max_iter=100000)\n",
    "svm_model.fit(X_train_scaled, y_train)"
   ]
  },
  {
   "cell_type": "code",
   "execution_count": 34,
   "metadata": {},
   "outputs": [
    {
     "name": "stdout",
     "output_type": "stream",
     "text": [
      "               precision    recall  f1-score   support\n",
      "\n",
      "       Benign       1.00      1.00      1.00    168386\n",
      "  Brute Force       0.94      0.97      0.95        76\n",
      "SQL Injection       0.75      0.50      0.60        12\n",
      "\n",
      "     accuracy                           1.00    168474\n",
      "    macro avg       0.90      0.82      0.85    168474\n",
      " weighted avg       1.00      1.00      1.00    168474\n",
      "\n"
     ]
    }
   ],
   "source": [
    "y_svm_pred = svm_model.predict(X_val_scaled)\n",
    "print(classification_report(y_val, y_svm_pred, target_names=class_labels))"
   ]
  },
  {
   "cell_type": "code",
   "execution_count": null,
   "metadata": {},
   "outputs": [],
   "source": []
  }
 ],
 "metadata": {
  "kernelspec": {
   "display_name": "Python 3",
   "language": "python",
   "name": "python3"
  },
  "language_info": {
   "codemirror_mode": {
    "name": "ipython",
    "version": 3
   },
   "file_extension": ".py",
   "mimetype": "text/x-python",
   "name": "python",
   "nbconvert_exporter": "python",
   "pygments_lexer": "ipython3",
   "version": "3.7.1"
  }
 },
 "nbformat": 4,
 "nbformat_minor": 2
}
