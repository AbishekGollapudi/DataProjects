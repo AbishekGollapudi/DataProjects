{
 "cells": [
  {
   "cell_type": "code",
   "execution_count": 1,
   "metadata": {},
   "outputs": [
    {
     "name": "stderr",
     "output_type": "stream",
     "text": [
      "Using TensorFlow backend.\n"
     ]
    }
   ],
   "source": [
    "from __future__ import division\n",
    "import pandas as pd\n",
    "import numpy as np\n",
    "import lightgbm as lgb\n",
    "import os\n",
    "import pickle\n",
    "from hyperopt import tpe\n",
    "from hyperopt import STATUS_OK\n",
    "from hyperopt import Trials\n",
    "from hyperopt import hp\n",
    "from hyperopt import fmin\n",
    "from sklearn.preprocessing import LabelBinarizer\n",
    "from sklearn.ensemble import RandomForestClassifier\n",
    "from sklearn.datasets import make_classification\n",
    "from sklearn.model_selection import train_test_split, GridSearchCV, RandomizedSearchCV\n",
    "from sklearn.metrics import recall_score, precision_score, f1_score, average_precision_score\n",
    "from sklearn.metrics import accuracy_score, confusion_matrix, precision_recall_curve\n",
    "from sklearn.pipeline import Pipeline\n",
    "from sklearn.impute import SimpleImputer\n",
    "from sklearn.preprocessing import StandardScaler, OneHotEncoder\n",
    "from sklearn.compose import ColumnTransformer\n",
    "from sklearn.metrics import classification_report\n",
    "from sklearn.metrics import accuracy_score, log_loss\n",
    "from sklearn.neighbors import KNeighborsClassifier\n",
    "from sklearn.model_selection import StratifiedKFold\n",
    "from sklearn.svm import SVC, LinearSVC, NuSVC\n",
    "from sklearn.tree import DecisionTreeClassifier\n",
    "from sklearn.ensemble import RandomForestClassifier, AdaBoostClassifier, GradientBoostingClassifier\n",
    "from sklearn.naive_bayes import BernoulliNB, MultinomialNB, GaussianNB\n",
    "from sklearn.discriminant_analysis import LinearDiscriminantAnalysis\n",
    "from sklearn.discriminant_analysis import QuadraticDiscriminantAnalysis\n",
    "from sklearn.linear_model import LogisticRegression\n",
    "from sklearn.preprocessing import label_binarize\n",
    "from sklearn.multiclass import OneVsRestClassifier\n",
    "from sklearn.preprocessing import OneHotEncoder, StandardScaler\n",
    "from sklearn.neural_network import MLPClassifier\n",
    "\n",
    "from imblearn.over_sampling import ADASYN\n",
    "import seaborn as sns\n",
    "import matplotlib.pyplot as plt\n",
    "import plotly.figure_factory as ff\n",
    "import plotly.graph_objs as go\n",
    "\n",
    "from plotly.offline import download_plotlyjs, init_notebook_mode, plot, iplot\n",
    "\n",
    "%matplotlib inline"
   ]
  },
  {
   "cell_type": "code",
   "execution_count": 2,
   "metadata": {},
   "outputs": [],
   "source": [
    "df = pd.read_pickle('cleaned_df.pkl')"
   ]
  },
  {
   "cell_type": "code",
   "execution_count": 3,
   "metadata": {},
   "outputs": [
    {
     "data": {
      "text/html": [
       "<div>\n",
       "<style scoped>\n",
       "    .dataframe tbody tr th:only-of-type {\n",
       "        vertical-align: middle;\n",
       "    }\n",
       "\n",
       "    .dataframe tbody tr th {\n",
       "        vertical-align: top;\n",
       "    }\n",
       "\n",
       "    .dataframe thead th {\n",
       "        text-align: right;\n",
       "    }\n",
       "</style>\n",
       "<table border=\"1\" class=\"dataframe\">\n",
       "  <thead>\n",
       "    <tr style=\"text-align: right;\">\n",
       "      <th></th>\n",
       "      <th>Flow Duration</th>\n",
       "      <th>Tot Fwd Pkts</th>\n",
       "      <th>Tot Bwd Pkts</th>\n",
       "      <th>Fwd Pkt Len Max</th>\n",
       "      <th>Fwd Pkt Len Mean</th>\n",
       "      <th>Fwd Pkt Len Std</th>\n",
       "      <th>Bwd Pkt Len Max</th>\n",
       "      <th>Bwd Pkt Len Min</th>\n",
       "      <th>Bwd Pkt Len Mean</th>\n",
       "      <th>Bwd Pkt Len Std</th>\n",
       "      <th>...</th>\n",
       "      <th>Active Mean</th>\n",
       "      <th>Active Std</th>\n",
       "      <th>Active Max</th>\n",
       "      <th>Active Min</th>\n",
       "      <th>Idle Mean</th>\n",
       "      <th>Idle Std</th>\n",
       "      <th>Idle Max</th>\n",
       "      <th>Idle Min</th>\n",
       "      <th>Label</th>\n",
       "      <th>Target</th>\n",
       "    </tr>\n",
       "  </thead>\n",
       "  <tbody>\n",
       "    <tr>\n",
       "      <td>0</td>\n",
       "      <td>1532698</td>\n",
       "      <td>11</td>\n",
       "      <td>11</td>\n",
       "      <td>648</td>\n",
       "      <td>107.181818</td>\n",
       "      <td>196.245162</td>\n",
       "      <td>976</td>\n",
       "      <td>0</td>\n",
       "      <td>179.0</td>\n",
       "      <td>364.186491</td>\n",
       "      <td>...</td>\n",
       "      <td>0.0</td>\n",
       "      <td>0.0</td>\n",
       "      <td>0</td>\n",
       "      <td>0</td>\n",
       "      <td>0.0</td>\n",
       "      <td>0.0</td>\n",
       "      <td>0</td>\n",
       "      <td>0</td>\n",
       "      <td>Benign</td>\n",
       "      <td>0</td>\n",
       "    </tr>\n",
       "    <tr>\n",
       "      <td>3</td>\n",
       "      <td>1745392</td>\n",
       "      <td>11</td>\n",
       "      <td>11</td>\n",
       "      <td>648</td>\n",
       "      <td>107.181818</td>\n",
       "      <td>196.245162</td>\n",
       "      <td>976</td>\n",
       "      <td>0</td>\n",
       "      <td>179.0</td>\n",
       "      <td>364.186491</td>\n",
       "      <td>...</td>\n",
       "      <td>0.0</td>\n",
       "      <td>0.0</td>\n",
       "      <td>0</td>\n",
       "      <td>0</td>\n",
       "      <td>0.0</td>\n",
       "      <td>0.0</td>\n",
       "      <td>0</td>\n",
       "      <td>0</td>\n",
       "      <td>Benign</td>\n",
       "      <td>0</td>\n",
       "    </tr>\n",
       "    <tr>\n",
       "      <td>7</td>\n",
       "      <td>1566324</td>\n",
       "      <td>11</td>\n",
       "      <td>11</td>\n",
       "      <td>648</td>\n",
       "      <td>107.181818</td>\n",
       "      <td>196.245162</td>\n",
       "      <td>976</td>\n",
       "      <td>0</td>\n",
       "      <td>179.0</td>\n",
       "      <td>364.186491</td>\n",
       "      <td>...</td>\n",
       "      <td>0.0</td>\n",
       "      <td>0.0</td>\n",
       "      <td>0</td>\n",
       "      <td>0</td>\n",
       "      <td>0.0</td>\n",
       "      <td>0.0</td>\n",
       "      <td>0</td>\n",
       "      <td>0</td>\n",
       "      <td>Benign</td>\n",
       "      <td>0</td>\n",
       "    </tr>\n",
       "    <tr>\n",
       "      <td>12</td>\n",
       "      <td>1611060</td>\n",
       "      <td>13</td>\n",
       "      <td>11</td>\n",
       "      <td>648</td>\n",
       "      <td>90.692308</td>\n",
       "      <td>183.612538</td>\n",
       "      <td>976</td>\n",
       "      <td>0</td>\n",
       "      <td>179.0</td>\n",
       "      <td>364.186491</td>\n",
       "      <td>...</td>\n",
       "      <td>0.0</td>\n",
       "      <td>0.0</td>\n",
       "      <td>0</td>\n",
       "      <td>0</td>\n",
       "      <td>0.0</td>\n",
       "      <td>0.0</td>\n",
       "      <td>0</td>\n",
       "      <td>0</td>\n",
       "      <td>Benign</td>\n",
       "      <td>0</td>\n",
       "    </tr>\n",
       "    <tr>\n",
       "      <td>16</td>\n",
       "      <td>1662832</td>\n",
       "      <td>11</td>\n",
       "      <td>11</td>\n",
       "      <td>648</td>\n",
       "      <td>107.181818</td>\n",
       "      <td>196.245162</td>\n",
       "      <td>976</td>\n",
       "      <td>0</td>\n",
       "      <td>179.0</td>\n",
       "      <td>364.186491</td>\n",
       "      <td>...</td>\n",
       "      <td>0.0</td>\n",
       "      <td>0.0</td>\n",
       "      <td>0</td>\n",
       "      <td>0</td>\n",
       "      <td>0.0</td>\n",
       "      <td>0.0</td>\n",
       "      <td>0</td>\n",
       "      <td>0</td>\n",
       "      <td>Benign</td>\n",
       "      <td>0</td>\n",
       "    </tr>\n",
       "  </tbody>\n",
       "</table>\n",
       "<p>5 rows × 58 columns</p>\n",
       "</div>"
      ],
      "text/plain": [
       "    Flow Duration  Tot Fwd Pkts  Tot Bwd Pkts  Fwd Pkt Len Max  \\\n",
       "0         1532698            11            11              648   \n",
       "3         1745392            11            11              648   \n",
       "7         1566324            11            11              648   \n",
       "12        1611060            13            11              648   \n",
       "16        1662832            11            11              648   \n",
       "\n",
       "    Fwd Pkt Len Mean  Fwd Pkt Len Std  Bwd Pkt Len Max  Bwd Pkt Len Min  \\\n",
       "0         107.181818       196.245162              976                0   \n",
       "3         107.181818       196.245162              976                0   \n",
       "7         107.181818       196.245162              976                0   \n",
       "12         90.692308       183.612538              976                0   \n",
       "16        107.181818       196.245162              976                0   \n",
       "\n",
       "    Bwd Pkt Len Mean  Bwd Pkt Len Std  ...  Active Mean  Active Std  \\\n",
       "0              179.0       364.186491  ...          0.0         0.0   \n",
       "3              179.0       364.186491  ...          0.0         0.0   \n",
       "7              179.0       364.186491  ...          0.0         0.0   \n",
       "12             179.0       364.186491  ...          0.0         0.0   \n",
       "16             179.0       364.186491  ...          0.0         0.0   \n",
       "\n",
       "    Active Max  Active Min  Idle Mean  Idle Std  Idle Max  Idle Min   Label  \\\n",
       "0            0           0        0.0       0.0         0         0  Benign   \n",
       "3            0           0        0.0       0.0         0         0  Benign   \n",
       "7            0           0        0.0       0.0         0         0  Benign   \n",
       "12           0           0        0.0       0.0         0         0  Benign   \n",
       "16           0           0        0.0       0.0         0         0  Benign   \n",
       "\n",
       "    Target  \n",
       "0        0  \n",
       "3        0  \n",
       "7        0  \n",
       "12       0  \n",
       "16       0  \n",
       "\n",
       "[5 rows x 58 columns]"
      ]
     },
     "execution_count": 3,
     "metadata": {},
     "output_type": "execute_result"
    }
   ],
   "source": [
    "df.head()"
   ]
  },
  {
   "cell_type": "code",
   "execution_count": 4,
   "metadata": {},
   "outputs": [
    {
     "data": {
      "text/plain": [
       "array(['Benign', 'Brute Force', 'SQL Injection'], dtype=object)"
      ]
     },
     "execution_count": 4,
     "metadata": {},
     "output_type": "execute_result"
    }
   ],
   "source": [
    "df['Label'].unique()"
   ]
  },
  {
   "cell_type": "markdown",
   "metadata": {},
   "source": [
    "## Benign vs. Rest"
   ]
  },
  {
   "cell_type": "code",
   "execution_count": 5,
   "metadata": {},
   "outputs": [],
   "source": [
    "df1 = df.copy()"
   ]
  },
  {
   "cell_type": "code",
   "execution_count": 6,
   "metadata": {},
   "outputs": [],
   "source": [
    "def set_target(my_str):\n",
    "    if my_str == 'Benign':\n",
    "        return 1 \n",
    "    elif my_str == 'Brute Force':\n",
    "        return 0\n",
    "    elif my_str == 'SQL Injection':\n",
    "        return 0\n",
    "\n",
    "df1['Target'] = df1['Label'].apply(set_target)"
   ]
  },
  {
   "cell_type": "markdown",
   "metadata": {},
   "source": [
    "## Splitting Data"
   ]
  },
  {
   "cell_type": "code",
   "execution_count": 7,
   "metadata": {},
   "outputs": [],
   "source": [
    "y = df1['Target'] \n",
    "y1 = y.copy()\n",
    "df1.drop(columns=['Label', 'Target'], inplace=True) \n",
    "X = df1\n",
    "X, X_test, y, y_test = train_test_split(X, y1, test_size=0.20, random_state=91, stratify = y1)\n",
    "X_train, X_val, y_train, y_val = train_test_split(X, y, test_size=0.25, random_state=95, stratify = y)"
   ]
  },
  {
   "cell_type": "code",
   "execution_count": 8,
   "metadata": {},
   "outputs": [
    {
     "name": "stdout",
     "output_type": "stream",
     "text": [
      "              precision    recall  f1-score   support\n",
      "\n",
      "           0       1.00      0.97      0.98        88\n",
      "           1       1.00      1.00      1.00    168386\n",
      "\n",
      "    accuracy                           1.00    168474\n",
      "   macro avg       1.00      0.98      0.99    168474\n",
      "weighted avg       1.00      1.00      1.00    168474\n",
      "\n"
     ]
    }
   ],
   "source": [
    "benign_classifier = RandomForestClassifier(n_estimators=100, n_jobs=-1)\n",
    "benign_classifier.fit(X_train, y_train)\n",
    "benign_y_val = benign_classifier.predict(X_val)\n",
    "print(classification_report(y_val, benign_y_val))"
   ]
  },
  {
   "cell_type": "code",
   "execution_count": 10,
   "metadata": {},
   "outputs": [
    {
     "name": "stdout",
     "output_type": "stream",
     "text": [
      "              precision    recall  f1-score   support\n",
      "\n",
      "           0       1.00      0.97      0.98        88\n",
      "           1       1.00      1.00      1.00    168386\n",
      "\n",
      "    accuracy                           1.00    168474\n",
      "   macro avg       1.00      0.98      0.99    168474\n",
      "weighted avg       1.00      1.00      1.00    168474\n",
      "\n"
     ]
    }
   ],
   "source": [
    "y_tuned = (benign_classifier.predict_proba(X_val)[:,1] > 0.5)\n",
    "print(classification_report(y_val, y_tuned))"
   ]
  },
  {
   "cell_type": "code",
   "execution_count": 9,
   "metadata": {},
   "outputs": [
    {
     "data": {
      "image/png": "[encoded data removed]",
      "text/plain": [
       "<Figure size 480x320 with 1 Axes>"
      ]
     },
     "metadata": {
      "needs_background": "light"
     },
     "output_type": "display_data"
    }
   ],
   "source": [
    "precision_curve, recall_curve, threshold_curve = precision_recall_curve(y_val, benign_classifier.predict_proba(X_val)[:,1] )\n",
    "\n",
    "plt.figure(dpi=80)\n",
    "plt.plot(threshold_curve, precision_curve[1:],label='precision')\n",
    "plt.plot(threshold_curve, recall_curve[1:], label='recall')\n",
    "plt.legend(loc='lower left')\n",
    "plt.xlabel('Threshold (above this probability, label as Benign');\n",
    "plt.title('Precision and Recall Curves');"
   ]
  },
  {
   "cell_type": "markdown",
   "metadata": {},
   "source": [
    "## BruteForce vs. Rest"
   ]
  },
  {
   "cell_type": "code",
   "execution_count": 11,
   "metadata": {},
   "outputs": [],
   "source": [
    "df2 = df.copy()\n",
    "def set_target(my_str):\n",
    "    if my_str == 'Benign':\n",
    "        return 0\n",
    "    elif my_str == 'Brute Force':\n",
    "        return 1\n",
    "    elif my_str == 'SQL Injection':\n",
    "        return 0\n",
    "\n",
    "df2['Target'] = df2['Label'].apply(set_target)\n",
    "\n",
    "y = df2['Target'] \n",
    "y1 = y.copy()\n",
    "df2.drop(columns=['Label', 'Target'], inplace=True) \n",
    "X = df2\n",
    "X, X_test, y, y_test = train_test_split(X, y1, test_size=0.20, random_state=91, stratify = y1)\n",
    "X_train, X_val, y_train, y_val = train_test_split(X, y, test_size=0.25, random_state=95, stratify = y)"
   ]
  },
  {
   "cell_type": "code",
   "execution_count": 12,
   "metadata": {},
   "outputs": [
    {
     "name": "stdout",
     "output_type": "stream",
     "text": [
      "              precision    recall  f1-score   support\n",
      "\n",
      "           0       1.00      1.00      1.00    168398\n",
      "           1       1.00      0.92      0.96        76\n",
      "\n",
      "    accuracy                           1.00    168474\n",
      "   macro avg       1.00      0.96      0.98    168474\n",
      "weighted avg       1.00      1.00      1.00    168474\n",
      "\n"
     ]
    }
   ],
   "source": [
    "brute_classifier = RandomForestClassifier(n_estimators=100, n_jobs=-1)\n",
    "brute_classifier.fit(X_train, y_train)\n",
    "brute_y_val = brute_classifier.predict(X_val) \n",
    "print(classification_report(y_val, brute_y_val))"
   ]
  },
  {
   "cell_type": "code",
   "execution_count": 31,
   "metadata": {},
   "outputs": [
    {
     "name": "stdout",
     "output_type": "stream",
     "text": [
      "              precision    recall  f1-score   support\n",
      "\n",
      "           0       1.00      1.00      1.00    168398\n",
      "           1       0.89      0.96      0.92        76\n",
      "\n",
      "    accuracy                           1.00    168474\n",
      "   macro avg       0.95      0.98      0.96    168474\n",
      "weighted avg       1.00      1.00      1.00    168474\n",
      "\n"
     ]
    }
   ],
   "source": [
    "y_tuned = (brute_classifier.predict_proba(X_val)[:,1] > 0.05)\n",
    "print(classification_report(y_val, y_tuned))"
   ]
  },
  {
   "cell_type": "code",
   "execution_count": 13,
   "metadata": {},
   "outputs": [
    {
     "data": {
      "image/png": "[encoded data removed]",
      "text/plain": [
       "<Figure size 480x320 with 1 Axes>"
      ]
     },
     "metadata": {
      "needs_background": "light"
     },
     "output_type": "display_data"
    }
   ],
   "source": [
    "precision_curve, recall_curve, threshold_curve = precision_recall_curve(y_val, brute_classifier.predict_proba(X_val)[:,1] )\n",
    "\n",
    "plt.figure(dpi=80)\n",
    "plt.plot(threshold_curve, precision_curve[1:],label='precision')\n",
    "plt.plot(threshold_curve, recall_curve[1:], label='recall')\n",
    "plt.legend(loc='lower left')\n",
    "plt.xlabel('Threshold (above this probability, label as BruteForce)');\n",
    "plt.title('Precision and Recall Curves');"
   ]
  },
  {
   "cell_type": "markdown",
   "metadata": {},
   "source": [
    "## SQL Injection vs. Rest"
   ]
  },
  {
   "cell_type": "code",
   "execution_count": 34,
   "metadata": {},
   "outputs": [],
   "source": [
    "df3 = df.copy()\n",
    "def set_target(my_str):\n",
    "    if my_str == 'Benign':\n",
    "        return 0\n",
    "    elif my_str == 'Brute Force':\n",
    "        return 0\n",
    "    elif my_str == 'SQL Injection':\n",
    "        return 1\n",
    "\n",
    "df3['Target'] = df3['Label'].apply(set_target)\n",
    "\n",
    "y = df3['Target'] \n",
    "y1 = y.copy()\n",
    "df3.drop(columns=['Label', 'Target'], inplace=True) \n",
    "X = df3\n",
    "X, X_test, y, y_test = train_test_split(X, y1, test_size=0.20, random_state=91, stratify = y1)\n",
    "X_train, X_val, y_train, y_val = train_test_split(X, y, test_size=0.25, random_state=95, stratify = y)"
   ]
  },
  {
   "cell_type": "code",
   "execution_count": 35,
   "metadata": {},
   "outputs": [
    {
     "name": "stdout",
     "output_type": "stream",
     "text": [
      "              precision    recall  f1-score   support\n",
      "\n",
      "           0       1.00      1.00      1.00    168463\n",
      "           1       1.00      0.45      0.62        11\n",
      "\n",
      "    accuracy                           1.00    168474\n",
      "   macro avg       1.00      0.73      0.81    168474\n",
      "weighted avg       1.00      1.00      1.00    168474\n",
      "\n"
     ]
    }
   ],
   "source": [
    "sql_classifier = RandomForestClassifier(n_estimators=100, n_jobs=-1)\n",
    "sql_classifier.fit(X_train, y_train)\n",
    "sql_y_val = sql_classifier.predict(X_val) \n",
    "print(classification_report(y_val, sql_y_val))"
   ]
  },
  {
   "cell_type": "code",
   "execution_count": 47,
   "metadata": {},
   "outputs": [
    {
     "name": "stdout",
     "output_type": "stream",
     "text": [
      "              precision    recall  f1-score   support\n",
      "\n",
      "           0       1.00      1.00      1.00    168463\n",
      "           1       0.79      1.00      0.88        11\n",
      "\n",
      "    accuracy                           1.00    168474\n",
      "   macro avg       0.89      1.00      0.94    168474\n",
      "weighted avg       1.00      1.00      1.00    168474\n",
      "\n"
     ]
    }
   ],
   "source": [
    "y_tuned = (sql_classifier.predict_proba(X_val)[:,1] > 0.2)\n",
    "print(classification_report(y_val, y_tuned))"
   ]
  },
  {
   "cell_type": "code",
   "execution_count": 46,
   "metadata": {},
   "outputs": [
    {
     "data": {
      "image/png": "[encoded data removed]",
      "text/plain": [
       "<Figure size 480x320 with 1 Axes>"
      ]
     },
     "metadata": {
      "needs_background": "light"
     },
     "output_type": "display_data"
    }
   ],
   "source": [
    "precision_curve, recall_curve, threshold_curve = precision_recall_curve(y_val, sql_classifier.predict_proba(X_val)[:,1] )\n",
    "\n",
    "plt.figure(dpi=80)\n",
    "plt.plot(threshold_curve, precision_curve[1:],label='precision')\n",
    "plt.plot(threshold_curve, recall_curve[1:], label='recall')\n",
    "plt.legend(loc='lower left')\n",
    "plt.xlabel('Threshold (above this probability, label as SQL)');\n",
    "plt.title('Precision and Recall Curves');\n",
    "#plt.xlim([0, 1])"
   ]
  },
  {
   "cell_type": "code",
   "execution_count": null,
   "metadata": {},
   "outputs": [],
   "source": []
  }
 ],
 "metadata": {
  "kernelspec": {
   "display_name": "Python 3",
   "language": "python",
   "name": "python3"
  },
  "language_info": {
   "codemirror_mode": {
    "name": "ipython",
    "version": 3
   },
   "file_extension": ".py",
   "mimetype": "text/x-python",
   "name": "python",
   "nbconvert_exporter": "python",
   "pygments_lexer": "ipython3",
   "version": "3.7.1"
  }
 },
 "nbformat": 4,
 "nbformat_minor": 2
}
